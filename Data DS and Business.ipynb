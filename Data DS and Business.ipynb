{
 "cells": [
  {
   "cell_type": "code",
   "execution_count": 42,
   "id": "4880d5f8-7143-4881-976e-af2e8573fb06",
   "metadata": {},
   "outputs": [],
   "source": [
    "import requests\n",
    "import zipfile\n",
    "import ipywidgets as widgets\n",
    "import pandas as pd\n",
    "import numpy as np\n",
    "import plotly.graph_objects as go\n",
    "import plotly.express as px\n",
    "from plotly.subplots import make_subplots\n",
    "import datetime\n",
    "import matplotlib.pyplot as plt\n",
    "import seaborn as sns\n",
    "from statsmodels.tsa.seasonal import seasonal_decompose\n",
    "from statsmodels.tsa.stattools import adfuller\n",
    "from scipy.stats import pearsonr\n",
    "import statsmodels.api as sm\n",
    "from statsmodels.tsa.arima.model import ARIMA\n",
    "from sklearn.metrics import mean_squared_error\n",
    "from statsmodels.graphics.tsaplots import plot_acf, plot_pacf"
   ]
  },
  {
   "cell_type": "markdown",
   "id": "ae90bff9-1fd3-49c6-a178-3da3baa21e81",
   "metadata": {},
   "source": [
    "## Data Collection"
   ]
  },
  {
   "cell_type": "markdown",
   "id": "5d41119b",
   "metadata": {},
   "source": [
    "### Data URL"
   ]
  },
  {
   "cell_type": "code",
   "execution_count": 2,
   "id": "932e7528-d02b-45a5-a70e-23fb18974de4",
   "metadata": {},
   "outputs": [],
   "source": [
    "url=[\"https://data.binance.vision/data/spot/monthly/klines/XRPUSDT/1d/XRPUSDT-1d-2023-11.zip\",\n",
    "\"https://data.binance.vision/data/spot/monthly/klines/XRPUSDT/1d/XRPUSDT-1d-2023-10.zip\",\n",
    "\"https://data.binance.vision/data/spot/monthly/klines/XRPUSDT/1d/XRPUSDT-1d-2023-09.zip\",\n",
    "\"https://data.binance.vision/data/spot/monthly/klines/XRPUSDT/1d/XRPUSDT-1d-2023-08.zip\",\n",
    "\"https://data.binance.vision/data/spot/monthly/klines/XRPUSDT/1d/XRPUSDT-1d-2023-07.zip\",\n",
    "\"https://data.binance.vision/data/spot/monthly/klines/XRPUSDT/1d/XRPUSDT-1d-2023-06.zip\",\n",
    "\"https://data.binance.vision/data/spot/monthly/klines/XRPUSDT/1d/XRPUSDT-1d-2023-05.zip\",\n",
    "\"https://data.binance.vision/data/spot/monthly/klines/XRPUSDT/1d/XRPUSDT-1d-2023-04.zip\",\n",
    "\"https://data.binance.vision/data/spot/monthly/klines/XRPUSDT/1d/XRPUSDT-1d-2023-03.zip\",\n",
    "\"https://data.binance.vision/data/spot/monthly/klines/XRPUSDT/1d/XRPUSDT-1d-2023-02.zip\",\n",
    "\"https://data.binance.vision/data/spot/monthly/klines/XRPUSDT/1d/XRPUSDT-1d-2023-01.zip\"]\n"
   ]
  },
  {
   "cell_type": "markdown",
   "id": "437ee530",
   "metadata": {},
   "source": [
    "### November data"
   ]
  },
  {
   "cell_type": "code",
   "execution_count": 3,
   "id": "d258c932",
   "metadata": {},
   "outputs": [],
   "source": [
    "url_november=url[0]\n",
    "response = requests.get(url_november)\n",
    "# Check if the request was successful\n",
    "if response.status_code == 200:\n",
    "    with open('XRPUSDT-1d-2023-11.zip', 'wb') as file:\n",
    "        file.write(response.content)\n",
    "else:\n",
    "    print(f'Failed to retrieve file: {response.status_code}')\n",
    "\n",
    "with zipfile.ZipFile('XRPUSDT-1d-2023-11.zip', 'r') as zip_ref:\n",
    "    zip_ref.extractall('data')  # This will create a folder named 'data' and extract all files into it\n",
    "data_november = pd.read_csv('data/XRPUSDT-1d-2023-11.csv', header=None)  # Replace 'file.csv' with the name of the file you want to "
   ]
  },
  {
   "cell_type": "markdown",
   "id": "3001bcf4",
   "metadata": {},
   "source": [
    "### October data"
   ]
  },
  {
   "cell_type": "code",
   "execution_count": 4,
   "id": "3cb0c837",
   "metadata": {},
   "outputs": [],
   "source": [
    "url_october=url[1]\n",
    "response = requests.get(url_november)\n",
    "# Check if the request was successful\n",
    "if response.status_code == 200:\n",
    "    with open('XRPUSDT-1d-2023-10.zip', 'wb') as file:\n",
    "        file.write(response.content)\n",
    "else:\n",
    "    print(f'Failed to retrieve file: {response.status_code}')\n",
    "\n",
    "with zipfile.ZipFile('XRPUSDT-1d-2023-10.zip', 'r') as zip_ref:\n",
    "    zip_ref.extractall('data')  # This will create a folder named 'data' and extract all files into it\n",
    "data_october = pd.read_csv('data/XRPUSDT-1d-2023-10.csv', header=None)  # Replace 'file.csv' with the name of the file you want to "
   ]
  },
  {
   "cell_type": "markdown",
   "id": "a45995c5-3354-4510-a1f3-1969639a978c",
   "metadata": {},
   "source": [
    "### September data"
   ]
  },
  {
   "cell_type": "code",
   "execution_count": 5,
   "id": "48fcb844-0823-4b90-859e-fb8ee9a8255d",
   "metadata": {},
   "outputs": [],
   "source": [
    "url_september=url[2]\n",
    "response = requests.get(url_september)\n",
    "# Check if the request was successful\n",
    "if response.status_code == 200:\n",
    "    with open('XRPUSDT-1d-2023-09.zip', 'wb') as file:\n",
    "        file.write(response.content)\n",
    "else:\n",
    "    print(f'Failed to retrieve file: {response.status_code}')\n",
    "\n",
    "with zipfile.ZipFile('XRPUSDT-1d-2023-09.zip', 'r') as zip_ref:\n",
    "    zip_ref.extractall('data')  # This will create a folder named 'data' and extract all files into it\n",
    "data_september = pd.read_csv('data/XRPUSDT-1d-2023-09.csv', header=None)  # Replace 'file.csv' with the name of the file you want to "
   ]
  },
  {
   "cell_type": "markdown",
   "id": "32e70833-9cc5-414f-a1bd-307950f63a56",
   "metadata": {},
   "source": [
    "###  August data"
   ]
  },
  {
   "cell_type": "code",
   "execution_count": 6,
   "id": "f7db1293-0423-4004-bb08-b18ddfdc76ff",
   "metadata": {},
   "outputs": [],
   "source": [
    "url_august = url[3] # Replace with the URL of the ZIP file\n",
    "response = requests.get(url_august)\n",
    "if response.status_code == 200:\n",
    "    with open('XRPUSDT-1d-2023-08.zip', 'wb') as file:\n",
    "        file.write(response.content)\n",
    "else:\n",
    "    print(f'Failed to retrieve file: {response.status_code}')\n",
    "\n",
    "with zipfile.ZipFile('XRPUSDT-1d-2023-08.zip', 'r') as zip_ref:\n",
    "    zip_ref.extractall('data')  # This will create a folder named 'data' and extract all files into it\n",
    "data_august = pd.read_csv('data/XRPUSDT-1d-2023-08.csv', header=None)  # Replace 'file.csv' with the name of the file you want to load\n"
   ]
  },
  {
   "cell_type": "markdown",
   "id": "527ac38d-fe24-4b6a-a344-20934d08ef37",
   "metadata": {},
   "source": [
    "### July data"
   ]
  },
  {
   "cell_type": "code",
   "execution_count": 7,
   "id": "b07c14fb-9c38-4f57-b292-8b8be74bea9f",
   "metadata": {},
   "outputs": [],
   "source": [
    "url_july = url[4] # Replace with the URL of the ZIP file\n",
    "response = requests.get(url_july)\n",
    "if response.status_code == 200:\n",
    "    with open('XRPUSDT-1d-2023-07.zip', 'wb') as file:\n",
    "        file.write(response.content)\n",
    "else:\n",
    "    print(f'Failed to retrieve file: {response.status_code}')\n",
    "\n",
    "with zipfile.ZipFile('XRPUSDT-1d-2023-07.zip', 'r') as zip_ref:\n",
    "    zip_ref.extractall('data')  # This will create a folder named 'data' and extract all files into it\n",
    "data_july = pd.read_csv('data/XRPUSDT-1d-2023-07.csv', header=None)  # Replace 'file.csv' with the name of the file you want to load"
   ]
  },
  {
   "cell_type": "markdown",
   "id": "4a8fa2e8-0b54-4458-9ff6-0dce45801e1e",
   "metadata": {},
   "source": [
    "### June data"
   ]
  },
  {
   "cell_type": "code",
   "execution_count": 8,
   "id": "33bcf772-c19b-4f4b-b93f-7fa10f72bbfa",
   "metadata": {},
   "outputs": [],
   "source": [
    "url_june = url[5] # Replace with the URL of the ZIP file\n",
    "response = requests.get(url_june)\n",
    "if response.status_code == 200:\n",
    "    with open('XRPUSDT-1d-2023-06.zip', 'wb') as file:\n",
    "        file.write(response.content)\n",
    "else:\n",
    "    print(f'Failed to retrieve file: {response.status_code}')\n",
    "\n",
    "with zipfile.ZipFile('XRPUSDT-1d-2023-06.zip', 'r') as zip_ref:\n",
    "    zip_ref.extractall('data')  # This will create a folder named 'data' and extract all files into it\n",
    "data_june= pd.read_csv('data/XRPUSDT-1d-2023-06.csv', header=None)  # Replace 'file.csv' with the name of the file you want to load"
   ]
  },
  {
   "cell_type": "markdown",
   "id": "e70b8cc4-8d9e-4560-bc4f-d63942a24faa",
   "metadata": {},
   "source": [
    "### Mai data"
   ]
  },
  {
   "cell_type": "code",
   "execution_count": 9,
   "id": "526768ee-2b7b-411e-ba3a-f38a0d0f98e4",
   "metadata": {},
   "outputs": [],
   "source": [
    "url_mai = url[6] # Replace with the URL of the ZIP file\n",
    "response = requests.get(url_mai)\n",
    "if response.status_code == 200:\n",
    "    with open('XRPUSDT-1d-2023-05.zip', 'wb') as file:\n",
    "        file.write(response.content)\n",
    "else:\n",
    "    print(f'Failed to retrieve file: {response.status_code}')\n",
    "\n",
    "with zipfile.ZipFile('XRPUSDT-1d-2023-05.zip', 'r') as zip_ref:\n",
    "    zip_ref.extractall('data')  # This will create a folder named 'data' and extract all files into it\n",
    "data_mai= pd.read_csv('data/XRPUSDT-1d-2023-05.csv', header=None)  # Replace 'file.csv' with the name of the file you want to load"
   ]
  },
  {
   "cell_type": "markdown",
   "id": "728672ae-90b8-4d3c-9071-13543d059da0",
   "metadata": {},
   "source": [
    "###  April data"
   ]
  },
  {
   "cell_type": "code",
   "execution_count": 10,
   "id": "76107269-64d1-41fd-82ff-d9f080054940",
   "metadata": {},
   "outputs": [],
   "source": [
    "url_april = url[7] # Replace with the URL of the ZIP file\n",
    "response = requests.get(url_april)\n",
    "if response.status_code == 200:\n",
    "    with open('XRPUSDT-1d-2023-04.zip', 'wb') as file:\n",
    "        file.write(response.content)\n",
    "else:\n",
    "    print(f'Failed to retrieve file: {response.status_code}')\n",
    "\n",
    "with zipfile.ZipFile('XRPUSDT-1d-2023-04.zip', 'r') as zip_ref:\n",
    "    zip_ref.extractall('data')  # This will create a folder named 'data' and extract all files into it\n",
    "data_april = pd.read_csv('data/XRPUSDT-1d-2023-04.csv', header=None)  # Replace 'file.csv' with the name of the file you want to load"
   ]
  },
  {
   "cell_type": "markdown",
   "id": "625945d3-8f4f-420c-b5a2-feb35e5e1bca",
   "metadata": {},
   "source": [
    "###  March data"
   ]
  },
  {
   "cell_type": "code",
   "execution_count": 11,
   "id": "912de2e5-e40d-435f-94e4-f143915358ec",
   "metadata": {},
   "outputs": [],
   "source": [
    "url_march = url[8] # Replace with the URL of the ZIP file\n",
    "response = requests.get(url_march)\n",
    "if response.status_code == 200:\n",
    "    with open('XRPUSDT-1d-2023-03.zip', 'wb') as file:\n",
    "        file.write(response.content)\n",
    "else:\n",
    "    print(f'Failed to retrieve file: {response.status_code}')\n",
    "\n",
    "with zipfile.ZipFile('XRPUSDT-1d-2023-03.zip', 'r') as zip_ref:\n",
    "    zip_ref.extractall('data')  # This will create a folder named 'data' and extract all files into it\n",
    "data_march = pd.read_csv('data/XRPUSDT-1d-2023-03.csv', header=None)  # Replace 'file.csv' with the name of the file you want to load"
   ]
  },
  {
   "cell_type": "markdown",
   "id": "f0b4b891-ed7b-473e-8671-2c697d4f7750",
   "metadata": {},
   "source": [
    "### February data"
   ]
  },
  {
   "cell_type": "code",
   "execution_count": 12,
   "id": "e5229f9a-aec1-4cbd-96c0-3ad666dcebb8",
   "metadata": {},
   "outputs": [],
   "source": [
    "url_february = url[9] # Replace with the URL of the ZIP file\n",
    "response = requests.get(url_february)\n",
    "if response.status_code == 200:\n",
    "    with open('XRPUSDT-1d-2023-02.zip', 'wb') as file:\n",
    "        file.write(response.content)\n",
    "else:\n",
    "    print(f'Failed to retrieve file: {response.status_code}')\n",
    "\n",
    "with zipfile.ZipFile('XRPUSDT-1d-2023-02.zip', 'r') as zip_ref:\n",
    "    zip_ref.extractall('data')  # This will create a folder named 'data' and extract all files into it\n",
    "data_february= pd.read_csv('data/XRPUSDT-1d-2023-02.csv', header=None)  # Replace 'file.csv' with the name of the file you want to load"
   ]
  },
  {
   "cell_type": "markdown",
   "id": "78baa985-bc70-4283-8730-2c60ebf64909",
   "metadata": {},
   "source": [
    "### January data"
   ]
  },
  {
   "cell_type": "code",
   "execution_count": 13,
   "id": "4a38234b-f0fc-4d98-8624-ba9b09ec648f",
   "metadata": {},
   "outputs": [],
   "source": [
    "url_january = url[10] # Replace with the URL of the ZIP file\n",
    "response = requests.get(url_january)\n",
    "if response.status_code == 200:\n",
    "    with open('XRPUSDT-1d-2023-01.zip', 'wb') as file:\n",
    "        file.write(response.content)\n",
    "else:\n",
    "    print(f'Failed to retrieve file: {response.status_code}')\n",
    "\n",
    "with zipfile.ZipFile('XRPUSDT-1d-2023-01.zip', 'r') as zip_ref:\n",
    "    zip_ref.extractall('data')  # This will create a folder named 'data' and extract all files into it\n",
    "data_january= pd.read_csv('data/XRPUSDT-1d-2023-01.csv', header=None)  # Replace 'file.csv' with the name of the file you want to load"
   ]
  },
  {
   "cell_type": "markdown",
   "id": "c10542fc-06bd-4612-b0f8-d2c181910647",
   "metadata": {},
   "source": [
    "### Complete data January-November"
   ]
  },
  {
   "cell_type": "code",
   "execution_count": 14,
   "id": "925afa62-7f82-40e3-8e86-d8b333efe742",
   "metadata": {},
   "outputs": [],
   "source": [
    "column_names=[\"Open_time\",\"Open\",\"High\",\"Low\",\"Close\",\"Volume\",\"Close_time\",\"Quote_asset_volume\",\"Number_of_trades\",\"Taker_buy_base_asset_vol\",\"Taker_buy_quote_asset_vol\",\"Ignore\"]"
   ]
  },
  {
   "cell_type": "code",
   "execution_count": 15,
   "id": "1cb82de9-0804-45c8-8c48-e4b8d1d2ac1f",
   "metadata": {},
   "outputs": [],
   "source": [
    "full_data = pd.concat([data_january,data_february,data_march,data_april,data_mai,data_june,data_july,data_august,data_september,data_october,data_november])  # Concatenate by row\n",
    "full_data.columns = column_names"
   ]
  },
  {
   "cell_type": "markdown",
   "id": "86b4d7df-70d0-4a8d-ab51-a5acb4185afa",
   "metadata": {},
   "source": [
    "##  Cleaning of data"
   ]
  },
  {
   "cell_type": "code",
   "execution_count": 16,
   "id": "2892312a-9278-4f18-a7b6-341159659846",
   "metadata": {},
   "outputs": [
    {
     "name": "stdout",
     "output_type": "stream",
     "text": [
      "<class 'pandas.core.frame.DataFrame'>\n",
      "Int64Index: 334 entries, 0 to 29\n",
      "Data columns (total 12 columns):\n",
      " #   Column                     Non-Null Count  Dtype  \n",
      "---  ------                     --------------  -----  \n",
      " 0   Open_time                  334 non-null    int64  \n",
      " 1   Open                       334 non-null    float64\n",
      " 2   High                       334 non-null    float64\n",
      " 3   Low                        334 non-null    float64\n",
      " 4   Close                      334 non-null    float64\n",
      " 5   Volume                     334 non-null    float64\n",
      " 6   Close_time                 334 non-null    int64  \n",
      " 7   Quote_asset_volume         334 non-null    float64\n",
      " 8   Number_of_trades           334 non-null    int64  \n",
      " 9   Taker_buy_base_asset_vol   334 non-null    float64\n",
      " 10  Taker_buy_quote_asset_vol  334 non-null    float64\n",
      " 11  Ignore                     334 non-null    int64  \n",
      "dtypes: float64(8), int64(4)\n",
      "memory usage: 33.9 KB\n"
     ]
    }
   ],
   "source": [
    "full_data.info()"
   ]
  },
  {
   "cell_type": "code",
   "execution_count": 17,
   "id": "66b865a4-388d-4d2b-a139-9cfe03c8ad6b",
   "metadata": {},
   "outputs": [
    {
     "data": {
      "text/plain": [
       "0"
      ]
     },
     "execution_count": 17,
     "metadata": {},
     "output_type": "execute_result"
    }
   ],
   "source": [
    "full_data.duplicated().sum()"
   ]
  },
  {
   "cell_type": "code",
   "execution_count": 18,
   "id": "9354366a-c564-4c79-ac27-3677fb157785",
   "metadata": {},
   "outputs": [
    {
     "data": {
      "text/plain": [
       "Open_time                    0\n",
       "Open                         0\n",
       "High                         0\n",
       "Low                          0\n",
       "Close                        0\n",
       "Volume                       0\n",
       "Close_time                   0\n",
       "Quote_asset_volume           0\n",
       "Number_of_trades             0\n",
       "Taker_buy_base_asset_vol     0\n",
       "Taker_buy_quote_asset_vol    0\n",
       "Ignore                       0\n",
       "dtype: int64"
      ]
     },
     "execution_count": 18,
     "metadata": {},
     "output_type": "execute_result"
    }
   ],
   "source": [
    "full_data.isna().sum()"
   ]
  },
  {
   "cell_type": "markdown",
   "id": "acd36994",
   "metadata": {},
   "source": [
    "### Timestamp to datetime"
   ]
  },
  {
   "cell_type": "code",
   "execution_count": 19,
   "id": "fa043729-966b-475d-9a46-c9f54d3ad957",
   "metadata": {
    "scrolled": true
   },
   "outputs": [],
   "source": [
    "# Function to convert timestamp to datetime\n",
    "def convert_timestamp(timestamp_ms):\n",
    "    timestamp_s = timestamp_ms / 1000\n",
    "    date = datetime.datetime.fromtimestamp(timestamp_s)\n",
    "    return date\n",
    "\n",
    "# Apply the function to your timestamp column\n",
    "full_data['Open_time'] = full_data['Open_time'].apply(convert_timestamp)\n",
    "full_data['Close_time'] = full_data['Close_time'].apply(convert_timestamp)"
   ]
  },
  {
   "cell_type": "markdown",
   "id": "75f1b42d",
   "metadata": {},
   "source": [
    "### Unit normalization"
   ]
  },
  {
   "cell_type": "code",
   "execution_count": 20,
   "id": "089a299f-d947-4b5c-ae3c-4087927d69b6",
   "metadata": {
    "scrolled": true
   },
   "outputs": [],
   "source": [
    "full_data[\"Quote_asset_volume\"] = full_data[\"Quote_asset_volume\"].apply(lambda x: '{:.2f}'.format(x))\n",
    "full_data[\"Taker_buy_quote_asset_vol\"] = full_data[\"Taker_buy_quote_asset_vol\"].apply(lambda x: '{:.2f}'.format(x))"
   ]
  },
  {
   "cell_type": "code",
   "execution_count": 21,
   "id": "e35b47b2",
   "metadata": {},
   "outputs": [],
   "source": [
    "full_data.set_index('Close_time', inplace=True)"
   ]
  },
  {
   "cell_type": "markdown",
   "id": "18248cae",
   "metadata": {},
   "source": [
    "## Descriptive analysis"
   ]
  },
  {
   "cell_type": "markdown",
   "id": "c8663af9",
   "metadata": {},
   "source": [
    "### Statistics price and data"
   ]
  },
  {
   "cell_type": "code",
   "execution_count": 22,
   "id": "f9deba29-3b73-4b53-ba8b-8e147deccbf0",
   "metadata": {},
   "outputs": [
    {
     "data": {
      "text/html": [
       "<div>\n",
       "<style scoped>\n",
       "    .dataframe tbody tr th:only-of-type {\n",
       "        vertical-align: middle;\n",
       "    }\n",
       "\n",
       "    .dataframe tbody tr th {\n",
       "        vertical-align: top;\n",
       "    }\n",
       "\n",
       "    .dataframe thead th {\n",
       "        text-align: right;\n",
       "    }\n",
       "</style>\n",
       "<table border=\"1\" class=\"dataframe\">\n",
       "  <thead>\n",
       "    <tr style=\"text-align: right;\">\n",
       "      <th></th>\n",
       "      <th>Close_price</th>\n",
       "      <th>Volume</th>\n",
       "    </tr>\n",
       "  </thead>\n",
       "  <tbody>\n",
       "    <tr>\n",
       "      <th>count</th>\n",
       "      <td>334.000000</td>\n",
       "      <td>334.00</td>\n",
       "    </tr>\n",
       "    <tr>\n",
       "      <th>mean</th>\n",
       "      <td>0.501621</td>\n",
       "      <td>368765501.26</td>\n",
       "    </tr>\n",
       "    <tr>\n",
       "      <th>std</th>\n",
       "      <td>0.099406</td>\n",
       "      <td>240984283.52</td>\n",
       "    </tr>\n",
       "    <tr>\n",
       "      <th>min</th>\n",
       "      <td>0.338000</td>\n",
       "      <td>63137112.00</td>\n",
       "    </tr>\n",
       "    <tr>\n",
       "      <th>25%</th>\n",
       "      <td>0.426250</td>\n",
       "      <td>237212167.00</td>\n",
       "    </tr>\n",
       "    <tr>\n",
       "      <th>50%</th>\n",
       "      <td>0.496000</td>\n",
       "      <td>331116118.50</td>\n",
       "    </tr>\n",
       "    <tr>\n",
       "      <th>75%</th>\n",
       "      <td>0.531450</td>\n",
       "      <td>427582489.75</td>\n",
       "    </tr>\n",
       "    <tr>\n",
       "      <th>max</th>\n",
       "      <td>0.819900</td>\n",
       "      <td>2499971165.00</td>\n",
       "    </tr>\n",
       "  </tbody>\n",
       "</table>\n",
       "</div>"
      ],
      "text/plain": [
       "       Close_price         Volume\n",
       "count   334.000000         334.00\n",
       "mean      0.501621   368765501.26\n",
       "std       0.099406   240984283.52\n",
       "min       0.338000    63137112.00\n",
       "25%       0.426250   237212167.00\n",
       "50%       0.496000   331116118.50\n",
       "75%       0.531450   427582489.75\n",
       "max       0.819900  2499971165.00"
      ]
     },
     "execution_count": 22,
     "metadata": {},
     "output_type": "execute_result"
    }
   ],
   "source": [
    "price_stats = full_data['Close'].describe()# Key statistics for 'Close' (Price)\n",
    "volume_stats = full_data['Volume'].describe()# Key statistics for 'Volume'\n",
    "\n",
    "stats=pd.DataFrame({\"Close_price\":price_stats, \"Volume\":volume_stats})\n",
    "stats[\"Volume\"]=stats[\"Volume\"] .apply(lambda x: '{:.2f}'.format(x))\n",
    "stats"
   ]
  },
  {
   "cell_type": "markdown",
   "id": "6f0ab0e7",
   "metadata": {},
   "source": [
    "### Statistics daily returns"
   ]
  },
  {
   "cell_type": "code",
   "execution_count": 23,
   "id": "c90535c4-1656-4c79-9826-8fa57497c973",
   "metadata": {
    "scrolled": true
   },
   "outputs": [
    {
     "data": {
      "text/html": [
       "<div>\n",
       "<style scoped>\n",
       "    .dataframe tbody tr th:only-of-type {\n",
       "        vertical-align: middle;\n",
       "    }\n",
       "\n",
       "    .dataframe tbody tr th {\n",
       "        vertical-align: top;\n",
       "    }\n",
       "\n",
       "    .dataframe thead th {\n",
       "        text-align: right;\n",
       "    }\n",
       "</style>\n",
       "<table border=\"1\" class=\"dataframe\">\n",
       "  <thead>\n",
       "    <tr style=\"text-align: right;\">\n",
       "      <th></th>\n",
       "      <th>Volatility</th>\n",
       "      <th>Skewness</th>\n",
       "      <th>Kurtosis</th>\n",
       "      <th>Sharpe Ratio</th>\n",
       "    </tr>\n",
       "  </thead>\n",
       "  <tbody>\n",
       "    <tr>\n",
       "      <th>0</th>\n",
       "      <td>0.050869</td>\n",
       "      <td>9.124457</td>\n",
       "      <td>128.295969</td>\n",
       "      <td>-0.928294</td>\n",
       "    </tr>\n",
       "  </tbody>\n",
       "</table>\n",
       "</div>"
      ],
      "text/plain": [
       "   Volatility  Skewness    Kurtosis  Sharpe Ratio\n",
       "0    0.050869  9.124457  128.295969     -0.928294"
      ]
     },
     "execution_count": 23,
     "metadata": {},
     "output_type": "execute_result"
    }
   ],
   "source": [
    "# Calculate Daily Returns\n",
    "daily_returns = full_data['Close'].pct_change().dropna()# pct_change will calculate the increase/drop between consecutive values\n",
    "\n",
    "# Volatility (Standard Deviation of Daily Returns)\n",
    "volatility = daily_returns.std()\n",
    "\n",
    "# Skewness\n",
    "skewness = daily_returns.skew()\n",
    "\n",
    "# Kurtosis\n",
    "kurtosis = daily_returns.kurtosis()\n",
    "\n",
    "# Sharpe Ratio\n",
    "# Assuming a risk-free rate of 5% (0.05) - adjust this value as needed\n",
    "risk_free_rate = 0.05\n",
    "average_daily_return = daily_returns.mean()\n",
    "sharpe_ratio = (average_daily_return - risk_free_rate) / volatility\n",
    "\n",
    "# Displaying the results\n",
    "results = pd.DataFrame({\n",
    "    \"Volatility\": [volatility],\n",
    "    \"Skewness\": [skewness],\n",
    "    \"Kurtosis\": [kurtosis],\n",
    "    \"Sharpe Ratio\": [sharpe_ratio]\n",
    "})\n",
    "results"
   ]
  },
  {
   "cell_type": "code",
   "execution_count": 26,
   "id": "103a9447",
   "metadata": {},
   "outputs": [
    {
     "data": {
      "application/vnd.plotly.v1+json": {
       "config": {
        "plotlyServerURL": "https://plot.ly"
       },
       "data": [
        {
         "line": {
          "color": "blue",
          "width": 2
         },
         "mode": "lines",
         "name": "Daily Returns",
         "type": "scatter",
         "x": [
          "2023-01-02T00:59:59.999000",
          "2023-01-03T00:59:59.999000",
          "2023-01-04T00:59:59.999000",
          "2023-01-05T00:59:59.999000",
          "2023-01-06T00:59:59.999000",
          "2023-01-07T00:59:59.999000",
          "2023-01-08T00:59:59.999000",
          "2023-01-09T00:59:59.999000",
          "2023-01-10T00:59:59.999000",
          "2023-01-11T00:59:59.999000",
          "2023-01-12T00:59:59.999000",
          "2023-01-13T00:59:59.999000",
          "2023-01-14T00:59:59.999000",
          "2023-01-15T00:59:59.999000",
          "2023-01-16T00:59:59.999000",
          "2023-01-17T00:59:59.999000",
          "2023-01-18T00:59:59.999000",
          "2023-01-19T00:59:59.999000",
          "2023-01-20T00:59:59.999000",
          "2023-01-21T00:59:59.999000",
          "2023-01-22T00:59:59.999000",
          "2023-01-23T00:59:59.999000",
          "2023-01-24T00:59:59.999000",
          "2023-01-25T00:59:59.999000",
          "2023-01-26T00:59:59.999000",
          "2023-01-27T00:59:59.999000",
          "2023-01-28T00:59:59.999000",
          "2023-01-29T00:59:59.999000",
          "2023-01-30T00:59:59.999000",
          "2023-01-31T00:59:59.999000",
          "2023-02-01T00:59:59.999000",
          "2023-02-02T00:59:59.999000",
          "2023-02-03T00:59:59.999000",
          "2023-02-04T00:59:59.999000",
          "2023-02-05T00:59:59.999000",
          "2023-02-06T00:59:59.999000",
          "2023-02-07T00:59:59.999000",
          "2023-02-08T00:59:59.999000",
          "2023-02-09T00:59:59.999000",
          "2023-02-10T00:59:59.999000",
          "2023-02-11T00:59:59.999000",
          "2023-02-12T00:59:59.999000",
          "2023-02-13T00:59:59.999000",
          "2023-02-14T00:59:59.999000",
          "2023-02-15T00:59:59.999000",
          "2023-02-16T00:59:59.999000",
          "2023-02-17T00:59:59.999000",
          "2023-02-18T00:59:59.999000",
          "2023-02-19T00:59:59.999000",
          "2023-02-20T00:59:59.999000",
          "2023-02-21T00:59:59.999000",
          "2023-02-22T00:59:59.999000",
          "2023-02-23T00:59:59.999000",
          "2023-02-24T00:59:59.999000",
          "2023-02-25T00:59:59.999000",
          "2023-02-26T00:59:59.999000",
          "2023-02-27T00:59:59.999000",
          "2023-02-28T00:59:59.999000",
          "2023-03-01T00:59:59.999000",
          "2023-03-02T00:59:59.999000",
          "2023-03-03T00:59:59.999000",
          "2023-03-04T00:59:59.999000",
          "2023-03-05T00:59:59.999000",
          "2023-03-06T00:59:59.999000",
          "2023-03-07T00:59:59.999000",
          "2023-03-08T00:59:59.999000",
          "2023-03-09T00:59:59.999000",
          "2023-03-10T00:59:59.999000",
          "2023-03-11T00:59:59.999000",
          "2023-03-12T00:59:59.999000",
          "2023-03-13T00:59:59.999000",
          "2023-03-14T00:59:59.999000",
          "2023-03-15T00:59:59.999000",
          "2023-03-16T00:59:59.999000",
          "2023-03-17T00:59:59.999000",
          "2023-03-18T00:59:59.999000",
          "2023-03-19T00:59:59.999000",
          "2023-03-20T00:59:59.999000",
          "2023-03-21T00:59:59.999000",
          "2023-03-22T00:59:59.999000",
          "2023-03-23T00:59:59.999000",
          "2023-03-24T00:59:59.999000",
          "2023-03-25T00:59:59.999000",
          "2023-03-26T00:59:59.999000",
          "2023-03-27T01:59:59.999000",
          "2023-03-28T01:59:59.999000",
          "2023-03-29T01:59:59.999000",
          "2023-03-30T01:59:59.999000",
          "2023-03-31T01:59:59.999000",
          "2023-04-01T01:59:59.999000",
          "2023-04-02T01:59:59.999000",
          "2023-04-03T01:59:59.999000",
          "2023-04-04T01:59:59.999000",
          "2023-04-05T01:59:59.999000",
          "2023-04-06T01:59:59.999000",
          "2023-04-07T01:59:59.999000",
          "2023-04-08T01:59:59.999000",
          "2023-04-09T01:59:59.999000",
          "2023-04-10T01:59:59.999000",
          "2023-04-11T01:59:59.999000",
          "2023-04-12T01:59:59.999000",
          "2023-04-13T01:59:59.999000",
          "2023-04-14T01:59:59.999000",
          "2023-04-15T01:59:59.999000",
          "2023-04-16T01:59:59.999000",
          "2023-04-17T01:59:59.999000",
          "2023-04-18T01:59:59.999000",
          "2023-04-19T01:59:59.999000",
          "2023-04-20T01:59:59.999000",
          "2023-04-21T01:59:59.999000",
          "2023-04-22T01:59:59.999000",
          "2023-04-23T01:59:59.999000",
          "2023-04-24T01:59:59.999000",
          "2023-04-25T01:59:59.999000",
          "2023-04-26T01:59:59.999000",
          "2023-04-27T01:59:59.999000",
          "2023-04-28T01:59:59.999000",
          "2023-04-29T01:59:59.999000",
          "2023-04-30T01:59:59.999000",
          "2023-05-01T01:59:59.999000",
          "2023-05-02T01:59:59.999000",
          "2023-05-03T01:59:59.999000",
          "2023-05-04T01:59:59.999000",
          "2023-05-05T01:59:59.999000",
          "2023-05-06T01:59:59.999000",
          "2023-05-07T01:59:59.999000",
          "2023-05-08T01:59:59.999000",
          "2023-05-09T01:59:59.999000",
          "2023-05-10T01:59:59.999000",
          "2023-05-11T01:59:59.999000",
          "2023-05-12T01:59:59.999000",
          "2023-05-13T01:59:59.999000",
          "2023-05-14T01:59:59.999000",
          "2023-05-15T01:59:59.999000",
          "2023-05-16T01:59:59.999000",
          "2023-05-17T01:59:59.999000",
          "2023-05-18T01:59:59.999000",
          "2023-05-19T01:59:59.999000",
          "2023-05-20T01:59:59.999000",
          "2023-05-21T01:59:59.999000",
          "2023-05-22T01:59:59.999000",
          "2023-05-23T01:59:59.999000",
          "2023-05-24T01:59:59.999000",
          "2023-05-25T01:59:59.999000",
          "2023-05-26T01:59:59.999000",
          "2023-05-27T01:59:59.999000",
          "2023-05-28T01:59:59.999000",
          "2023-05-29T01:59:59.999000",
          "2023-05-30T01:59:59.999000",
          "2023-05-31T01:59:59.999000",
          "2023-06-01T01:59:59.999000",
          "2023-06-02T01:59:59.999000",
          "2023-06-03T01:59:59.999000",
          "2023-06-04T01:59:59.999000",
          "2023-06-05T01:59:59.999000",
          "2023-06-06T01:59:59.999000",
          "2023-06-07T01:59:59.999000",
          "2023-06-08T01:59:59.999000",
          "2023-06-09T01:59:59.999000",
          "2023-06-10T01:59:59.999000",
          "2023-06-11T01:59:59.999000",
          "2023-06-12T01:59:59.999000",
          "2023-06-13T01:59:59.999000",
          "2023-06-14T01:59:59.999000",
          "2023-06-15T01:59:59.999000",
          "2023-06-16T01:59:59.999000",
          "2023-06-17T01:59:59.999000",
          "2023-06-18T01:59:59.999000",
          "2023-06-19T01:59:59.999000",
          "2023-06-20T01:59:59.999000",
          "2023-06-21T01:59:59.999000",
          "2023-06-22T01:59:59.999000",
          "2023-06-23T01:59:59.999000",
          "2023-06-24T01:59:59.999000",
          "2023-06-25T01:59:59.999000",
          "2023-06-26T01:59:59.999000",
          "2023-06-27T01:59:59.999000",
          "2023-06-28T01:59:59.999000",
          "2023-06-29T01:59:59.999000",
          "2023-06-30T01:59:59.999000",
          "2023-07-01T01:59:59.999000",
          "2023-07-02T01:59:59.999000",
          "2023-07-03T01:59:59.999000",
          "2023-07-04T01:59:59.999000",
          "2023-07-05T01:59:59.999000",
          "2023-07-06T01:59:59.999000",
          "2023-07-07T01:59:59.999000",
          "2023-07-08T01:59:59.999000",
          "2023-07-09T01:59:59.999000",
          "2023-07-10T01:59:59.999000",
          "2023-07-11T01:59:59.999000",
          "2023-07-12T01:59:59.999000",
          "2023-07-13T01:59:59.999000",
          "2023-07-14T01:59:59.999000",
          "2023-07-15T01:59:59.999000",
          "2023-07-16T01:59:59.999000",
          "2023-07-17T01:59:59.999000",
          "2023-07-18T01:59:59.999000",
          "2023-07-19T01:59:59.999000",
          "2023-07-20T01:59:59.999000",
          "2023-07-21T01:59:59.999000",
          "2023-07-22T01:59:59.999000",
          "2023-07-23T01:59:59.999000",
          "2023-07-24T01:59:59.999000",
          "2023-07-25T01:59:59.999000",
          "2023-07-26T01:59:59.999000",
          "2023-07-27T01:59:59.999000",
          "2023-07-28T01:59:59.999000",
          "2023-07-29T01:59:59.999000",
          "2023-07-30T01:59:59.999000",
          "2023-07-31T01:59:59.999000",
          "2023-08-01T01:59:59.999000",
          "2023-08-02T01:59:59.999000",
          "2023-08-03T01:59:59.999000",
          "2023-08-04T01:59:59.999000",
          "2023-08-05T01:59:59.999000",
          "2023-08-06T01:59:59.999000",
          "2023-08-07T01:59:59.999000",
          "2023-08-08T01:59:59.999000",
          "2023-08-09T01:59:59.999000",
          "2023-08-10T01:59:59.999000",
          "2023-08-11T01:59:59.999000",
          "2023-08-12T01:59:59.999000",
          "2023-08-13T01:59:59.999000",
          "2023-08-14T01:59:59.999000",
          "2023-08-15T01:59:59.999000",
          "2023-08-16T01:59:59.999000",
          "2023-08-17T01:59:59.999000",
          "2023-08-18T01:59:59.999000",
          "2023-08-19T01:59:59.999000",
          "2023-08-20T01:59:59.999000",
          "2023-08-21T01:59:59.999000",
          "2023-08-22T01:59:59.999000",
          "2023-08-23T01:59:59.999000",
          "2023-08-24T01:59:59.999000",
          "2023-08-25T01:59:59.999000",
          "2023-08-26T01:59:59.999000",
          "2023-08-27T01:59:59.999000",
          "2023-08-28T01:59:59.999000",
          "2023-08-29T01:59:59.999000",
          "2023-08-30T01:59:59.999000",
          "2023-08-31T01:59:59.999000",
          "2023-09-01T01:59:59.999000",
          "2023-09-02T01:59:59.999000",
          "2023-09-03T01:59:59.999000",
          "2023-09-04T01:59:59.999000",
          "2023-09-05T01:59:59.999000",
          "2023-09-06T01:59:59.999000",
          "2023-09-07T01:59:59.999000",
          "2023-09-08T01:59:59.999000",
          "2023-09-09T01:59:59.999000",
          "2023-09-10T01:59:59.999000",
          "2023-09-11T01:59:59.999000",
          "2023-09-12T01:59:59.999000",
          "2023-09-13T01:59:59.999000",
          "2023-09-14T01:59:59.999000",
          "2023-09-15T01:59:59.999000",
          "2023-09-16T01:59:59.999000",
          "2023-09-17T01:59:59.999000",
          "2023-09-18T01:59:59.999000",
          "2023-09-19T01:59:59.999000",
          "2023-09-20T01:59:59.999000",
          "2023-09-21T01:59:59.999000",
          "2023-09-22T01:59:59.999000",
          "2023-09-23T01:59:59.999000",
          "2023-09-24T01:59:59.999000",
          "2023-09-25T01:59:59.999000",
          "2023-09-26T01:59:59.999000",
          "2023-09-27T01:59:59.999000",
          "2023-09-28T01:59:59.999000",
          "2023-09-29T01:59:59.999000",
          "2023-09-30T01:59:59.999000",
          "2023-10-01T01:59:59.999000",
          "2023-10-02T01:59:59.999000",
          "2023-10-03T01:59:59.999000",
          "2023-10-04T01:59:59.999000",
          "2023-10-05T01:59:59.999000",
          "2023-10-06T01:59:59.999000",
          "2023-10-07T01:59:59.999000",
          "2023-10-08T01:59:59.999000",
          "2023-10-09T01:59:59.999000",
          "2023-10-10T01:59:59.999000",
          "2023-10-11T01:59:59.999000",
          "2023-10-12T01:59:59.999000",
          "2023-10-13T01:59:59.999000",
          "2023-10-14T01:59:59.999000",
          "2023-10-15T01:59:59.999000",
          "2023-10-16T01:59:59.999000",
          "2023-10-17T01:59:59.999000",
          "2023-10-18T01:59:59.999000",
          "2023-10-19T01:59:59.999000",
          "2023-10-20T01:59:59.999000",
          "2023-10-21T01:59:59.999000",
          "2023-10-22T01:59:59.999000",
          "2023-10-23T01:59:59.999000",
          "2023-10-24T01:59:59.999000",
          "2023-10-25T01:59:59.999000",
          "2023-10-26T01:59:59.999000",
          "2023-10-27T01:59:59.999000",
          "2023-10-28T01:59:59.999000",
          "2023-10-29T01:59:59.999000",
          "2023-10-30T00:59:59.999000",
          "2023-10-31T00:59:59.999000",
          "2023-11-01T00:59:59.999000",
          "2023-11-02T00:59:59.999000",
          "2023-11-03T00:59:59.999000",
          "2023-11-04T00:59:59.999000",
          "2023-11-05T00:59:59.999000",
          "2023-11-06T00:59:59.999000",
          "2023-11-07T00:59:59.999000",
          "2023-11-08T00:59:59.999000",
          "2023-11-09T00:59:59.999000",
          "2023-11-10T00:59:59.999000",
          "2023-11-11T00:59:59.999000",
          "2023-11-12T00:59:59.999000",
          "2023-11-13T00:59:59.999000",
          "2023-11-14T00:59:59.999000",
          "2023-11-15T00:59:59.999000",
          "2023-11-16T00:59:59.999000",
          "2023-11-17T00:59:59.999000",
          "2023-11-18T00:59:59.999000",
          "2023-11-19T00:59:59.999000",
          "2023-11-20T00:59:59.999000",
          "2023-11-21T00:59:59.999000",
          "2023-11-22T00:59:59.999000",
          "2023-11-23T00:59:59.999000",
          "2023-11-24T00:59:59.999000",
          "2023-11-25T00:59:59.999000",
          "2023-11-26T00:59:59.999000",
          "2023-11-27T00:59:59.999000",
          "2023-11-28T00:59:59.999000",
          "2023-11-29T00:59:59.999000",
          "2023-11-30T00:59:59.999000",
          "2023-12-01T00:59:59.999000"
         ],
         "y": [
          0.02804842043106004,
          -0.013210798391728895,
          0.010477299185098987,
          -0.026497695852534475,
          0.01863905325443782,
          -0.0002904443799012224,
          0.0029052876234747504,
          0.011008111239860785,
          0.004871060171919961,
          0.06301682349586546,
          0.005364806866952732,
          0.02934898612593373,
          0.024624157594608675,
          -0.02732102200860098,
          0.002600780234070177,
          0.0033722438391698972,
          -0.022233712512926607,
          0.0386039132734004,
          0.05117107942973531,
          -0.023007992249939435,
          -0.007436787307882997,
          0.05744255744255744,
          -0.03684459140292873,
          0.022560078469838096,
          -0.018705035971222972,
          0.008797653958944274,
          -0.012112403100775215,
          0.013732221677292822,
          -0.04837929366231242,
          0.03126588713777312,
          0.018240078876016863,
          -0.007988380537400253,
          0.004636408003904302,
          -0.0026718484333252412,
          -0.029712615684364452,
          -0.016064257028112316,
          0.0295918367346939,
          -0.015113974231912741,
          -0.03924528301886798,
          -0.0005236973029589809,
          0.0041917736442231845,
          -0.02243673362901122,
          -0.011742727515345552,
          0.03132595193086685,
          0.050274941084053504,
          -0.04238344552480677,
          0.028378026555584634,
          -0.0017721518987342533,
          -0.02028911995942173,
          0.03132280610924143,
          -0.016315261044176577,
          0.00867568257208462,
          -0.017961042246395165,
          -0.025502318392581103,
          -0.001321702352630183,
          0.00026469031233444795,
          0.001587721619475957,
          -0.0060766182298547244,
          0.01940457203615109,
          -0.016427640156453815,
          0.0005302226935313126,
          -0.010333863275039823,
          -0.017938420348058814,
          0.007360959651036003,
          0.02868741542625175,
          0.02315180215732715,
          -0.04705579840575991,
          -0.0016189962223420729,
          -0.016756756756756697,
          0.020890599230346307,
          0.002692514808831481,
          0,
          -0.036251342642320106,
          0.0161604903872945,
          0.04140389361118735,
          -0.015534491837809417,
          0.031559240438619796,
          -0.031890070002592585,
          0.2576325656132834,
          -0.10285349233390118,
          0.05340612390220745,
          -0.040333483551149074,
          0.03991547311575494,
          0.011289230074508882,
          0.06943514177271704,
          0.07390396659707732,
          0.05462674961119762,
          -0.01953917050691234,
          0.010340289528106617,
          -0.05191663565314486,
          0.016683022571148287,
          -0.04266409266409266,
          0.013510788465416423,
          0.005769996020692281,
          -0.005341246290801016,
          0.019490851233094464,
          -0.015216543113538705,
          0.0011885895404120106,
          0.024139295607439548,
          -0.0017387944358575602,
          -0.02283723630733503,
          0.015052485640720814,
          0.019902439024390484,
          -0.00669600153051475,
          0.003274268104776601,
          -0.019197542714532556,
          0.04208259933450775,
          -0.07757325319308794,
          -0.032376298106291945,
          -0.05492424242424243,
          0.05076820307281227,
          -0.015257469802924306,
          -0.007746933505487386,
          0.018217306441119074,
          -0.016400425985090505,
          0.010610653962754402,
          0.027640882794086163,
          -0.0033361134278566684,
          -0.01569037656903771,
          -0.011902231668437846,
          -0.0008604000860399363,
          -0.0027987082884822767,
          -0.005181347150259086,
          0.013671875,
          -0.019053735816741635,
          -0.020078568310781253,
          -0.04610244988864143,
          0.0014008872285780072,
          0.0032641641408253097,
          -0.022310016267720223,
          0.02329450915141429,
          -0.015098722415795574,
          0.0030660377358491253,
          0.004702562896778728,
          0.03557219751930729,
          0.01333333333333342,
          0.024977698483496846,
          0.017188859878154883,
          0.002139037433155133,
          -0.023479188900747072,
          0.009398907103825183,
          0.007145950627977626,
          -0.02601591055686947,
          0.0017660044150109577,
          0.03217276333186425,
          0.006404782237404039,
          0.02248621128553241,
          0.02614107883817418,
          0.052365547917509137,
          -0.007492795389049012,
          -0.01955090979481222,
          0.03534057255676215,
          -0.010678871090770259,
          0.03296067848882034,
          -0.05019593207688011,
          0.04125736738703334,
          -0.022075471698113303,
          0.010225737989581374,
          0.027501909854851236,
          -0.05817843866171002,
          0.027827116637063387,
          0.008256528417818654,
          -0.011235955056179803,
          -0.07530816640986127,
          0,
          -0.008748177463028584,
          0.007354486236604396,
          0.015435961618690097,
          0.013968775677896339,
          -0.0014181523500810256,
          0.014201663623452987,
          -0.012202440488097599,
          0.0046577561765897,
          -0.019350937311025995,
          0.007810894141829339,
          -0.023047114011829573,
          0.01002087682672248,
          -0.03947912360479533,
          0.021519259737465157,
          -0.0037918685485570647,
          0.0006343835906110762,
          0.02387996618765853,
          0.009287925696594534,
          -0.0036809815950920033,
          -0.019499178981937648,
          -0.03244714255809089,
          0.014063176114236242,
          0.0036270535523788006,
          -0.005102040816326481,
          0.02136752136752129,
          -0.005648535564853563,
          -0.009046917736166726,
          0.7309978768577496,
          -0.119465227523611,
          -0.0047360356595625985,
          0.04520643806857949,
          -0.012587038028923359,
          0.05492270138323829,
          0.053991515618974084,
          -0.031345286010489026,
          -0.028834046839587013,
          -0.04952677298068198,
          0.007229573045969051,
          -0.04916034669555791,
          0.009685230024213176,
          0.010156580617858735,
          -0.003072196620583667,
          -0.002661437176075143,
          0.0001404494382022392,
          -0.010532228619575812,
          -0.009934714731762662,
          0.013331422018348693,
          -0.030980336681284415,
          -0.03211678832116793,
          -0.04132730015082953,
          -0.010698552548772833,
          -0.007633587786259555,
          -0.0006410256410255277,
          0.02918537524053888,
          0.002337176690557774,
          -0.015855743820923363,
          -0.002053388090349051,
          -0.006647673314339908,
          -0.0031867431485022024,
          0.013906649616368227,
          -0.03767933154658665,
          -0.035222804718217704,
          -0.14009169638308716,
          -0.0003949447077408186,
          0.027064401422362883,
          0.03558376610886693,
          -0.025817236255572085,
          -0.006673021925643341,
          0.01746641074856048,
          -0.021505376344086002,
          0.013688066319645253,
          -0.005135032331685108,
          0.0009558401835212393,
          -0.0007639419404124048,
          0.0317278287461773,
          -0.021118932938125168,
          -0.03292959878879631,
          -0.025440313111546042,
          0.0016064257028112205,
          0.011828388131515766,
          0.00792550029720629,
          -0.0060939650088460695,
          -0.004549050632911555,
          0.003377707132922847,
          0,
          -0.0023762376237623783,
          -0.013695911075823797,
          -0.04528074059166842,
          0.012647554806070938,
          0.00582847626977534,
          0.012417218543046449,
          0.02309893704006516,
          -0.0013986013986012624,
          -0.014605842336934849,
          0.02131979695431463,
          0.021868787276341894,
          0.014007782101167265,
          -0.02705295471987723,
          0.010057187931374445,
          -0.008980866848886992,
          -0.010835303388495032,
          0.0069707229635531665,
          -0.007318037974683667,
          -0.0051803148037457,
          0.02102944121770478,
          0.022950176539819456,
          -0.012655800575263498,
          0.017867547096523495,
          -0.022514787254340862,
          0.05211789966816327,
          -0.01187384044526918,
          -0.018588058580548128,
          0.0053568012244116225,
          -0.007421503330161783,
          -0.00805214723926373,
          -0.028411287205256985,
          -0.012333399641933585,
          -0.015508559919436005,
          -0.011865793780687417,
          0.004347826086956497,
          0.0028860028860029363,
          0.00184994861253851,
          0.021337710299548673,
          -0.013258336681398086,
          -0.006921824104234586,
          0.06539565395653968,
          -0.009236097748701266,
          0.011458535637987932,
          0.003456221198156584,
          0.04764638346727912,
          0.020639269406392602,
          -0.006442376521116566,
          -0.0034221902017291805,
          -0.01861557925176216,
          0.0029465930018415243,
          0.021116415717958192,
          0.03938140622190245,
          0.037370242214533,
          0.01484322881921285,
          -0.005094494658997473,
          0.011067063098777474,
          0.004574415945107102,
          0.07448365587900474,
          0.08188285152111408,
          -0.04168998321208717,
          0.0027737226277371185,
          -0.02969864609113404,
          -0.010502625656414133,
          0.004700530705079586,
          -0.0019619680048293953,
          0.013458339634054184,
          -0.060578931662190305,
          0.02938373570520958,
          -0.0558555778429255,
          0.0022879555482921976,
          -0.004402413174628972,
          0.024893547330494536,
          -0.021732182806008415,
          -0.05455733420450826,
          0.05545957152729786,
          0.016369291209690662,
          0.00048316959252692193,
          0.0025756600128783447,
          -0.011400128452151548,
          -0.019165177846353743,
          0.011260142407683471,
          -0.0026199443261831767,
          -0.004596946314234129
         ]
        }
       ],
       "layout": {
        "hovermode": "x",
        "margin": {
         "b": 20,
         "l": 20,
         "r": 20,
         "t": 40
        },
        "plot_bgcolor": "white",
        "shapes": [
         {
          "line": {
           "color": "red",
           "dash": "dash"
          },
          "type": "line",
          "x0": 0,
          "x1": 1,
          "xref": "x domain",
          "y0": 0,
          "y1": 0,
          "yref": "y"
         }
        ],
        "template": {
         "data": {
          "bar": [
           {
            "error_x": {
             "color": "#2a3f5f"
            },
            "error_y": {
             "color": "#2a3f5f"
            },
            "marker": {
             "line": {
              "color": "#E5ECF6",
              "width": 0.5
             },
             "pattern": {
              "fillmode": "overlay",
              "size": 10,
              "solidity": 0.2
             }
            },
            "type": "bar"
           }
          ],
          "barpolar": [
           {
            "marker": {
             "line": {
              "color": "#E5ECF6",
              "width": 0.5
             },
             "pattern": {
              "fillmode": "overlay",
              "size": 10,
              "solidity": 0.2
             }
            },
            "type": "barpolar"
           }
          ],
          "carpet": [
           {
            "aaxis": {
             "endlinecolor": "#2a3f5f",
             "gridcolor": "white",
             "linecolor": "white",
             "minorgridcolor": "white",
             "startlinecolor": "#2a3f5f"
            },
            "baxis": {
             "endlinecolor": "#2a3f5f",
             "gridcolor": "white",
             "linecolor": "white",
             "minorgridcolor": "white",
             "startlinecolor": "#2a3f5f"
            },
            "type": "carpet"
           }
          ],
          "choropleth": [
           {
            "colorbar": {
             "outlinewidth": 0,
             "ticks": ""
            },
            "type": "choropleth"
           }
          ],
          "contour": [
           {
            "colorbar": {
             "outlinewidth": 0,
             "ticks": ""
            },
            "colorscale": [
             [
              0,
              "#0d0887"
             ],
             [
              0.1111111111111111,
              "#46039f"
             ],
             [
              0.2222222222222222,
              "#7201a8"
             ],
             [
              0.3333333333333333,
              "#9c179e"
             ],
             [
              0.4444444444444444,
              "#bd3786"
             ],
             [
              0.5555555555555556,
              "#d8576b"
             ],
             [
              0.6666666666666666,
              "#ed7953"
             ],
             [
              0.7777777777777778,
              "#fb9f3a"
             ],
             [
              0.8888888888888888,
              "#fdca26"
             ],
             [
              1,
              "#f0f921"
             ]
            ],
            "type": "contour"
           }
          ],
          "contourcarpet": [
           {
            "colorbar": {
             "outlinewidth": 0,
             "ticks": ""
            },
            "type": "contourcarpet"
           }
          ],
          "heatmap": [
           {
            "colorbar": {
             "outlinewidth": 0,
             "ticks": ""
            },
            "colorscale": [
             [
              0,
              "#0d0887"
             ],
             [
              0.1111111111111111,
              "#46039f"
             ],
             [
              0.2222222222222222,
              "#7201a8"
             ],
             [
              0.3333333333333333,
              "#9c179e"
             ],
             [
              0.4444444444444444,
              "#bd3786"
             ],
             [
              0.5555555555555556,
              "#d8576b"
             ],
             [
              0.6666666666666666,
              "#ed7953"
             ],
             [
              0.7777777777777778,
              "#fb9f3a"
             ],
             [
              0.8888888888888888,
              "#fdca26"
             ],
             [
              1,
              "#f0f921"
             ]
            ],
            "type": "heatmap"
           }
          ],
          "heatmapgl": [
           {
            "colorbar": {
             "outlinewidth": 0,
             "ticks": ""
            },
            "colorscale": [
             [
              0,
              "#0d0887"
             ],
             [
              0.1111111111111111,
              "#46039f"
             ],
             [
              0.2222222222222222,
              "#7201a8"
             ],
             [
              0.3333333333333333,
              "#9c179e"
             ],
             [
              0.4444444444444444,
              "#bd3786"
             ],
             [
              0.5555555555555556,
              "#d8576b"
             ],
             [
              0.6666666666666666,
              "#ed7953"
             ],
             [
              0.7777777777777778,
              "#fb9f3a"
             ],
             [
              0.8888888888888888,
              "#fdca26"
             ],
             [
              1,
              "#f0f921"
             ]
            ],
            "type": "heatmapgl"
           }
          ],
          "histogram": [
           {
            "marker": {
             "pattern": {
              "fillmode": "overlay",
              "size": 10,
              "solidity": 0.2
             }
            },
            "type": "histogram"
           }
          ],
          "histogram2d": [
           {
            "colorbar": {
             "outlinewidth": 0,
             "ticks": ""
            },
            "colorscale": [
             [
              0,
              "#0d0887"
             ],
             [
              0.1111111111111111,
              "#46039f"
             ],
             [
              0.2222222222222222,
              "#7201a8"
             ],
             [
              0.3333333333333333,
              "#9c179e"
             ],
             [
              0.4444444444444444,
              "#bd3786"
             ],
             [
              0.5555555555555556,
              "#d8576b"
             ],
             [
              0.6666666666666666,
              "#ed7953"
             ],
             [
              0.7777777777777778,
              "#fb9f3a"
             ],
             [
              0.8888888888888888,
              "#fdca26"
             ],
             [
              1,
              "#f0f921"
             ]
            ],
            "type": "histogram2d"
           }
          ],
          "histogram2dcontour": [
           {
            "colorbar": {
             "outlinewidth": 0,
             "ticks": ""
            },
            "colorscale": [
             [
              0,
              "#0d0887"
             ],
             [
              0.1111111111111111,
              "#46039f"
             ],
             [
              0.2222222222222222,
              "#7201a8"
             ],
             [
              0.3333333333333333,
              "#9c179e"
             ],
             [
              0.4444444444444444,
              "#bd3786"
             ],
             [
              0.5555555555555556,
              "#d8576b"
             ],
             [
              0.6666666666666666,
              "#ed7953"
             ],
             [
              0.7777777777777778,
              "#fb9f3a"
             ],
             [
              0.8888888888888888,
              "#fdca26"
             ],
             [
              1,
              "#f0f921"
             ]
            ],
            "type": "histogram2dcontour"
           }
          ],
          "mesh3d": [
           {
            "colorbar": {
             "outlinewidth": 0,
             "ticks": ""
            },
            "type": "mesh3d"
           }
          ],
          "parcoords": [
           {
            "line": {
             "colorbar": {
              "outlinewidth": 0,
              "ticks": ""
             }
            },
            "type": "parcoords"
           }
          ],
          "pie": [
           {
            "automargin": true,
            "type": "pie"
           }
          ],
          "scatter": [
           {
            "fillpattern": {
             "fillmode": "overlay",
             "size": 10,
             "solidity": 0.2
            },
            "type": "scatter"
           }
          ],
          "scatter3d": [
           {
            "line": {
             "colorbar": {
              "outlinewidth": 0,
              "ticks": ""
             }
            },
            "marker": {
             "colorbar": {
              "outlinewidth": 0,
              "ticks": ""
             }
            },
            "type": "scatter3d"
           }
          ],
          "scattercarpet": [
           {
            "marker": {
             "colorbar": {
              "outlinewidth": 0,
              "ticks": ""
             }
            },
            "type": "scattercarpet"
           }
          ],
          "scattergeo": [
           {
            "marker": {
             "colorbar": {
              "outlinewidth": 0,
              "ticks": ""
             }
            },
            "type": "scattergeo"
           }
          ],
          "scattergl": [
           {
            "marker": {
             "colorbar": {
              "outlinewidth": 0,
              "ticks": ""
             }
            },
            "type": "scattergl"
           }
          ],
          "scattermapbox": [
           {
            "marker": {
             "colorbar": {
              "outlinewidth": 0,
              "ticks": ""
             }
            },
            "type": "scattermapbox"
           }
          ],
          "scatterpolar": [
           {
            "marker": {
             "colorbar": {
              "outlinewidth": 0,
              "ticks": ""
             }
            },
            "type": "scatterpolar"
           }
          ],
          "scatterpolargl": [
           {
            "marker": {
             "colorbar": {
              "outlinewidth": 0,
              "ticks": ""
             }
            },
            "type": "scatterpolargl"
           }
          ],
          "scatterternary": [
           {
            "marker": {
             "colorbar": {
              "outlinewidth": 0,
              "ticks": ""
             }
            },
            "type": "scatterternary"
           }
          ],
          "surface": [
           {
            "colorbar": {
             "outlinewidth": 0,
             "ticks": ""
            },
            "colorscale": [
             [
              0,
              "#0d0887"
             ],
             [
              0.1111111111111111,
              "#46039f"
             ],
             [
              0.2222222222222222,
              "#7201a8"
             ],
             [
              0.3333333333333333,
              "#9c179e"
             ],
             [
              0.4444444444444444,
              "#bd3786"
             ],
             [
              0.5555555555555556,
              "#d8576b"
             ],
             [
              0.6666666666666666,
              "#ed7953"
             ],
             [
              0.7777777777777778,
              "#fb9f3a"
             ],
             [
              0.8888888888888888,
              "#fdca26"
             ],
             [
              1,
              "#f0f921"
             ]
            ],
            "type": "surface"
           }
          ],
          "table": [
           {
            "cells": {
             "fill": {
              "color": "#EBF0F8"
             },
             "line": {
              "color": "white"
             }
            },
            "header": {
             "fill": {
              "color": "#C8D4E3"
             },
             "line": {
              "color": "white"
             }
            },
            "type": "table"
           }
          ]
         },
         "layout": {
          "annotationdefaults": {
           "arrowcolor": "#2a3f5f",
           "arrowhead": 0,
           "arrowwidth": 1
          },
          "autotypenumbers": "strict",
          "coloraxis": {
           "colorbar": {
            "outlinewidth": 0,
            "ticks": ""
           }
          },
          "colorscale": {
           "diverging": [
            [
             0,
             "#8e0152"
            ],
            [
             0.1,
             "#c51b7d"
            ],
            [
             0.2,
             "#de77ae"
            ],
            [
             0.3,
             "#f1b6da"
            ],
            [
             0.4,
             "#fde0ef"
            ],
            [
             0.5,
             "#f7f7f7"
            ],
            [
             0.6,
             "#e6f5d0"
            ],
            [
             0.7,
             "#b8e186"
            ],
            [
             0.8,
             "#7fbc41"
            ],
            [
             0.9,
             "#4d9221"
            ],
            [
             1,
             "#276419"
            ]
           ],
           "sequential": [
            [
             0,
             "#0d0887"
            ],
            [
             0.1111111111111111,
             "#46039f"
            ],
            [
             0.2222222222222222,
             "#7201a8"
            ],
            [
             0.3333333333333333,
             "#9c179e"
            ],
            [
             0.4444444444444444,
             "#bd3786"
            ],
            [
             0.5555555555555556,
             "#d8576b"
            ],
            [
             0.6666666666666666,
             "#ed7953"
            ],
            [
             0.7777777777777778,
             "#fb9f3a"
            ],
            [
             0.8888888888888888,
             "#fdca26"
            ],
            [
             1,
             "#f0f921"
            ]
           ],
           "sequentialminus": [
            [
             0,
             "#0d0887"
            ],
            [
             0.1111111111111111,
             "#46039f"
            ],
            [
             0.2222222222222222,
             "#7201a8"
            ],
            [
             0.3333333333333333,
             "#9c179e"
            ],
            [
             0.4444444444444444,
             "#bd3786"
            ],
            [
             0.5555555555555556,
             "#d8576b"
            ],
            [
             0.6666666666666666,
             "#ed7953"
            ],
            [
             0.7777777777777778,
             "#fb9f3a"
            ],
            [
             0.8888888888888888,
             "#fdca26"
            ],
            [
             1,
             "#f0f921"
            ]
           ]
          },
          "colorway": [
           "#636efa",
           "#EF553B",
           "#00cc96",
           "#ab63fa",
           "#FFA15A",
           "#19d3f3",
           "#FF6692",
           "#B6E880",
           "#FF97FF",
           "#FECB52"
          ],
          "font": {
           "color": "#2a3f5f"
          },
          "geo": {
           "bgcolor": "white",
           "lakecolor": "white",
           "landcolor": "#E5ECF6",
           "showlakes": true,
           "showland": true,
           "subunitcolor": "white"
          },
          "hoverlabel": {
           "align": "left"
          },
          "hovermode": "closest",
          "mapbox": {
           "style": "light"
          },
          "paper_bgcolor": "white",
          "plot_bgcolor": "#E5ECF6",
          "polar": {
           "angularaxis": {
            "gridcolor": "white",
            "linecolor": "white",
            "ticks": ""
           },
           "bgcolor": "#E5ECF6",
           "radialaxis": {
            "gridcolor": "white",
            "linecolor": "white",
            "ticks": ""
           }
          },
          "scene": {
           "xaxis": {
            "backgroundcolor": "#E5ECF6",
            "gridcolor": "white",
            "gridwidth": 2,
            "linecolor": "white",
            "showbackground": true,
            "ticks": "",
            "zerolinecolor": "white"
           },
           "yaxis": {
            "backgroundcolor": "#E5ECF6",
            "gridcolor": "white",
            "gridwidth": 2,
            "linecolor": "white",
            "showbackground": true,
            "ticks": "",
            "zerolinecolor": "white"
           },
           "zaxis": {
            "backgroundcolor": "#E5ECF6",
            "gridcolor": "white",
            "gridwidth": 2,
            "linecolor": "white",
            "showbackground": true,
            "ticks": "",
            "zerolinecolor": "white"
           }
          },
          "shapedefaults": {
           "line": {
            "color": "#2a3f5f"
           }
          },
          "ternary": {
           "aaxis": {
            "gridcolor": "white",
            "linecolor": "white",
            "ticks": ""
           },
           "baxis": {
            "gridcolor": "white",
            "linecolor": "white",
            "ticks": ""
           },
           "bgcolor": "#E5ECF6",
           "caxis": {
            "gridcolor": "white",
            "linecolor": "white",
            "ticks": ""
           }
          },
          "title": {
           "x": 0.05
          },
          "xaxis": {
           "automargin": true,
           "gridcolor": "white",
           "linecolor": "white",
           "ticks": "",
           "title": {
            "standoff": 15
           },
           "zerolinecolor": "white",
           "zerolinewidth": 2
          },
          "yaxis": {
           "automargin": true,
           "gridcolor": "white",
           "linecolor": "white",
           "ticks": "",
           "title": {
            "standoff": 15
           },
           "zerolinecolor": "white",
           "zerolinewidth": 2
          }
         }
        },
        "title": {
         "text": "Daily Returns Over Time"
        },
        "xaxis": {
         "linecolor": "black",
         "showgrid": false,
         "showline": true,
         "title": {
          "text": "Date"
         }
        },
        "yaxis": {
         "gridcolor": "LightGrey",
         "linecolor": "black",
         "showgrid": true,
         "showline": true,
         "title": {
          "text": "Daily Returns"
         }
        }
       }
      },
      "text/html": [
       "<div>                            <div id=\"f8a1780d-a02c-4726-b26a-324e76e76e2e\" class=\"plotly-graph-div\" style=\"height:525px; width:100%;\"></div>            <script type=\"text/javascript\">                require([\"plotly\"], function(Plotly) {                    window.PLOTLYENV=window.PLOTLYENV || {};                                    if (document.getElementById(\"f8a1780d-a02c-4726-b26a-324e76e76e2e\")) {                    Plotly.newPlot(                        \"f8a1780d-a02c-4726-b26a-324e76e76e2e\",                        [{\"line\":{\"color\":\"blue\",\"width\":2},\"mode\":\"lines\",\"name\":\"Daily Returns\",\"x\":[\"2023-01-02T00:59:59.999000\",\"2023-01-03T00:59:59.999000\",\"2023-01-04T00:59:59.999000\",\"2023-01-05T00:59:59.999000\",\"2023-01-06T00:59:59.999000\",\"2023-01-07T00:59:59.999000\",\"2023-01-08T00:59:59.999000\",\"2023-01-09T00:59:59.999000\",\"2023-01-10T00:59:59.999000\",\"2023-01-11T00:59:59.999000\",\"2023-01-12T00:59:59.999000\",\"2023-01-13T00:59:59.999000\",\"2023-01-14T00:59:59.999000\",\"2023-01-15T00:59:59.999000\",\"2023-01-16T00:59:59.999000\",\"2023-01-17T00:59:59.999000\",\"2023-01-18T00:59:59.999000\",\"2023-01-19T00:59:59.999000\",\"2023-01-20T00:59:59.999000\",\"2023-01-21T00:59:59.999000\",\"2023-01-22T00:59:59.999000\",\"2023-01-23T00:59:59.999000\",\"2023-01-24T00:59:59.999000\",\"2023-01-25T00:59:59.999000\",\"2023-01-26T00:59:59.999000\",\"2023-01-27T00:59:59.999000\",\"2023-01-28T00:59:59.999000\",\"2023-01-29T00:59:59.999000\",\"2023-01-30T00:59:59.999000\",\"2023-01-31T00:59:59.999000\",\"2023-02-01T00:59:59.999000\",\"2023-02-02T00:59:59.999000\",\"2023-02-03T00:59:59.999000\",\"2023-02-04T00:59:59.999000\",\"2023-02-05T00:59:59.999000\",\"2023-02-06T00:59:59.999000\",\"2023-02-07T00:59:59.999000\",\"2023-02-08T00:59:59.999000\",\"2023-02-09T00:59:59.999000\",\"2023-02-10T00:59:59.999000\",\"2023-02-11T00:59:59.999000\",\"2023-02-12T00:59:59.999000\",\"2023-02-13T00:59:59.999000\",\"2023-02-14T00:59:59.999000\",\"2023-02-15T00:59:59.999000\",\"2023-02-16T00:59:59.999000\",\"2023-02-17T00:59:59.999000\",\"2023-02-18T00:59:59.999000\",\"2023-02-19T00:59:59.999000\",\"2023-02-20T00:59:59.999000\",\"2023-02-21T00:59:59.999000\",\"2023-02-22T00:59:59.999000\",\"2023-02-23T00:59:59.999000\",\"2023-02-24T00:59:59.999000\",\"2023-02-25T00:59:59.999000\",\"2023-02-26T00:59:59.999000\",\"2023-02-27T00:59:59.999000\",\"2023-02-28T00:59:59.999000\",\"2023-03-01T00:59:59.999000\",\"2023-03-02T00:59:59.999000\",\"2023-03-03T00:59:59.999000\",\"2023-03-04T00:59:59.999000\",\"2023-03-05T00:59:59.999000\",\"2023-03-06T00:59:59.999000\",\"2023-03-07T00:59:59.999000\",\"2023-03-08T00:59:59.999000\",\"2023-03-09T00:59:59.999000\",\"2023-03-10T00:59:59.999000\",\"2023-03-11T00:59:59.999000\",\"2023-03-12T00:59:59.999000\",\"2023-03-13T00:59:59.999000\",\"2023-03-14T00:59:59.999000\",\"2023-03-15T00:59:59.999000\",\"2023-03-16T00:59:59.999000\",\"2023-03-17T00:59:59.999000\",\"2023-03-18T00:59:59.999000\",\"2023-03-19T00:59:59.999000\",\"2023-03-20T00:59:59.999000\",\"2023-03-21T00:59:59.999000\",\"2023-03-22T00:59:59.999000\",\"2023-03-23T00:59:59.999000\",\"2023-03-24T00:59:59.999000\",\"2023-03-25T00:59:59.999000\",\"2023-03-26T00:59:59.999000\",\"2023-03-27T01:59:59.999000\",\"2023-03-28T01:59:59.999000\",\"2023-03-29T01:59:59.999000\",\"2023-03-30T01:59:59.999000\",\"2023-03-31T01:59:59.999000\",\"2023-04-01T01:59:59.999000\",\"2023-04-02T01:59:59.999000\",\"2023-04-03T01:59:59.999000\",\"2023-04-04T01:59:59.999000\",\"2023-04-05T01:59:59.999000\",\"2023-04-06T01:59:59.999000\",\"2023-04-07T01:59:59.999000\",\"2023-04-08T01:59:59.999000\",\"2023-04-09T01:59:59.999000\",\"2023-04-10T01:59:59.999000\",\"2023-04-11T01:59:59.999000\",\"2023-04-12T01:59:59.999000\",\"2023-04-13T01:59:59.999000\",\"2023-04-14T01:59:59.999000\",\"2023-04-15T01:59:59.999000\",\"2023-04-16T01:59:59.999000\",\"2023-04-17T01:59:59.999000\",\"2023-04-18T01:59:59.999000\",\"2023-04-19T01:59:59.999000\",\"2023-04-20T01:59:59.999000\",\"2023-04-21T01:59:59.999000\",\"2023-04-22T01:59:59.999000\",\"2023-04-23T01:59:59.999000\",\"2023-04-24T01:59:59.999000\",\"2023-04-25T01:59:59.999000\",\"2023-04-26T01:59:59.999000\",\"2023-04-27T01:59:59.999000\",\"2023-04-28T01:59:59.999000\",\"2023-04-29T01:59:59.999000\",\"2023-04-30T01:59:59.999000\",\"2023-05-01T01:59:59.999000\",\"2023-05-02T01:59:59.999000\",\"2023-05-03T01:59:59.999000\",\"2023-05-04T01:59:59.999000\",\"2023-05-05T01:59:59.999000\",\"2023-05-06T01:59:59.999000\",\"2023-05-07T01:59:59.999000\",\"2023-05-08T01:59:59.999000\",\"2023-05-09T01:59:59.999000\",\"2023-05-10T01:59:59.999000\",\"2023-05-11T01:59:59.999000\",\"2023-05-12T01:59:59.999000\",\"2023-05-13T01:59:59.999000\",\"2023-05-14T01:59:59.999000\",\"2023-05-15T01:59:59.999000\",\"2023-05-16T01:59:59.999000\",\"2023-05-17T01:59:59.999000\",\"2023-05-18T01:59:59.999000\",\"2023-05-19T01:59:59.999000\",\"2023-05-20T01:59:59.999000\",\"2023-05-21T01:59:59.999000\",\"2023-05-22T01:59:59.999000\",\"2023-05-23T01:59:59.999000\",\"2023-05-24T01:59:59.999000\",\"2023-05-25T01:59:59.999000\",\"2023-05-26T01:59:59.999000\",\"2023-05-27T01:59:59.999000\",\"2023-05-28T01:59:59.999000\",\"2023-05-29T01:59:59.999000\",\"2023-05-30T01:59:59.999000\",\"2023-05-31T01:59:59.999000\",\"2023-06-01T01:59:59.999000\",\"2023-06-02T01:59:59.999000\",\"2023-06-03T01:59:59.999000\",\"2023-06-04T01:59:59.999000\",\"2023-06-05T01:59:59.999000\",\"2023-06-06T01:59:59.999000\",\"2023-06-07T01:59:59.999000\",\"2023-06-08T01:59:59.999000\",\"2023-06-09T01:59:59.999000\",\"2023-06-10T01:59:59.999000\",\"2023-06-11T01:59:59.999000\",\"2023-06-12T01:59:59.999000\",\"2023-06-13T01:59:59.999000\",\"2023-06-14T01:59:59.999000\",\"2023-06-15T01:59:59.999000\",\"2023-06-16T01:59:59.999000\",\"2023-06-17T01:59:59.999000\",\"2023-06-18T01:59:59.999000\",\"2023-06-19T01:59:59.999000\",\"2023-06-20T01:59:59.999000\",\"2023-06-21T01:59:59.999000\",\"2023-06-22T01:59:59.999000\",\"2023-06-23T01:59:59.999000\",\"2023-06-24T01:59:59.999000\",\"2023-06-25T01:59:59.999000\",\"2023-06-26T01:59:59.999000\",\"2023-06-27T01:59:59.999000\",\"2023-06-28T01:59:59.999000\",\"2023-06-29T01:59:59.999000\",\"2023-06-30T01:59:59.999000\",\"2023-07-01T01:59:59.999000\",\"2023-07-02T01:59:59.999000\",\"2023-07-03T01:59:59.999000\",\"2023-07-04T01:59:59.999000\",\"2023-07-05T01:59:59.999000\",\"2023-07-06T01:59:59.999000\",\"2023-07-07T01:59:59.999000\",\"2023-07-08T01:59:59.999000\",\"2023-07-09T01:59:59.999000\",\"2023-07-10T01:59:59.999000\",\"2023-07-11T01:59:59.999000\",\"2023-07-12T01:59:59.999000\",\"2023-07-13T01:59:59.999000\",\"2023-07-14T01:59:59.999000\",\"2023-07-15T01:59:59.999000\",\"2023-07-16T01:59:59.999000\",\"2023-07-17T01:59:59.999000\",\"2023-07-18T01:59:59.999000\",\"2023-07-19T01:59:59.999000\",\"2023-07-20T01:59:59.999000\",\"2023-07-21T01:59:59.999000\",\"2023-07-22T01:59:59.999000\",\"2023-07-23T01:59:59.999000\",\"2023-07-24T01:59:59.999000\",\"2023-07-25T01:59:59.999000\",\"2023-07-26T01:59:59.999000\",\"2023-07-27T01:59:59.999000\",\"2023-07-28T01:59:59.999000\",\"2023-07-29T01:59:59.999000\",\"2023-07-30T01:59:59.999000\",\"2023-07-31T01:59:59.999000\",\"2023-08-01T01:59:59.999000\",\"2023-08-02T01:59:59.999000\",\"2023-08-03T01:59:59.999000\",\"2023-08-04T01:59:59.999000\",\"2023-08-05T01:59:59.999000\",\"2023-08-06T01:59:59.999000\",\"2023-08-07T01:59:59.999000\",\"2023-08-08T01:59:59.999000\",\"2023-08-09T01:59:59.999000\",\"2023-08-10T01:59:59.999000\",\"2023-08-11T01:59:59.999000\",\"2023-08-12T01:59:59.999000\",\"2023-08-13T01:59:59.999000\",\"2023-08-14T01:59:59.999000\",\"2023-08-15T01:59:59.999000\",\"2023-08-16T01:59:59.999000\",\"2023-08-17T01:59:59.999000\",\"2023-08-18T01:59:59.999000\",\"2023-08-19T01:59:59.999000\",\"2023-08-20T01:59:59.999000\",\"2023-08-21T01:59:59.999000\",\"2023-08-22T01:59:59.999000\",\"2023-08-23T01:59:59.999000\",\"2023-08-24T01:59:59.999000\",\"2023-08-25T01:59:59.999000\",\"2023-08-26T01:59:59.999000\",\"2023-08-27T01:59:59.999000\",\"2023-08-28T01:59:59.999000\",\"2023-08-29T01:59:59.999000\",\"2023-08-30T01:59:59.999000\",\"2023-08-31T01:59:59.999000\",\"2023-09-01T01:59:59.999000\",\"2023-09-02T01:59:59.999000\",\"2023-09-03T01:59:59.999000\",\"2023-09-04T01:59:59.999000\",\"2023-09-05T01:59:59.999000\",\"2023-09-06T01:59:59.999000\",\"2023-09-07T01:59:59.999000\",\"2023-09-08T01:59:59.999000\",\"2023-09-09T01:59:59.999000\",\"2023-09-10T01:59:59.999000\",\"2023-09-11T01:59:59.999000\",\"2023-09-12T01:59:59.999000\",\"2023-09-13T01:59:59.999000\",\"2023-09-14T01:59:59.999000\",\"2023-09-15T01:59:59.999000\",\"2023-09-16T01:59:59.999000\",\"2023-09-17T01:59:59.999000\",\"2023-09-18T01:59:59.999000\",\"2023-09-19T01:59:59.999000\",\"2023-09-20T01:59:59.999000\",\"2023-09-21T01:59:59.999000\",\"2023-09-22T01:59:59.999000\",\"2023-09-23T01:59:59.999000\",\"2023-09-24T01:59:59.999000\",\"2023-09-25T01:59:59.999000\",\"2023-09-26T01:59:59.999000\",\"2023-09-27T01:59:59.999000\",\"2023-09-28T01:59:59.999000\",\"2023-09-29T01:59:59.999000\",\"2023-09-30T01:59:59.999000\",\"2023-10-01T01:59:59.999000\",\"2023-10-02T01:59:59.999000\",\"2023-10-03T01:59:59.999000\",\"2023-10-04T01:59:59.999000\",\"2023-10-05T01:59:59.999000\",\"2023-10-06T01:59:59.999000\",\"2023-10-07T01:59:59.999000\",\"2023-10-08T01:59:59.999000\",\"2023-10-09T01:59:59.999000\",\"2023-10-10T01:59:59.999000\",\"2023-10-11T01:59:59.999000\",\"2023-10-12T01:59:59.999000\",\"2023-10-13T01:59:59.999000\",\"2023-10-14T01:59:59.999000\",\"2023-10-15T01:59:59.999000\",\"2023-10-16T01:59:59.999000\",\"2023-10-17T01:59:59.999000\",\"2023-10-18T01:59:59.999000\",\"2023-10-19T01:59:59.999000\",\"2023-10-20T01:59:59.999000\",\"2023-10-21T01:59:59.999000\",\"2023-10-22T01:59:59.999000\",\"2023-10-23T01:59:59.999000\",\"2023-10-24T01:59:59.999000\",\"2023-10-25T01:59:59.999000\",\"2023-10-26T01:59:59.999000\",\"2023-10-27T01:59:59.999000\",\"2023-10-28T01:59:59.999000\",\"2023-10-29T01:59:59.999000\",\"2023-10-30T00:59:59.999000\",\"2023-10-31T00:59:59.999000\",\"2023-11-01T00:59:59.999000\",\"2023-11-02T00:59:59.999000\",\"2023-11-03T00:59:59.999000\",\"2023-11-04T00:59:59.999000\",\"2023-11-05T00:59:59.999000\",\"2023-11-06T00:59:59.999000\",\"2023-11-07T00:59:59.999000\",\"2023-11-08T00:59:59.999000\",\"2023-11-09T00:59:59.999000\",\"2023-11-10T00:59:59.999000\",\"2023-11-11T00:59:59.999000\",\"2023-11-12T00:59:59.999000\",\"2023-11-13T00:59:59.999000\",\"2023-11-14T00:59:59.999000\",\"2023-11-15T00:59:59.999000\",\"2023-11-16T00:59:59.999000\",\"2023-11-17T00:59:59.999000\",\"2023-11-18T00:59:59.999000\",\"2023-11-19T00:59:59.999000\",\"2023-11-20T00:59:59.999000\",\"2023-11-21T00:59:59.999000\",\"2023-11-22T00:59:59.999000\",\"2023-11-23T00:59:59.999000\",\"2023-11-24T00:59:59.999000\",\"2023-11-25T00:59:59.999000\",\"2023-11-26T00:59:59.999000\",\"2023-11-27T00:59:59.999000\",\"2023-11-28T00:59:59.999000\",\"2023-11-29T00:59:59.999000\",\"2023-11-30T00:59:59.999000\",\"2023-12-01T00:59:59.999000\"],\"y\":[0.02804842043106004,-0.013210798391728895,0.010477299185098987,-0.026497695852534475,0.01863905325443782,-0.0002904443799012224,0.0029052876234747504,0.011008111239860785,0.004871060171919961,0.06301682349586546,0.005364806866952732,0.02934898612593373,0.024624157594608675,-0.02732102200860098,0.002600780234070177,0.0033722438391698972,-0.022233712512926607,0.0386039132734004,0.05117107942973531,-0.023007992249939435,-0.007436787307882997,0.05744255744255744,-0.03684459140292873,0.022560078469838096,-0.018705035971222972,0.008797653958944274,-0.012112403100775215,0.013732221677292822,-0.04837929366231242,0.03126588713777312,0.018240078876016863,-0.007988380537400253,0.004636408003904302,-0.0026718484333252412,-0.029712615684364452,-0.016064257028112316,0.0295918367346939,-0.015113974231912741,-0.03924528301886798,-0.0005236973029589809,0.0041917736442231845,-0.02243673362901122,-0.011742727515345552,0.03132595193086685,0.050274941084053504,-0.04238344552480677,0.028378026555584634,-0.0017721518987342533,-0.02028911995942173,0.03132280610924143,-0.016315261044176577,0.00867568257208462,-0.017961042246395165,-0.025502318392581103,-0.001321702352630183,0.00026469031233444795,0.001587721619475957,-0.0060766182298547244,0.01940457203615109,-0.016427640156453815,0.0005302226935313126,-0.010333863275039823,-0.017938420348058814,0.007360959651036003,0.02868741542625175,0.02315180215732715,-0.04705579840575991,-0.0016189962223420729,-0.016756756756756697,0.020890599230346307,0.002692514808831481,0.0,-0.036251342642320106,0.0161604903872945,0.04140389361118735,-0.015534491837809417,0.031559240438619796,-0.031890070002592585,0.2576325656132834,-0.10285349233390118,0.05340612390220745,-0.040333483551149074,0.03991547311575494,0.011289230074508882,0.06943514177271704,0.07390396659707732,0.05462674961119762,-0.01953917050691234,0.010340289528106617,-0.05191663565314486,0.016683022571148287,-0.04266409266409266,0.013510788465416423,0.005769996020692281,-0.005341246290801016,0.019490851233094464,-0.015216543113538705,0.0011885895404120106,0.024139295607439548,-0.0017387944358575602,-0.02283723630733503,0.015052485640720814,0.019902439024390484,-0.00669600153051475,0.003274268104776601,-0.019197542714532556,0.04208259933450775,-0.07757325319308794,-0.032376298106291945,-0.05492424242424243,0.05076820307281227,-0.015257469802924306,-0.007746933505487386,0.018217306441119074,-0.016400425985090505,0.010610653962754402,0.027640882794086163,-0.0033361134278566684,-0.01569037656903771,-0.011902231668437846,-0.0008604000860399363,-0.0027987082884822767,-0.005181347150259086,0.013671875,-0.019053735816741635,-0.020078568310781253,-0.04610244988864143,0.0014008872285780072,0.0032641641408253097,-0.022310016267720223,0.02329450915141429,-0.015098722415795574,0.0030660377358491253,0.004702562896778728,0.03557219751930729,0.01333333333333342,0.024977698483496846,0.017188859878154883,0.002139037433155133,-0.023479188900747072,0.009398907103825183,0.007145950627977626,-0.02601591055686947,0.0017660044150109577,0.03217276333186425,0.006404782237404039,0.02248621128553241,0.02614107883817418,0.052365547917509137,-0.007492795389049012,-0.01955090979481222,0.03534057255676215,-0.010678871090770259,0.03296067848882034,-0.05019593207688011,0.04125736738703334,-0.022075471698113303,0.010225737989581374,0.027501909854851236,-0.05817843866171002,0.027827116637063387,0.008256528417818654,-0.011235955056179803,-0.07530816640986127,0.0,-0.008748177463028584,0.007354486236604396,0.015435961618690097,0.013968775677896339,-0.0014181523500810256,0.014201663623452987,-0.012202440488097599,0.0046577561765897,-0.019350937311025995,0.007810894141829339,-0.023047114011829573,0.01002087682672248,-0.03947912360479533,0.021519259737465157,-0.0037918685485570647,0.0006343835906110762,0.02387996618765853,0.009287925696594534,-0.0036809815950920033,-0.019499178981937648,-0.03244714255809089,0.014063176114236242,0.0036270535523788006,-0.005102040816326481,0.02136752136752129,-0.005648535564853563,-0.009046917736166726,0.7309978768577496,-0.119465227523611,-0.0047360356595625985,0.04520643806857949,-0.012587038028923359,0.05492270138323829,0.053991515618974084,-0.031345286010489026,-0.028834046839587013,-0.04952677298068198,0.007229573045969051,-0.04916034669555791,0.009685230024213176,0.010156580617858735,-0.003072196620583667,-0.002661437176075143,0.0001404494382022392,-0.010532228619575812,-0.009934714731762662,0.013331422018348693,-0.030980336681284415,-0.03211678832116793,-0.04132730015082953,-0.010698552548772833,-0.007633587786259555,-0.0006410256410255277,0.02918537524053888,0.002337176690557774,-0.015855743820923363,-0.002053388090349051,-0.006647673314339908,-0.0031867431485022024,0.013906649616368227,-0.03767933154658665,-0.035222804718217704,-0.14009169638308716,-0.0003949447077408186,0.027064401422362883,0.03558376610886693,-0.025817236255572085,-0.006673021925643341,0.01746641074856048,-0.021505376344086002,0.013688066319645253,-0.005135032331685108,0.0009558401835212393,-0.0007639419404124048,0.0317278287461773,-0.021118932938125168,-0.03292959878879631,-0.025440313111546042,0.0016064257028112205,0.011828388131515766,0.00792550029720629,-0.0060939650088460695,-0.004549050632911555,0.003377707132922847,0.0,-0.0023762376237623783,-0.013695911075823797,-0.04528074059166842,0.012647554806070938,0.00582847626977534,0.012417218543046449,0.02309893704006516,-0.0013986013986012624,-0.014605842336934849,0.02131979695431463,0.021868787276341894,0.014007782101167265,-0.02705295471987723,0.010057187931374445,-0.008980866848886992,-0.010835303388495032,0.0069707229635531665,-0.007318037974683667,-0.0051803148037457,0.02102944121770478,0.022950176539819456,-0.012655800575263498,0.017867547096523495,-0.022514787254340862,0.05211789966816327,-0.01187384044526918,-0.018588058580548128,0.0053568012244116225,-0.007421503330161783,-0.00805214723926373,-0.028411287205256985,-0.012333399641933585,-0.015508559919436005,-0.011865793780687417,0.004347826086956497,0.0028860028860029363,0.00184994861253851,0.021337710299548673,-0.013258336681398086,-0.006921824104234586,0.06539565395653968,-0.009236097748701266,0.011458535637987932,0.003456221198156584,0.04764638346727912,0.020639269406392602,-0.006442376521116566,-0.0034221902017291805,-0.01861557925176216,0.0029465930018415243,0.021116415717958192,0.03938140622190245,0.037370242214533,0.01484322881921285,-0.005094494658997473,0.011067063098777474,0.004574415945107102,0.07448365587900474,0.08188285152111408,-0.04168998321208717,0.0027737226277371185,-0.02969864609113404,-0.010502625656414133,0.004700530705079586,-0.0019619680048293953,0.013458339634054184,-0.060578931662190305,0.02938373570520958,-0.0558555778429255,0.0022879555482921976,-0.004402413174628972,0.024893547330494536,-0.021732182806008415,-0.05455733420450826,0.05545957152729786,0.016369291209690662,0.00048316959252692193,0.0025756600128783447,-0.011400128452151548,-0.019165177846353743,0.011260142407683471,-0.0026199443261831767,-0.004596946314234129],\"type\":\"scatter\"}],                        {\"template\":{\"data\":{\"histogram2dcontour\":[{\"type\":\"histogram2dcontour\",\"colorbar\":{\"outlinewidth\":0,\"ticks\":\"\"},\"colorscale\":[[0.0,\"#0d0887\"],[0.1111111111111111,\"#46039f\"],[0.2222222222222222,\"#7201a8\"],[0.3333333333333333,\"#9c179e\"],[0.4444444444444444,\"#bd3786\"],[0.5555555555555556,\"#d8576b\"],[0.6666666666666666,\"#ed7953\"],[0.7777777777777778,\"#fb9f3a\"],[0.8888888888888888,\"#fdca26\"],[1.0,\"#f0f921\"]]}],\"choropleth\":[{\"type\":\"choropleth\",\"colorbar\":{\"outlinewidth\":0,\"ticks\":\"\"}}],\"histogram2d\":[{\"type\":\"histogram2d\",\"colorbar\":{\"outlinewidth\":0,\"ticks\":\"\"},\"colorscale\":[[0.0,\"#0d0887\"],[0.1111111111111111,\"#46039f\"],[0.2222222222222222,\"#7201a8\"],[0.3333333333333333,\"#9c179e\"],[0.4444444444444444,\"#bd3786\"],[0.5555555555555556,\"#d8576b\"],[0.6666666666666666,\"#ed7953\"],[0.7777777777777778,\"#fb9f3a\"],[0.8888888888888888,\"#fdca26\"],[1.0,\"#f0f921\"]]}],\"heatmap\":[{\"type\":\"heatmap\",\"colorbar\":{\"outlinewidth\":0,\"ticks\":\"\"},\"colorscale\":[[0.0,\"#0d0887\"],[0.1111111111111111,\"#46039f\"],[0.2222222222222222,\"#7201a8\"],[0.3333333333333333,\"#9c179e\"],[0.4444444444444444,\"#bd3786\"],[0.5555555555555556,\"#d8576b\"],[0.6666666666666666,\"#ed7953\"],[0.7777777777777778,\"#fb9f3a\"],[0.8888888888888888,\"#fdca26\"],[1.0,\"#f0f921\"]]}],\"heatmapgl\":[{\"type\":\"heatmapgl\",\"colorbar\":{\"outlinewidth\":0,\"ticks\":\"\"},\"colorscale\":[[0.0,\"#0d0887\"],[0.1111111111111111,\"#46039f\"],[0.2222222222222222,\"#7201a8\"],[0.3333333333333333,\"#9c179e\"],[0.4444444444444444,\"#bd3786\"],[0.5555555555555556,\"#d8576b\"],[0.6666666666666666,\"#ed7953\"],[0.7777777777777778,\"#fb9f3a\"],[0.8888888888888888,\"#fdca26\"],[1.0,\"#f0f921\"]]}],\"contourcarpet\":[{\"type\":\"contourcarpet\",\"colorbar\":{\"outlinewidth\":0,\"ticks\":\"\"}}],\"contour\":[{\"type\":\"contour\",\"colorbar\":{\"outlinewidth\":0,\"ticks\":\"\"},\"colorscale\":[[0.0,\"#0d0887\"],[0.1111111111111111,\"#46039f\"],[0.2222222222222222,\"#7201a8\"],[0.3333333333333333,\"#9c179e\"],[0.4444444444444444,\"#bd3786\"],[0.5555555555555556,\"#d8576b\"],[0.6666666666666666,\"#ed7953\"],[0.7777777777777778,\"#fb9f3a\"],[0.8888888888888888,\"#fdca26\"],[1.0,\"#f0f921\"]]}],\"surface\":[{\"type\":\"surface\",\"colorbar\":{\"outlinewidth\":0,\"ticks\":\"\"},\"colorscale\":[[0.0,\"#0d0887\"],[0.1111111111111111,\"#46039f\"],[0.2222222222222222,\"#7201a8\"],[0.3333333333333333,\"#9c179e\"],[0.4444444444444444,\"#bd3786\"],[0.5555555555555556,\"#d8576b\"],[0.6666666666666666,\"#ed7953\"],[0.7777777777777778,\"#fb9f3a\"],[0.8888888888888888,\"#fdca26\"],[1.0,\"#f0f921\"]]}],\"mesh3d\":[{\"type\":\"mesh3d\",\"colorbar\":{\"outlinewidth\":0,\"ticks\":\"\"}}],\"scatter\":[{\"fillpattern\":{\"fillmode\":\"overlay\",\"size\":10,\"solidity\":0.2},\"type\":\"scatter\"}],\"parcoords\":[{\"type\":\"parcoords\",\"line\":{\"colorbar\":{\"outlinewidth\":0,\"ticks\":\"\"}}}],\"scatterpolargl\":[{\"type\":\"scatterpolargl\",\"marker\":{\"colorbar\":{\"outlinewidth\":0,\"ticks\":\"\"}}}],\"bar\":[{\"error_x\":{\"color\":\"#2a3f5f\"},\"error_y\":{\"color\":\"#2a3f5f\"},\"marker\":{\"line\":{\"color\":\"#E5ECF6\",\"width\":0.5},\"pattern\":{\"fillmode\":\"overlay\",\"size\":10,\"solidity\":0.2}},\"type\":\"bar\"}],\"scattergeo\":[{\"type\":\"scattergeo\",\"marker\":{\"colorbar\":{\"outlinewidth\":0,\"ticks\":\"\"}}}],\"scatterpolar\":[{\"type\":\"scatterpolar\",\"marker\":{\"colorbar\":{\"outlinewidth\":0,\"ticks\":\"\"}}}],\"histogram\":[{\"marker\":{\"pattern\":{\"fillmode\":\"overlay\",\"size\":10,\"solidity\":0.2}},\"type\":\"histogram\"}],\"scattergl\":[{\"type\":\"scattergl\",\"marker\":{\"colorbar\":{\"outlinewidth\":0,\"ticks\":\"\"}}}],\"scatter3d\":[{\"type\":\"scatter3d\",\"line\":{\"colorbar\":{\"outlinewidth\":0,\"ticks\":\"\"}},\"marker\":{\"colorbar\":{\"outlinewidth\":0,\"ticks\":\"\"}}}],\"scattermapbox\":[{\"type\":\"scattermapbox\",\"marker\":{\"colorbar\":{\"outlinewidth\":0,\"ticks\":\"\"}}}],\"scatterternary\":[{\"type\":\"scatterternary\",\"marker\":{\"colorbar\":{\"outlinewidth\":0,\"ticks\":\"\"}}}],\"scattercarpet\":[{\"type\":\"scattercarpet\",\"marker\":{\"colorbar\":{\"outlinewidth\":0,\"ticks\":\"\"}}}],\"carpet\":[{\"aaxis\":{\"endlinecolor\":\"#2a3f5f\",\"gridcolor\":\"white\",\"linecolor\":\"white\",\"minorgridcolor\":\"white\",\"startlinecolor\":\"#2a3f5f\"},\"baxis\":{\"endlinecolor\":\"#2a3f5f\",\"gridcolor\":\"white\",\"linecolor\":\"white\",\"minorgridcolor\":\"white\",\"startlinecolor\":\"#2a3f5f\"},\"type\":\"carpet\"}],\"table\":[{\"cells\":{\"fill\":{\"color\":\"#EBF0F8\"},\"line\":{\"color\":\"white\"}},\"header\":{\"fill\":{\"color\":\"#C8D4E3\"},\"line\":{\"color\":\"white\"}},\"type\":\"table\"}],\"barpolar\":[{\"marker\":{\"line\":{\"color\":\"#E5ECF6\",\"width\":0.5},\"pattern\":{\"fillmode\":\"overlay\",\"size\":10,\"solidity\":0.2}},\"type\":\"barpolar\"}],\"pie\":[{\"automargin\":true,\"type\":\"pie\"}]},\"layout\":{\"autotypenumbers\":\"strict\",\"colorway\":[\"#636efa\",\"#EF553B\",\"#00cc96\",\"#ab63fa\",\"#FFA15A\",\"#19d3f3\",\"#FF6692\",\"#B6E880\",\"#FF97FF\",\"#FECB52\"],\"font\":{\"color\":\"#2a3f5f\"},\"hovermode\":\"closest\",\"hoverlabel\":{\"align\":\"left\"},\"paper_bgcolor\":\"white\",\"plot_bgcolor\":\"#E5ECF6\",\"polar\":{\"bgcolor\":\"#E5ECF6\",\"angularaxis\":{\"gridcolor\":\"white\",\"linecolor\":\"white\",\"ticks\":\"\"},\"radialaxis\":{\"gridcolor\":\"white\",\"linecolor\":\"white\",\"ticks\":\"\"}},\"ternary\":{\"bgcolor\":\"#E5ECF6\",\"aaxis\":{\"gridcolor\":\"white\",\"linecolor\":\"white\",\"ticks\":\"\"},\"baxis\":{\"gridcolor\":\"white\",\"linecolor\":\"white\",\"ticks\":\"\"},\"caxis\":{\"gridcolor\":\"white\",\"linecolor\":\"white\",\"ticks\":\"\"}},\"coloraxis\":{\"colorbar\":{\"outlinewidth\":0,\"ticks\":\"\"}},\"colorscale\":{\"sequential\":[[0.0,\"#0d0887\"],[0.1111111111111111,\"#46039f\"],[0.2222222222222222,\"#7201a8\"],[0.3333333333333333,\"#9c179e\"],[0.4444444444444444,\"#bd3786\"],[0.5555555555555556,\"#d8576b\"],[0.6666666666666666,\"#ed7953\"],[0.7777777777777778,\"#fb9f3a\"],[0.8888888888888888,\"#fdca26\"],[1.0,\"#f0f921\"]],\"sequentialminus\":[[0.0,\"#0d0887\"],[0.1111111111111111,\"#46039f\"],[0.2222222222222222,\"#7201a8\"],[0.3333333333333333,\"#9c179e\"],[0.4444444444444444,\"#bd3786\"],[0.5555555555555556,\"#d8576b\"],[0.6666666666666666,\"#ed7953\"],[0.7777777777777778,\"#fb9f3a\"],[0.8888888888888888,\"#fdca26\"],[1.0,\"#f0f921\"]],\"diverging\":[[0,\"#8e0152\"],[0.1,\"#c51b7d\"],[0.2,\"#de77ae\"],[0.3,\"#f1b6da\"],[0.4,\"#fde0ef\"],[0.5,\"#f7f7f7\"],[0.6,\"#e6f5d0\"],[0.7,\"#b8e186\"],[0.8,\"#7fbc41\"],[0.9,\"#4d9221\"],[1,\"#276419\"]]},\"xaxis\":{\"gridcolor\":\"white\",\"linecolor\":\"white\",\"ticks\":\"\",\"title\":{\"standoff\":15},\"zerolinecolor\":\"white\",\"automargin\":true,\"zerolinewidth\":2},\"yaxis\":{\"gridcolor\":\"white\",\"linecolor\":\"white\",\"ticks\":\"\",\"title\":{\"standoff\":15},\"zerolinecolor\":\"white\",\"automargin\":true,\"zerolinewidth\":2},\"scene\":{\"xaxis\":{\"backgroundcolor\":\"#E5ECF6\",\"gridcolor\":\"white\",\"linecolor\":\"white\",\"showbackground\":true,\"ticks\":\"\",\"zerolinecolor\":\"white\",\"gridwidth\":2},\"yaxis\":{\"backgroundcolor\":\"#E5ECF6\",\"gridcolor\":\"white\",\"linecolor\":\"white\",\"showbackground\":true,\"ticks\":\"\",\"zerolinecolor\":\"white\",\"gridwidth\":2},\"zaxis\":{\"backgroundcolor\":\"#E5ECF6\",\"gridcolor\":\"white\",\"linecolor\":\"white\",\"showbackground\":true,\"ticks\":\"\",\"zerolinecolor\":\"white\",\"gridwidth\":2}},\"shapedefaults\":{\"line\":{\"color\":\"#2a3f5f\"}},\"annotationdefaults\":{\"arrowcolor\":\"#2a3f5f\",\"arrowhead\":0,\"arrowwidth\":1},\"geo\":{\"bgcolor\":\"white\",\"landcolor\":\"#E5ECF6\",\"subunitcolor\":\"white\",\"showland\":true,\"showlakes\":true,\"lakecolor\":\"white\"},\"title\":{\"x\":0.05},\"mapbox\":{\"style\":\"light\"}}},\"shapes\":[{\"line\":{\"color\":\"red\",\"dash\":\"dash\"},\"type\":\"line\",\"x0\":0,\"x1\":1,\"xref\":\"x domain\",\"y0\":0,\"y1\":0,\"yref\":\"y\"}],\"xaxis\":{\"title\":{\"text\":\"Date\"},\"showline\":true,\"showgrid\":false,\"linecolor\":\"black\"},\"yaxis\":{\"title\":{\"text\":\"Daily Returns\"},\"showline\":true,\"showgrid\":true,\"gridcolor\":\"LightGrey\",\"linecolor\":\"black\"},\"margin\":{\"l\":20,\"r\":20,\"t\":40,\"b\":20},\"title\":{\"text\":\"Daily Returns Over Time\"},\"plot_bgcolor\":\"white\",\"hovermode\":\"x\"},                        {\"responsive\": true}                    ).then(function(){\n",
       "                            \n",
       "var gd = document.getElementById('f8a1780d-a02c-4726-b26a-324e76e76e2e');\n",
       "var x = new MutationObserver(function (mutations, observer) {{\n",
       "        var display = window.getComputedStyle(gd).display;\n",
       "        if (!display || display === 'none') {{\n",
       "            console.log([gd, 'removed!']);\n",
       "            Plotly.purge(gd);\n",
       "            observer.disconnect();\n",
       "        }}\n",
       "}});\n",
       "\n",
       "// Listen for the removal of the full notebook cells\n",
       "var notebookContainer = gd.closest('#notebook-container');\n",
       "if (notebookContainer) {{\n",
       "    x.observe(notebookContainer, {childList: true});\n",
       "}}\n",
       "\n",
       "// Listen for the clearing of the current output cell\n",
       "var outputEl = gd.closest('.output');\n",
       "if (outputEl) {{\n",
       "    x.observe(outputEl, {childList: true});\n",
       "}}\n",
       "\n",
       "                        })                };                });            </script>        </div>"
      ]
     },
     "metadata": {},
     "output_type": "display_data"
    }
   ],
   "source": [
    "# Creating the Plotly figure\n",
    "fig = go.Figure()\n",
    "\n",
    "# Adding the daily returns trace\n",
    "fig.add_trace(go.Scatter(x=full_data.index,y=daily_returns, mode='lines', name='Daily Returns',\n",
    "                         line=dict(color='blue', width=2)))\n",
    "\n",
    "# Highlighting the zero line\n",
    "fig.add_hline(y=0, line_dash=\"dash\", line_color=\"red\")\n",
    "\n",
    "# Enhancing the layout for a modern look\n",
    "fig.update_layout(\n",
    "    title='Daily Returns Over Time',\n",
    "    xaxis_title='Date',\n",
    "    yaxis_title='Daily Returns',\n",
    "    plot_bgcolor='white',\n",
    "    xaxis=dict(showline=True, showgrid=False, linecolor='black'),\n",
    "    yaxis=dict(showline=True, showgrid=True, gridcolor='LightGrey', linecolor='black'),\n",
    "    margin=dict(l=20, r=20, t=40, b=20),\n",
    "    hovermode='x'\n",
    ")\n",
    "\n",
    "# Show the plot\n",
    "fig.show()\n"
   ]
  },
  {
   "cell_type": "code",
   "execution_count": 27,
   "id": "efc3890c",
   "metadata": {},
   "outputs": [
    {
     "data": {
      "application/vnd.plotly.v1+json": {
       "config": {
        "plotlyServerURL": "https://plot.ly"
       },
       "data": [
        {
         "alignmentgroup": "True",
         "bingroup": "x",
         "hovertemplate": "variable=Close<br>value=%{x}<br>count=%{y}<extra></extra>",
         "legendgroup": "Close",
         "marker": {
          "color": "#636efa",
          "pattern": {
           "shape": ""
          }
         },
         "name": "Close",
         "nbinsx": 30,
         "offsetgroup": "Close",
         "orientation": "v",
         "showlegend": true,
         "type": "histogram",
         "x": [
          0.02804842043106004,
          -0.013210798391728895,
          0.010477299185098987,
          -0.026497695852534475,
          0.01863905325443782,
          -0.0002904443799012224,
          0.0029052876234747504,
          0.011008111239860785,
          0.004871060171919961,
          0.06301682349586546,
          0.005364806866952732,
          0.02934898612593373,
          0.024624157594608675,
          -0.02732102200860098,
          0.002600780234070177,
          0.0033722438391698972,
          -0.022233712512926607,
          0.0386039132734004,
          0.05117107942973531,
          -0.023007992249939435,
          -0.007436787307882997,
          0.05744255744255744,
          -0.03684459140292873,
          0.022560078469838096,
          -0.018705035971222972,
          0.008797653958944274,
          -0.012112403100775215,
          0.013732221677292822,
          -0.04837929366231242,
          0.03126588713777312,
          0.018240078876016863,
          -0.007988380537400253,
          0.004636408003904302,
          -0.0026718484333252412,
          -0.029712615684364452,
          -0.016064257028112316,
          0.0295918367346939,
          -0.015113974231912741,
          -0.03924528301886798,
          -0.0005236973029589809,
          0.0041917736442231845,
          -0.02243673362901122,
          -0.011742727515345552,
          0.03132595193086685,
          0.050274941084053504,
          -0.04238344552480677,
          0.028378026555584634,
          -0.0017721518987342533,
          -0.02028911995942173,
          0.03132280610924143,
          -0.016315261044176577,
          0.00867568257208462,
          -0.017961042246395165,
          -0.025502318392581103,
          -0.001321702352630183,
          0.00026469031233444795,
          0.001587721619475957,
          -0.0060766182298547244,
          0.01940457203615109,
          -0.016427640156453815,
          0.0005302226935313126,
          -0.010333863275039823,
          -0.017938420348058814,
          0.007360959651036003,
          0.02868741542625175,
          0.02315180215732715,
          -0.04705579840575991,
          -0.0016189962223420729,
          -0.016756756756756697,
          0.020890599230346307,
          0.002692514808831481,
          0,
          -0.036251342642320106,
          0.0161604903872945,
          0.04140389361118735,
          -0.015534491837809417,
          0.031559240438619796,
          -0.031890070002592585,
          0.2576325656132834,
          -0.10285349233390118,
          0.05340612390220745,
          -0.040333483551149074,
          0.03991547311575494,
          0.011289230074508882,
          0.06943514177271704,
          0.07390396659707732,
          0.05462674961119762,
          -0.01953917050691234,
          0.010340289528106617,
          -0.05191663565314486,
          0.016683022571148287,
          -0.04266409266409266,
          0.013510788465416423,
          0.005769996020692281,
          -0.005341246290801016,
          0.019490851233094464,
          -0.015216543113538705,
          0.0011885895404120106,
          0.024139295607439548,
          -0.0017387944358575602,
          -0.02283723630733503,
          0.015052485640720814,
          0.019902439024390484,
          -0.00669600153051475,
          0.003274268104776601,
          -0.019197542714532556,
          0.04208259933450775,
          -0.07757325319308794,
          -0.032376298106291945,
          -0.05492424242424243,
          0.05076820307281227,
          -0.015257469802924306,
          -0.007746933505487386,
          0.018217306441119074,
          -0.016400425985090505,
          0.010610653962754402,
          0.027640882794086163,
          -0.0033361134278566684,
          -0.01569037656903771,
          -0.011902231668437846,
          -0.0008604000860399363,
          -0.0027987082884822767,
          -0.005181347150259086,
          0.013671875,
          -0.019053735816741635,
          -0.020078568310781253,
          -0.04610244988864143,
          0.0014008872285780072,
          0.0032641641408253097,
          -0.022310016267720223,
          0.02329450915141429,
          -0.015098722415795574,
          0.0030660377358491253,
          0.004702562896778728,
          0.03557219751930729,
          0.01333333333333342,
          0.024977698483496846,
          0.017188859878154883,
          0.002139037433155133,
          -0.023479188900747072,
          0.009398907103825183,
          0.007145950627977626,
          -0.02601591055686947,
          0.0017660044150109577,
          0.03217276333186425,
          0.006404782237404039,
          0.02248621128553241,
          0.02614107883817418,
          0.052365547917509137,
          -0.007492795389049012,
          -0.01955090979481222,
          0.03534057255676215,
          -0.010678871090770259,
          0.03296067848882034,
          -0.05019593207688011,
          0.04125736738703334,
          -0.022075471698113303,
          0.010225737989581374,
          0.027501909854851236,
          -0.05817843866171002,
          0.027827116637063387,
          0.008256528417818654,
          -0.011235955056179803,
          -0.07530816640986127,
          0,
          -0.008748177463028584,
          0.007354486236604396,
          0.015435961618690097,
          0.013968775677896339,
          -0.0014181523500810256,
          0.014201663623452987,
          -0.012202440488097599,
          0.0046577561765897,
          -0.019350937311025995,
          0.007810894141829339,
          -0.023047114011829573,
          0.01002087682672248,
          -0.03947912360479533,
          0.021519259737465157,
          -0.0037918685485570647,
          0.0006343835906110762,
          0.02387996618765853,
          0.009287925696594534,
          -0.0036809815950920033,
          -0.019499178981937648,
          -0.03244714255809089,
          0.014063176114236242,
          0.0036270535523788006,
          -0.005102040816326481,
          0.02136752136752129,
          -0.005648535564853563,
          -0.009046917736166726,
          0.7309978768577496,
          -0.119465227523611,
          -0.0047360356595625985,
          0.04520643806857949,
          -0.012587038028923359,
          0.05492270138323829,
          0.053991515618974084,
          -0.031345286010489026,
          -0.028834046839587013,
          -0.04952677298068198,
          0.007229573045969051,
          -0.04916034669555791,
          0.009685230024213176,
          0.010156580617858735,
          -0.003072196620583667,
          -0.002661437176075143,
          0.0001404494382022392,
          -0.010532228619575812,
          -0.009934714731762662,
          0.013331422018348693,
          -0.030980336681284415,
          -0.03211678832116793,
          -0.04132730015082953,
          -0.010698552548772833,
          -0.007633587786259555,
          -0.0006410256410255277,
          0.02918537524053888,
          0.002337176690557774,
          -0.015855743820923363,
          -0.002053388090349051,
          -0.006647673314339908,
          -0.0031867431485022024,
          0.013906649616368227,
          -0.03767933154658665,
          -0.035222804718217704,
          -0.14009169638308716,
          -0.0003949447077408186,
          0.027064401422362883,
          0.03558376610886693,
          -0.025817236255572085,
          -0.006673021925643341,
          0.01746641074856048,
          -0.021505376344086002,
          0.013688066319645253,
          -0.005135032331685108,
          0.0009558401835212393,
          -0.0007639419404124048,
          0.0317278287461773,
          -0.021118932938125168,
          -0.03292959878879631,
          -0.025440313111546042,
          0.0016064257028112205,
          0.011828388131515766,
          0.00792550029720629,
          -0.0060939650088460695,
          -0.004549050632911555,
          0.003377707132922847,
          0,
          -0.0023762376237623783,
          -0.013695911075823797,
          -0.04528074059166842,
          0.012647554806070938,
          0.00582847626977534,
          0.012417218543046449,
          0.02309893704006516,
          -0.0013986013986012624,
          -0.014605842336934849,
          0.02131979695431463,
          0.021868787276341894,
          0.014007782101167265,
          -0.02705295471987723,
          0.010057187931374445,
          -0.008980866848886992,
          -0.010835303388495032,
          0.0069707229635531665,
          -0.007318037974683667,
          -0.0051803148037457,
          0.02102944121770478,
          0.022950176539819456,
          -0.012655800575263498,
          0.017867547096523495,
          -0.022514787254340862,
          0.05211789966816327,
          -0.01187384044526918,
          -0.018588058580548128,
          0.0053568012244116225,
          -0.007421503330161783,
          -0.00805214723926373,
          -0.028411287205256985,
          -0.012333399641933585,
          -0.015508559919436005,
          -0.011865793780687417,
          0.004347826086956497,
          0.0028860028860029363,
          0.00184994861253851,
          0.021337710299548673,
          -0.013258336681398086,
          -0.006921824104234586,
          0.06539565395653968,
          -0.009236097748701266,
          0.011458535637987932,
          0.003456221198156584,
          0.04764638346727912,
          0.020639269406392602,
          -0.006442376521116566,
          -0.0034221902017291805,
          -0.01861557925176216,
          0.0029465930018415243,
          0.021116415717958192,
          0.03938140622190245,
          0.037370242214533,
          0.01484322881921285,
          -0.005094494658997473,
          0.011067063098777474,
          0.004574415945107102,
          0.07448365587900474,
          0.08188285152111408,
          -0.04168998321208717,
          0.0027737226277371185,
          -0.02969864609113404,
          -0.010502625656414133,
          0.004700530705079586,
          -0.0019619680048293953,
          0.013458339634054184,
          -0.060578931662190305,
          0.02938373570520958,
          -0.0558555778429255,
          0.0022879555482921976,
          -0.004402413174628972,
          0.024893547330494536,
          -0.021732182806008415,
          -0.05455733420450826,
          0.05545957152729786,
          0.016369291209690662,
          0.00048316959252692193,
          0.0025756600128783447,
          -0.011400128452151548,
          -0.019165177846353743,
          0.011260142407683471,
          -0.0026199443261831767,
          -0.004596946314234129
         ],
         "xaxis": "x",
         "yaxis": "y"
        },
        {
         "alignmentgroup": "True",
         "hovertemplate": "variable=Close<br>value=%{x}<extra></extra>",
         "legendgroup": "Close",
         "marker": {
          "color": "#636efa"
         },
         "name": "Close",
         "notched": true,
         "offsetgroup": "Close",
         "showlegend": false,
         "type": "box",
         "x": [
          0.02804842043106004,
          -0.013210798391728895,
          0.010477299185098987,
          -0.026497695852534475,
          0.01863905325443782,
          -0.0002904443799012224,
          0.0029052876234747504,
          0.011008111239860785,
          0.004871060171919961,
          0.06301682349586546,
          0.005364806866952732,
          0.02934898612593373,
          0.024624157594608675,
          -0.02732102200860098,
          0.002600780234070177,
          0.0033722438391698972,
          -0.022233712512926607,
          0.0386039132734004,
          0.05117107942973531,
          -0.023007992249939435,
          -0.007436787307882997,
          0.05744255744255744,
          -0.03684459140292873,
          0.022560078469838096,
          -0.018705035971222972,
          0.008797653958944274,
          -0.012112403100775215,
          0.013732221677292822,
          -0.04837929366231242,
          0.03126588713777312,
          0.018240078876016863,
          -0.007988380537400253,
          0.004636408003904302,
          -0.0026718484333252412,
          -0.029712615684364452,
          -0.016064257028112316,
          0.0295918367346939,
          -0.015113974231912741,
          -0.03924528301886798,
          -0.0005236973029589809,
          0.0041917736442231845,
          -0.02243673362901122,
          -0.011742727515345552,
          0.03132595193086685,
          0.050274941084053504,
          -0.04238344552480677,
          0.028378026555584634,
          -0.0017721518987342533,
          -0.02028911995942173,
          0.03132280610924143,
          -0.016315261044176577,
          0.00867568257208462,
          -0.017961042246395165,
          -0.025502318392581103,
          -0.001321702352630183,
          0.00026469031233444795,
          0.001587721619475957,
          -0.0060766182298547244,
          0.01940457203615109,
          -0.016427640156453815,
          0.0005302226935313126,
          -0.010333863275039823,
          -0.017938420348058814,
          0.007360959651036003,
          0.02868741542625175,
          0.02315180215732715,
          -0.04705579840575991,
          -0.0016189962223420729,
          -0.016756756756756697,
          0.020890599230346307,
          0.002692514808831481,
          0,
          -0.036251342642320106,
          0.0161604903872945,
          0.04140389361118735,
          -0.015534491837809417,
          0.031559240438619796,
          -0.031890070002592585,
          0.2576325656132834,
          -0.10285349233390118,
          0.05340612390220745,
          -0.040333483551149074,
          0.03991547311575494,
          0.011289230074508882,
          0.06943514177271704,
          0.07390396659707732,
          0.05462674961119762,
          -0.01953917050691234,
          0.010340289528106617,
          -0.05191663565314486,
          0.016683022571148287,
          -0.04266409266409266,
          0.013510788465416423,
          0.005769996020692281,
          -0.005341246290801016,
          0.019490851233094464,
          -0.015216543113538705,
          0.0011885895404120106,
          0.024139295607439548,
          -0.0017387944358575602,
          -0.02283723630733503,
          0.015052485640720814,
          0.019902439024390484,
          -0.00669600153051475,
          0.003274268104776601,
          -0.019197542714532556,
          0.04208259933450775,
          -0.07757325319308794,
          -0.032376298106291945,
          -0.05492424242424243,
          0.05076820307281227,
          -0.015257469802924306,
          -0.007746933505487386,
          0.018217306441119074,
          -0.016400425985090505,
          0.010610653962754402,
          0.027640882794086163,
          -0.0033361134278566684,
          -0.01569037656903771,
          -0.011902231668437846,
          -0.0008604000860399363,
          -0.0027987082884822767,
          -0.005181347150259086,
          0.013671875,
          -0.019053735816741635,
          -0.020078568310781253,
          -0.04610244988864143,
          0.0014008872285780072,
          0.0032641641408253097,
          -0.022310016267720223,
          0.02329450915141429,
          -0.015098722415795574,
          0.0030660377358491253,
          0.004702562896778728,
          0.03557219751930729,
          0.01333333333333342,
          0.024977698483496846,
          0.017188859878154883,
          0.002139037433155133,
          -0.023479188900747072,
          0.009398907103825183,
          0.007145950627977626,
          -0.02601591055686947,
          0.0017660044150109577,
          0.03217276333186425,
          0.006404782237404039,
          0.02248621128553241,
          0.02614107883817418,
          0.052365547917509137,
          -0.007492795389049012,
          -0.01955090979481222,
          0.03534057255676215,
          -0.010678871090770259,
          0.03296067848882034,
          -0.05019593207688011,
          0.04125736738703334,
          -0.022075471698113303,
          0.010225737989581374,
          0.027501909854851236,
          -0.05817843866171002,
          0.027827116637063387,
          0.008256528417818654,
          -0.011235955056179803,
          -0.07530816640986127,
          0,
          -0.008748177463028584,
          0.007354486236604396,
          0.015435961618690097,
          0.013968775677896339,
          -0.0014181523500810256,
          0.014201663623452987,
          -0.012202440488097599,
          0.0046577561765897,
          -0.019350937311025995,
          0.007810894141829339,
          -0.023047114011829573,
          0.01002087682672248,
          -0.03947912360479533,
          0.021519259737465157,
          -0.0037918685485570647,
          0.0006343835906110762,
          0.02387996618765853,
          0.009287925696594534,
          -0.0036809815950920033,
          -0.019499178981937648,
          -0.03244714255809089,
          0.014063176114236242,
          0.0036270535523788006,
          -0.005102040816326481,
          0.02136752136752129,
          -0.005648535564853563,
          -0.009046917736166726,
          0.7309978768577496,
          -0.119465227523611,
          -0.0047360356595625985,
          0.04520643806857949,
          -0.012587038028923359,
          0.05492270138323829,
          0.053991515618974084,
          -0.031345286010489026,
          -0.028834046839587013,
          -0.04952677298068198,
          0.007229573045969051,
          -0.04916034669555791,
          0.009685230024213176,
          0.010156580617858735,
          -0.003072196620583667,
          -0.002661437176075143,
          0.0001404494382022392,
          -0.010532228619575812,
          -0.009934714731762662,
          0.013331422018348693,
          -0.030980336681284415,
          -0.03211678832116793,
          -0.04132730015082953,
          -0.010698552548772833,
          -0.007633587786259555,
          -0.0006410256410255277,
          0.02918537524053888,
          0.002337176690557774,
          -0.015855743820923363,
          -0.002053388090349051,
          -0.006647673314339908,
          -0.0031867431485022024,
          0.013906649616368227,
          -0.03767933154658665,
          -0.035222804718217704,
          -0.14009169638308716,
          -0.0003949447077408186,
          0.027064401422362883,
          0.03558376610886693,
          -0.025817236255572085,
          -0.006673021925643341,
          0.01746641074856048,
          -0.021505376344086002,
          0.013688066319645253,
          -0.005135032331685108,
          0.0009558401835212393,
          -0.0007639419404124048,
          0.0317278287461773,
          -0.021118932938125168,
          -0.03292959878879631,
          -0.025440313111546042,
          0.0016064257028112205,
          0.011828388131515766,
          0.00792550029720629,
          -0.0060939650088460695,
          -0.004549050632911555,
          0.003377707132922847,
          0,
          -0.0023762376237623783,
          -0.013695911075823797,
          -0.04528074059166842,
          0.012647554806070938,
          0.00582847626977534,
          0.012417218543046449,
          0.02309893704006516,
          -0.0013986013986012624,
          -0.014605842336934849,
          0.02131979695431463,
          0.021868787276341894,
          0.014007782101167265,
          -0.02705295471987723,
          0.010057187931374445,
          -0.008980866848886992,
          -0.010835303388495032,
          0.0069707229635531665,
          -0.007318037974683667,
          -0.0051803148037457,
          0.02102944121770478,
          0.022950176539819456,
          -0.012655800575263498,
          0.017867547096523495,
          -0.022514787254340862,
          0.05211789966816327,
          -0.01187384044526918,
          -0.018588058580548128,
          0.0053568012244116225,
          -0.007421503330161783,
          -0.00805214723926373,
          -0.028411287205256985,
          -0.012333399641933585,
          -0.015508559919436005,
          -0.011865793780687417,
          0.004347826086956497,
          0.0028860028860029363,
          0.00184994861253851,
          0.021337710299548673,
          -0.013258336681398086,
          -0.006921824104234586,
          0.06539565395653968,
          -0.009236097748701266,
          0.011458535637987932,
          0.003456221198156584,
          0.04764638346727912,
          0.020639269406392602,
          -0.006442376521116566,
          -0.0034221902017291805,
          -0.01861557925176216,
          0.0029465930018415243,
          0.021116415717958192,
          0.03938140622190245,
          0.037370242214533,
          0.01484322881921285,
          -0.005094494658997473,
          0.011067063098777474,
          0.004574415945107102,
          0.07448365587900474,
          0.08188285152111408,
          -0.04168998321208717,
          0.0027737226277371185,
          -0.02969864609113404,
          -0.010502625656414133,
          0.004700530705079586,
          -0.0019619680048293953,
          0.013458339634054184,
          -0.060578931662190305,
          0.02938373570520958,
          -0.0558555778429255,
          0.0022879555482921976,
          -0.004402413174628972,
          0.024893547330494536,
          -0.021732182806008415,
          -0.05455733420450826,
          0.05545957152729786,
          0.016369291209690662,
          0.00048316959252692193,
          0.0025756600128783447,
          -0.011400128452151548,
          -0.019165177846353743,
          0.011260142407683471,
          -0.0026199443261831767,
          -0.004596946314234129
         ],
         "xaxis": "x2",
         "yaxis": "y2"
        }
       ],
       "layout": {
        "bargap": 0.1,
        "barmode": "relative",
        "legend": {
         "title": {
          "text": "variable"
         },
         "tracegroupgap": 0
        },
        "margin": {
         "t": 60
        },
        "plot_bgcolor": "white",
        "template": {
         "data": {
          "bar": [
           {
            "error_x": {
             "color": "#2a3f5f"
            },
            "error_y": {
             "color": "#2a3f5f"
            },
            "marker": {
             "line": {
              "color": "#E5ECF6",
              "width": 0.5
             },
             "pattern": {
              "fillmode": "overlay",
              "size": 10,
              "solidity": 0.2
             }
            },
            "type": "bar"
           }
          ],
          "barpolar": [
           {
            "marker": {
             "line": {
              "color": "#E5ECF6",
              "width": 0.5
             },
             "pattern": {
              "fillmode": "overlay",
              "size": 10,
              "solidity": 0.2
             }
            },
            "type": "barpolar"
           }
          ],
          "carpet": [
           {
            "aaxis": {
             "endlinecolor": "#2a3f5f",
             "gridcolor": "white",
             "linecolor": "white",
             "minorgridcolor": "white",
             "startlinecolor": "#2a3f5f"
            },
            "baxis": {
             "endlinecolor": "#2a3f5f",
             "gridcolor": "white",
             "linecolor": "white",
             "minorgridcolor": "white",
             "startlinecolor": "#2a3f5f"
            },
            "type": "carpet"
           }
          ],
          "choropleth": [
           {
            "colorbar": {
             "outlinewidth": 0,
             "ticks": ""
            },
            "type": "choropleth"
           }
          ],
          "contour": [
           {
            "colorbar": {
             "outlinewidth": 0,
             "ticks": ""
            },
            "colorscale": [
             [
              0,
              "#0d0887"
             ],
             [
              0.1111111111111111,
              "#46039f"
             ],
             [
              0.2222222222222222,
              "#7201a8"
             ],
             [
              0.3333333333333333,
              "#9c179e"
             ],
             [
              0.4444444444444444,
              "#bd3786"
             ],
             [
              0.5555555555555556,
              "#d8576b"
             ],
             [
              0.6666666666666666,
              "#ed7953"
             ],
             [
              0.7777777777777778,
              "#fb9f3a"
             ],
             [
              0.8888888888888888,
              "#fdca26"
             ],
             [
              1,
              "#f0f921"
             ]
            ],
            "type": "contour"
           }
          ],
          "contourcarpet": [
           {
            "colorbar": {
             "outlinewidth": 0,
             "ticks": ""
            },
            "type": "contourcarpet"
           }
          ],
          "heatmap": [
           {
            "colorbar": {
             "outlinewidth": 0,
             "ticks": ""
            },
            "colorscale": [
             [
              0,
              "#0d0887"
             ],
             [
              0.1111111111111111,
              "#46039f"
             ],
             [
              0.2222222222222222,
              "#7201a8"
             ],
             [
              0.3333333333333333,
              "#9c179e"
             ],
             [
              0.4444444444444444,
              "#bd3786"
             ],
             [
              0.5555555555555556,
              "#d8576b"
             ],
             [
              0.6666666666666666,
              "#ed7953"
             ],
             [
              0.7777777777777778,
              "#fb9f3a"
             ],
             [
              0.8888888888888888,
              "#fdca26"
             ],
             [
              1,
              "#f0f921"
             ]
            ],
            "type": "heatmap"
           }
          ],
          "heatmapgl": [
           {
            "colorbar": {
             "outlinewidth": 0,
             "ticks": ""
            },
            "colorscale": [
             [
              0,
              "#0d0887"
             ],
             [
              0.1111111111111111,
              "#46039f"
             ],
             [
              0.2222222222222222,
              "#7201a8"
             ],
             [
              0.3333333333333333,
              "#9c179e"
             ],
             [
              0.4444444444444444,
              "#bd3786"
             ],
             [
              0.5555555555555556,
              "#d8576b"
             ],
             [
              0.6666666666666666,
              "#ed7953"
             ],
             [
              0.7777777777777778,
              "#fb9f3a"
             ],
             [
              0.8888888888888888,
              "#fdca26"
             ],
             [
              1,
              "#f0f921"
             ]
            ],
            "type": "heatmapgl"
           }
          ],
          "histogram": [
           {
            "marker": {
             "pattern": {
              "fillmode": "overlay",
              "size": 10,
              "solidity": 0.2
             }
            },
            "type": "histogram"
           }
          ],
          "histogram2d": [
           {
            "colorbar": {
             "outlinewidth": 0,
             "ticks": ""
            },
            "colorscale": [
             [
              0,
              "#0d0887"
             ],
             [
              0.1111111111111111,
              "#46039f"
             ],
             [
              0.2222222222222222,
              "#7201a8"
             ],
             [
              0.3333333333333333,
              "#9c179e"
             ],
             [
              0.4444444444444444,
              "#bd3786"
             ],
             [
              0.5555555555555556,
              "#d8576b"
             ],
             [
              0.6666666666666666,
              "#ed7953"
             ],
             [
              0.7777777777777778,
              "#fb9f3a"
             ],
             [
              0.8888888888888888,
              "#fdca26"
             ],
             [
              1,
              "#f0f921"
             ]
            ],
            "type": "histogram2d"
           }
          ],
          "histogram2dcontour": [
           {
            "colorbar": {
             "outlinewidth": 0,
             "ticks": ""
            },
            "colorscale": [
             [
              0,
              "#0d0887"
             ],
             [
              0.1111111111111111,
              "#46039f"
             ],
             [
              0.2222222222222222,
              "#7201a8"
             ],
             [
              0.3333333333333333,
              "#9c179e"
             ],
             [
              0.4444444444444444,
              "#bd3786"
             ],
             [
              0.5555555555555556,
              "#d8576b"
             ],
             [
              0.6666666666666666,
              "#ed7953"
             ],
             [
              0.7777777777777778,
              "#fb9f3a"
             ],
             [
              0.8888888888888888,
              "#fdca26"
             ],
             [
              1,
              "#f0f921"
             ]
            ],
            "type": "histogram2dcontour"
           }
          ],
          "mesh3d": [
           {
            "colorbar": {
             "outlinewidth": 0,
             "ticks": ""
            },
            "type": "mesh3d"
           }
          ],
          "parcoords": [
           {
            "line": {
             "colorbar": {
              "outlinewidth": 0,
              "ticks": ""
             }
            },
            "type": "parcoords"
           }
          ],
          "pie": [
           {
            "automargin": true,
            "type": "pie"
           }
          ],
          "scatter": [
           {
            "fillpattern": {
             "fillmode": "overlay",
             "size": 10,
             "solidity": 0.2
            },
            "type": "scatter"
           }
          ],
          "scatter3d": [
           {
            "line": {
             "colorbar": {
              "outlinewidth": 0,
              "ticks": ""
             }
            },
            "marker": {
             "colorbar": {
              "outlinewidth": 0,
              "ticks": ""
             }
            },
            "type": "scatter3d"
           }
          ],
          "scattercarpet": [
           {
            "marker": {
             "colorbar": {
              "outlinewidth": 0,
              "ticks": ""
             }
            },
            "type": "scattercarpet"
           }
          ],
          "scattergeo": [
           {
            "marker": {
             "colorbar": {
              "outlinewidth": 0,
              "ticks": ""
             }
            },
            "type": "scattergeo"
           }
          ],
          "scattergl": [
           {
            "marker": {
             "colorbar": {
              "outlinewidth": 0,
              "ticks": ""
             }
            },
            "type": "scattergl"
           }
          ],
          "scattermapbox": [
           {
            "marker": {
             "colorbar": {
              "outlinewidth": 0,
              "ticks": ""
             }
            },
            "type": "scattermapbox"
           }
          ],
          "scatterpolar": [
           {
            "marker": {
             "colorbar": {
              "outlinewidth": 0,
              "ticks": ""
             }
            },
            "type": "scatterpolar"
           }
          ],
          "scatterpolargl": [
           {
            "marker": {
             "colorbar": {
              "outlinewidth": 0,
              "ticks": ""
             }
            },
            "type": "scatterpolargl"
           }
          ],
          "scatterternary": [
           {
            "marker": {
             "colorbar": {
              "outlinewidth": 0,
              "ticks": ""
             }
            },
            "type": "scatterternary"
           }
          ],
          "surface": [
           {
            "colorbar": {
             "outlinewidth": 0,
             "ticks": ""
            },
            "colorscale": [
             [
              0,
              "#0d0887"
             ],
             [
              0.1111111111111111,
              "#46039f"
             ],
             [
              0.2222222222222222,
              "#7201a8"
             ],
             [
              0.3333333333333333,
              "#9c179e"
             ],
             [
              0.4444444444444444,
              "#bd3786"
             ],
             [
              0.5555555555555556,
              "#d8576b"
             ],
             [
              0.6666666666666666,
              "#ed7953"
             ],
             [
              0.7777777777777778,
              "#fb9f3a"
             ],
             [
              0.8888888888888888,
              "#fdca26"
             ],
             [
              1,
              "#f0f921"
             ]
            ],
            "type": "surface"
           }
          ],
          "table": [
           {
            "cells": {
             "fill": {
              "color": "#EBF0F8"
             },
             "line": {
              "color": "white"
             }
            },
            "header": {
             "fill": {
              "color": "#C8D4E3"
             },
             "line": {
              "color": "white"
             }
            },
            "type": "table"
           }
          ]
         },
         "layout": {
          "annotationdefaults": {
           "arrowcolor": "#2a3f5f",
           "arrowhead": 0,
           "arrowwidth": 1
          },
          "autotypenumbers": "strict",
          "coloraxis": {
           "colorbar": {
            "outlinewidth": 0,
            "ticks": ""
           }
          },
          "colorscale": {
           "diverging": [
            [
             0,
             "#8e0152"
            ],
            [
             0.1,
             "#c51b7d"
            ],
            [
             0.2,
             "#de77ae"
            ],
            [
             0.3,
             "#f1b6da"
            ],
            [
             0.4,
             "#fde0ef"
            ],
            [
             0.5,
             "#f7f7f7"
            ],
            [
             0.6,
             "#e6f5d0"
            ],
            [
             0.7,
             "#b8e186"
            ],
            [
             0.8,
             "#7fbc41"
            ],
            [
             0.9,
             "#4d9221"
            ],
            [
             1,
             "#276419"
            ]
           ],
           "sequential": [
            [
             0,
             "#0d0887"
            ],
            [
             0.1111111111111111,
             "#46039f"
            ],
            [
             0.2222222222222222,
             "#7201a8"
            ],
            [
             0.3333333333333333,
             "#9c179e"
            ],
            [
             0.4444444444444444,
             "#bd3786"
            ],
            [
             0.5555555555555556,
             "#d8576b"
            ],
            [
             0.6666666666666666,
             "#ed7953"
            ],
            [
             0.7777777777777778,
             "#fb9f3a"
            ],
            [
             0.8888888888888888,
             "#fdca26"
            ],
            [
             1,
             "#f0f921"
            ]
           ],
           "sequentialminus": [
            [
             0,
             "#0d0887"
            ],
            [
             0.1111111111111111,
             "#46039f"
            ],
            [
             0.2222222222222222,
             "#7201a8"
            ],
            [
             0.3333333333333333,
             "#9c179e"
            ],
            [
             0.4444444444444444,
             "#bd3786"
            ],
            [
             0.5555555555555556,
             "#d8576b"
            ],
            [
             0.6666666666666666,
             "#ed7953"
            ],
            [
             0.7777777777777778,
             "#fb9f3a"
            ],
            [
             0.8888888888888888,
             "#fdca26"
            ],
            [
             1,
             "#f0f921"
            ]
           ]
          },
          "colorway": [
           "#636efa",
           "#EF553B",
           "#00cc96",
           "#ab63fa",
           "#FFA15A",
           "#19d3f3",
           "#FF6692",
           "#B6E880",
           "#FF97FF",
           "#FECB52"
          ],
          "font": {
           "color": "#2a3f5f"
          },
          "geo": {
           "bgcolor": "white",
           "lakecolor": "white",
           "landcolor": "#E5ECF6",
           "showlakes": true,
           "showland": true,
           "subunitcolor": "white"
          },
          "hoverlabel": {
           "align": "left"
          },
          "hovermode": "closest",
          "mapbox": {
           "style": "light"
          },
          "paper_bgcolor": "white",
          "plot_bgcolor": "#E5ECF6",
          "polar": {
           "angularaxis": {
            "gridcolor": "white",
            "linecolor": "white",
            "ticks": ""
           },
           "bgcolor": "#E5ECF6",
           "radialaxis": {
            "gridcolor": "white",
            "linecolor": "white",
            "ticks": ""
           }
          },
          "scene": {
           "xaxis": {
            "backgroundcolor": "#E5ECF6",
            "gridcolor": "white",
            "gridwidth": 2,
            "linecolor": "white",
            "showbackground": true,
            "ticks": "",
            "zerolinecolor": "white"
           },
           "yaxis": {
            "backgroundcolor": "#E5ECF6",
            "gridcolor": "white",
            "gridwidth": 2,
            "linecolor": "white",
            "showbackground": true,
            "ticks": "",
            "zerolinecolor": "white"
           },
           "zaxis": {
            "backgroundcolor": "#E5ECF6",
            "gridcolor": "white",
            "gridwidth": 2,
            "linecolor": "white",
            "showbackground": true,
            "ticks": "",
            "zerolinecolor": "white"
           }
          },
          "shapedefaults": {
           "line": {
            "color": "#2a3f5f"
           }
          },
          "ternary": {
           "aaxis": {
            "gridcolor": "white",
            "linecolor": "white",
            "ticks": ""
           },
           "baxis": {
            "gridcolor": "white",
            "linecolor": "white",
            "ticks": ""
           },
           "bgcolor": "#E5ECF6",
           "caxis": {
            "gridcolor": "white",
            "linecolor": "white",
            "ticks": ""
           }
          },
          "title": {
           "x": 0.05
          },
          "xaxis": {
           "automargin": true,
           "gridcolor": "white",
           "linecolor": "white",
           "ticks": "",
           "title": {
            "standoff": 15
           },
           "zerolinecolor": "white",
           "zerolinewidth": 2
          },
          "yaxis": {
           "automargin": true,
           "gridcolor": "white",
           "linecolor": "white",
           "ticks": "",
           "title": {
            "standoff": 15
           },
           "zerolinecolor": "white",
           "zerolinewidth": 2
          }
         }
        },
        "title": {
         "text": "Distribution of Daily Returns"
        },
        "xaxis": {
         "anchor": "y",
         "domain": [
          0,
          1
         ],
         "title": {
          "text": "Daily Returns"
         }
        },
        "xaxis2": {
         "anchor": "y2",
         "domain": [
          0,
          1
         ],
         "matches": "x",
         "showgrid": true,
         "showticklabels": false
        },
        "yaxis": {
         "anchor": "x",
         "domain": [
          0,
          0.7326
         ],
         "title": {
          "text": "Frequency"
         }
        },
        "yaxis2": {
         "anchor": "x2",
         "domain": [
          0.7426,
          1
         ],
         "matches": "y2",
         "showgrid": false,
         "showline": false,
         "showticklabels": false,
         "ticks": ""
        }
       }
      },
      "text/html": [
       "<div>                            <div id=\"47d0a810-fd66-4fd4-ae2b-ad44b5b2f514\" class=\"plotly-graph-div\" style=\"height:525px; width:100%;\"></div>            <script type=\"text/javascript\">                require([\"plotly\"], function(Plotly) {                    window.PLOTLYENV=window.PLOTLYENV || {};                                    if (document.getElementById(\"47d0a810-fd66-4fd4-ae2b-ad44b5b2f514\")) {                    Plotly.newPlot(                        \"47d0a810-fd66-4fd4-ae2b-ad44b5b2f514\",                        [{\"alignmentgroup\":\"True\",\"bingroup\":\"x\",\"hovertemplate\":\"variable=Close<br>value=%{x}<br>count=%{y}<extra></extra>\",\"legendgroup\":\"Close\",\"marker\":{\"color\":\"#636efa\",\"pattern\":{\"shape\":\"\"}},\"name\":\"Close\",\"nbinsx\":30,\"offsetgroup\":\"Close\",\"orientation\":\"v\",\"showlegend\":true,\"x\":[0.02804842043106004,-0.013210798391728895,0.010477299185098987,-0.026497695852534475,0.01863905325443782,-0.0002904443799012224,0.0029052876234747504,0.011008111239860785,0.004871060171919961,0.06301682349586546,0.005364806866952732,0.02934898612593373,0.024624157594608675,-0.02732102200860098,0.002600780234070177,0.0033722438391698972,-0.022233712512926607,0.0386039132734004,0.05117107942973531,-0.023007992249939435,-0.007436787307882997,0.05744255744255744,-0.03684459140292873,0.022560078469838096,-0.018705035971222972,0.008797653958944274,-0.012112403100775215,0.013732221677292822,-0.04837929366231242,0.03126588713777312,0.018240078876016863,-0.007988380537400253,0.004636408003904302,-0.0026718484333252412,-0.029712615684364452,-0.016064257028112316,0.0295918367346939,-0.015113974231912741,-0.03924528301886798,-0.0005236973029589809,0.0041917736442231845,-0.02243673362901122,-0.011742727515345552,0.03132595193086685,0.050274941084053504,-0.04238344552480677,0.028378026555584634,-0.0017721518987342533,-0.02028911995942173,0.03132280610924143,-0.016315261044176577,0.00867568257208462,-0.017961042246395165,-0.025502318392581103,-0.001321702352630183,0.00026469031233444795,0.001587721619475957,-0.0060766182298547244,0.01940457203615109,-0.016427640156453815,0.0005302226935313126,-0.010333863275039823,-0.017938420348058814,0.007360959651036003,0.02868741542625175,0.02315180215732715,-0.04705579840575991,-0.0016189962223420729,-0.016756756756756697,0.020890599230346307,0.002692514808831481,0.0,-0.036251342642320106,0.0161604903872945,0.04140389361118735,-0.015534491837809417,0.031559240438619796,-0.031890070002592585,0.2576325656132834,-0.10285349233390118,0.05340612390220745,-0.040333483551149074,0.03991547311575494,0.011289230074508882,0.06943514177271704,0.07390396659707732,0.05462674961119762,-0.01953917050691234,0.010340289528106617,-0.05191663565314486,0.016683022571148287,-0.04266409266409266,0.013510788465416423,0.005769996020692281,-0.005341246290801016,0.019490851233094464,-0.015216543113538705,0.0011885895404120106,0.024139295607439548,-0.0017387944358575602,-0.02283723630733503,0.015052485640720814,0.019902439024390484,-0.00669600153051475,0.003274268104776601,-0.019197542714532556,0.04208259933450775,-0.07757325319308794,-0.032376298106291945,-0.05492424242424243,0.05076820307281227,-0.015257469802924306,-0.007746933505487386,0.018217306441119074,-0.016400425985090505,0.010610653962754402,0.027640882794086163,-0.0033361134278566684,-0.01569037656903771,-0.011902231668437846,-0.0008604000860399363,-0.0027987082884822767,-0.005181347150259086,0.013671875,-0.019053735816741635,-0.020078568310781253,-0.04610244988864143,0.0014008872285780072,0.0032641641408253097,-0.022310016267720223,0.02329450915141429,-0.015098722415795574,0.0030660377358491253,0.004702562896778728,0.03557219751930729,0.01333333333333342,0.024977698483496846,0.017188859878154883,0.002139037433155133,-0.023479188900747072,0.009398907103825183,0.007145950627977626,-0.02601591055686947,0.0017660044150109577,0.03217276333186425,0.006404782237404039,0.02248621128553241,0.02614107883817418,0.052365547917509137,-0.007492795389049012,-0.01955090979481222,0.03534057255676215,-0.010678871090770259,0.03296067848882034,-0.05019593207688011,0.04125736738703334,-0.022075471698113303,0.010225737989581374,0.027501909854851236,-0.05817843866171002,0.027827116637063387,0.008256528417818654,-0.011235955056179803,-0.07530816640986127,0.0,-0.008748177463028584,0.007354486236604396,0.015435961618690097,0.013968775677896339,-0.0014181523500810256,0.014201663623452987,-0.012202440488097599,0.0046577561765897,-0.019350937311025995,0.007810894141829339,-0.023047114011829573,0.01002087682672248,-0.03947912360479533,0.021519259737465157,-0.0037918685485570647,0.0006343835906110762,0.02387996618765853,0.009287925696594534,-0.0036809815950920033,-0.019499178981937648,-0.03244714255809089,0.014063176114236242,0.0036270535523788006,-0.005102040816326481,0.02136752136752129,-0.005648535564853563,-0.009046917736166726,0.7309978768577496,-0.119465227523611,-0.0047360356595625985,0.04520643806857949,-0.012587038028923359,0.05492270138323829,0.053991515618974084,-0.031345286010489026,-0.028834046839587013,-0.04952677298068198,0.007229573045969051,-0.04916034669555791,0.009685230024213176,0.010156580617858735,-0.003072196620583667,-0.002661437176075143,0.0001404494382022392,-0.010532228619575812,-0.009934714731762662,0.013331422018348693,-0.030980336681284415,-0.03211678832116793,-0.04132730015082953,-0.010698552548772833,-0.007633587786259555,-0.0006410256410255277,0.02918537524053888,0.002337176690557774,-0.015855743820923363,-0.002053388090349051,-0.006647673314339908,-0.0031867431485022024,0.013906649616368227,-0.03767933154658665,-0.035222804718217704,-0.14009169638308716,-0.0003949447077408186,0.027064401422362883,0.03558376610886693,-0.025817236255572085,-0.006673021925643341,0.01746641074856048,-0.021505376344086002,0.013688066319645253,-0.005135032331685108,0.0009558401835212393,-0.0007639419404124048,0.0317278287461773,-0.021118932938125168,-0.03292959878879631,-0.025440313111546042,0.0016064257028112205,0.011828388131515766,0.00792550029720629,-0.0060939650088460695,-0.004549050632911555,0.003377707132922847,0.0,-0.0023762376237623783,-0.013695911075823797,-0.04528074059166842,0.012647554806070938,0.00582847626977534,0.012417218543046449,0.02309893704006516,-0.0013986013986012624,-0.014605842336934849,0.02131979695431463,0.021868787276341894,0.014007782101167265,-0.02705295471987723,0.010057187931374445,-0.008980866848886992,-0.010835303388495032,0.0069707229635531665,-0.007318037974683667,-0.0051803148037457,0.02102944121770478,0.022950176539819456,-0.012655800575263498,0.017867547096523495,-0.022514787254340862,0.05211789966816327,-0.01187384044526918,-0.018588058580548128,0.0053568012244116225,-0.007421503330161783,-0.00805214723926373,-0.028411287205256985,-0.012333399641933585,-0.015508559919436005,-0.011865793780687417,0.004347826086956497,0.0028860028860029363,0.00184994861253851,0.021337710299548673,-0.013258336681398086,-0.006921824104234586,0.06539565395653968,-0.009236097748701266,0.011458535637987932,0.003456221198156584,0.04764638346727912,0.020639269406392602,-0.006442376521116566,-0.0034221902017291805,-0.01861557925176216,0.0029465930018415243,0.021116415717958192,0.03938140622190245,0.037370242214533,0.01484322881921285,-0.005094494658997473,0.011067063098777474,0.004574415945107102,0.07448365587900474,0.08188285152111408,-0.04168998321208717,0.0027737226277371185,-0.02969864609113404,-0.010502625656414133,0.004700530705079586,-0.0019619680048293953,0.013458339634054184,-0.060578931662190305,0.02938373570520958,-0.0558555778429255,0.0022879555482921976,-0.004402413174628972,0.024893547330494536,-0.021732182806008415,-0.05455733420450826,0.05545957152729786,0.016369291209690662,0.00048316959252692193,0.0025756600128783447,-0.011400128452151548,-0.019165177846353743,0.011260142407683471,-0.0026199443261831767,-0.004596946314234129],\"xaxis\":\"x\",\"yaxis\":\"y\",\"type\":\"histogram\"},{\"alignmentgroup\":\"True\",\"hovertemplate\":\"variable=Close<br>value=%{x}<extra></extra>\",\"legendgroup\":\"Close\",\"marker\":{\"color\":\"#636efa\"},\"name\":\"Close\",\"notched\":true,\"offsetgroup\":\"Close\",\"showlegend\":false,\"x\":[0.02804842043106004,-0.013210798391728895,0.010477299185098987,-0.026497695852534475,0.01863905325443782,-0.0002904443799012224,0.0029052876234747504,0.011008111239860785,0.004871060171919961,0.06301682349586546,0.005364806866952732,0.02934898612593373,0.024624157594608675,-0.02732102200860098,0.002600780234070177,0.0033722438391698972,-0.022233712512926607,0.0386039132734004,0.05117107942973531,-0.023007992249939435,-0.007436787307882997,0.05744255744255744,-0.03684459140292873,0.022560078469838096,-0.018705035971222972,0.008797653958944274,-0.012112403100775215,0.013732221677292822,-0.04837929366231242,0.03126588713777312,0.018240078876016863,-0.007988380537400253,0.004636408003904302,-0.0026718484333252412,-0.029712615684364452,-0.016064257028112316,0.0295918367346939,-0.015113974231912741,-0.03924528301886798,-0.0005236973029589809,0.0041917736442231845,-0.02243673362901122,-0.011742727515345552,0.03132595193086685,0.050274941084053504,-0.04238344552480677,0.028378026555584634,-0.0017721518987342533,-0.02028911995942173,0.03132280610924143,-0.016315261044176577,0.00867568257208462,-0.017961042246395165,-0.025502318392581103,-0.001321702352630183,0.00026469031233444795,0.001587721619475957,-0.0060766182298547244,0.01940457203615109,-0.016427640156453815,0.0005302226935313126,-0.010333863275039823,-0.017938420348058814,0.007360959651036003,0.02868741542625175,0.02315180215732715,-0.04705579840575991,-0.0016189962223420729,-0.016756756756756697,0.020890599230346307,0.002692514808831481,0.0,-0.036251342642320106,0.0161604903872945,0.04140389361118735,-0.015534491837809417,0.031559240438619796,-0.031890070002592585,0.2576325656132834,-0.10285349233390118,0.05340612390220745,-0.040333483551149074,0.03991547311575494,0.011289230074508882,0.06943514177271704,0.07390396659707732,0.05462674961119762,-0.01953917050691234,0.010340289528106617,-0.05191663565314486,0.016683022571148287,-0.04266409266409266,0.013510788465416423,0.005769996020692281,-0.005341246290801016,0.019490851233094464,-0.015216543113538705,0.0011885895404120106,0.024139295607439548,-0.0017387944358575602,-0.02283723630733503,0.015052485640720814,0.019902439024390484,-0.00669600153051475,0.003274268104776601,-0.019197542714532556,0.04208259933450775,-0.07757325319308794,-0.032376298106291945,-0.05492424242424243,0.05076820307281227,-0.015257469802924306,-0.007746933505487386,0.018217306441119074,-0.016400425985090505,0.010610653962754402,0.027640882794086163,-0.0033361134278566684,-0.01569037656903771,-0.011902231668437846,-0.0008604000860399363,-0.0027987082884822767,-0.005181347150259086,0.013671875,-0.019053735816741635,-0.020078568310781253,-0.04610244988864143,0.0014008872285780072,0.0032641641408253097,-0.022310016267720223,0.02329450915141429,-0.015098722415795574,0.0030660377358491253,0.004702562896778728,0.03557219751930729,0.01333333333333342,0.024977698483496846,0.017188859878154883,0.002139037433155133,-0.023479188900747072,0.009398907103825183,0.007145950627977626,-0.02601591055686947,0.0017660044150109577,0.03217276333186425,0.006404782237404039,0.02248621128553241,0.02614107883817418,0.052365547917509137,-0.007492795389049012,-0.01955090979481222,0.03534057255676215,-0.010678871090770259,0.03296067848882034,-0.05019593207688011,0.04125736738703334,-0.022075471698113303,0.010225737989581374,0.027501909854851236,-0.05817843866171002,0.027827116637063387,0.008256528417818654,-0.011235955056179803,-0.07530816640986127,0.0,-0.008748177463028584,0.007354486236604396,0.015435961618690097,0.013968775677896339,-0.0014181523500810256,0.014201663623452987,-0.012202440488097599,0.0046577561765897,-0.019350937311025995,0.007810894141829339,-0.023047114011829573,0.01002087682672248,-0.03947912360479533,0.021519259737465157,-0.0037918685485570647,0.0006343835906110762,0.02387996618765853,0.009287925696594534,-0.0036809815950920033,-0.019499178981937648,-0.03244714255809089,0.014063176114236242,0.0036270535523788006,-0.005102040816326481,0.02136752136752129,-0.005648535564853563,-0.009046917736166726,0.7309978768577496,-0.119465227523611,-0.0047360356595625985,0.04520643806857949,-0.012587038028923359,0.05492270138323829,0.053991515618974084,-0.031345286010489026,-0.028834046839587013,-0.04952677298068198,0.007229573045969051,-0.04916034669555791,0.009685230024213176,0.010156580617858735,-0.003072196620583667,-0.002661437176075143,0.0001404494382022392,-0.010532228619575812,-0.009934714731762662,0.013331422018348693,-0.030980336681284415,-0.03211678832116793,-0.04132730015082953,-0.010698552548772833,-0.007633587786259555,-0.0006410256410255277,0.02918537524053888,0.002337176690557774,-0.015855743820923363,-0.002053388090349051,-0.006647673314339908,-0.0031867431485022024,0.013906649616368227,-0.03767933154658665,-0.035222804718217704,-0.14009169638308716,-0.0003949447077408186,0.027064401422362883,0.03558376610886693,-0.025817236255572085,-0.006673021925643341,0.01746641074856048,-0.021505376344086002,0.013688066319645253,-0.005135032331685108,0.0009558401835212393,-0.0007639419404124048,0.0317278287461773,-0.021118932938125168,-0.03292959878879631,-0.025440313111546042,0.0016064257028112205,0.011828388131515766,0.00792550029720629,-0.0060939650088460695,-0.004549050632911555,0.003377707132922847,0.0,-0.0023762376237623783,-0.013695911075823797,-0.04528074059166842,0.012647554806070938,0.00582847626977534,0.012417218543046449,0.02309893704006516,-0.0013986013986012624,-0.014605842336934849,0.02131979695431463,0.021868787276341894,0.014007782101167265,-0.02705295471987723,0.010057187931374445,-0.008980866848886992,-0.010835303388495032,0.0069707229635531665,-0.007318037974683667,-0.0051803148037457,0.02102944121770478,0.022950176539819456,-0.012655800575263498,0.017867547096523495,-0.022514787254340862,0.05211789966816327,-0.01187384044526918,-0.018588058580548128,0.0053568012244116225,-0.007421503330161783,-0.00805214723926373,-0.028411287205256985,-0.012333399641933585,-0.015508559919436005,-0.011865793780687417,0.004347826086956497,0.0028860028860029363,0.00184994861253851,0.021337710299548673,-0.013258336681398086,-0.006921824104234586,0.06539565395653968,-0.009236097748701266,0.011458535637987932,0.003456221198156584,0.04764638346727912,0.020639269406392602,-0.006442376521116566,-0.0034221902017291805,-0.01861557925176216,0.0029465930018415243,0.021116415717958192,0.03938140622190245,0.037370242214533,0.01484322881921285,-0.005094494658997473,0.011067063098777474,0.004574415945107102,0.07448365587900474,0.08188285152111408,-0.04168998321208717,0.0027737226277371185,-0.02969864609113404,-0.010502625656414133,0.004700530705079586,-0.0019619680048293953,0.013458339634054184,-0.060578931662190305,0.02938373570520958,-0.0558555778429255,0.0022879555482921976,-0.004402413174628972,0.024893547330494536,-0.021732182806008415,-0.05455733420450826,0.05545957152729786,0.016369291209690662,0.00048316959252692193,0.0025756600128783447,-0.011400128452151548,-0.019165177846353743,0.011260142407683471,-0.0026199443261831767,-0.004596946314234129],\"xaxis\":\"x2\",\"yaxis\":\"y2\",\"type\":\"box\"}],                        {\"template\":{\"data\":{\"histogram2dcontour\":[{\"type\":\"histogram2dcontour\",\"colorbar\":{\"outlinewidth\":0,\"ticks\":\"\"},\"colorscale\":[[0.0,\"#0d0887\"],[0.1111111111111111,\"#46039f\"],[0.2222222222222222,\"#7201a8\"],[0.3333333333333333,\"#9c179e\"],[0.4444444444444444,\"#bd3786\"],[0.5555555555555556,\"#d8576b\"],[0.6666666666666666,\"#ed7953\"],[0.7777777777777778,\"#fb9f3a\"],[0.8888888888888888,\"#fdca26\"],[1.0,\"#f0f921\"]]}],\"choropleth\":[{\"type\":\"choropleth\",\"colorbar\":{\"outlinewidth\":0,\"ticks\":\"\"}}],\"histogram2d\":[{\"type\":\"histogram2d\",\"colorbar\":{\"outlinewidth\":0,\"ticks\":\"\"},\"colorscale\":[[0.0,\"#0d0887\"],[0.1111111111111111,\"#46039f\"],[0.2222222222222222,\"#7201a8\"],[0.3333333333333333,\"#9c179e\"],[0.4444444444444444,\"#bd3786\"],[0.5555555555555556,\"#d8576b\"],[0.6666666666666666,\"#ed7953\"],[0.7777777777777778,\"#fb9f3a\"],[0.8888888888888888,\"#fdca26\"],[1.0,\"#f0f921\"]]}],\"heatmap\":[{\"type\":\"heatmap\",\"colorbar\":{\"outlinewidth\":0,\"ticks\":\"\"},\"colorscale\":[[0.0,\"#0d0887\"],[0.1111111111111111,\"#46039f\"],[0.2222222222222222,\"#7201a8\"],[0.3333333333333333,\"#9c179e\"],[0.4444444444444444,\"#bd3786\"],[0.5555555555555556,\"#d8576b\"],[0.6666666666666666,\"#ed7953\"],[0.7777777777777778,\"#fb9f3a\"],[0.8888888888888888,\"#fdca26\"],[1.0,\"#f0f921\"]]}],\"heatmapgl\":[{\"type\":\"heatmapgl\",\"colorbar\":{\"outlinewidth\":0,\"ticks\":\"\"},\"colorscale\":[[0.0,\"#0d0887\"],[0.1111111111111111,\"#46039f\"],[0.2222222222222222,\"#7201a8\"],[0.3333333333333333,\"#9c179e\"],[0.4444444444444444,\"#bd3786\"],[0.5555555555555556,\"#d8576b\"],[0.6666666666666666,\"#ed7953\"],[0.7777777777777778,\"#fb9f3a\"],[0.8888888888888888,\"#fdca26\"],[1.0,\"#f0f921\"]]}],\"contourcarpet\":[{\"type\":\"contourcarpet\",\"colorbar\":{\"outlinewidth\":0,\"ticks\":\"\"}}],\"contour\":[{\"type\":\"contour\",\"colorbar\":{\"outlinewidth\":0,\"ticks\":\"\"},\"colorscale\":[[0.0,\"#0d0887\"],[0.1111111111111111,\"#46039f\"],[0.2222222222222222,\"#7201a8\"],[0.3333333333333333,\"#9c179e\"],[0.4444444444444444,\"#bd3786\"],[0.5555555555555556,\"#d8576b\"],[0.6666666666666666,\"#ed7953\"],[0.7777777777777778,\"#fb9f3a\"],[0.8888888888888888,\"#fdca26\"],[1.0,\"#f0f921\"]]}],\"surface\":[{\"type\":\"surface\",\"colorbar\":{\"outlinewidth\":0,\"ticks\":\"\"},\"colorscale\":[[0.0,\"#0d0887\"],[0.1111111111111111,\"#46039f\"],[0.2222222222222222,\"#7201a8\"],[0.3333333333333333,\"#9c179e\"],[0.4444444444444444,\"#bd3786\"],[0.5555555555555556,\"#d8576b\"],[0.6666666666666666,\"#ed7953\"],[0.7777777777777778,\"#fb9f3a\"],[0.8888888888888888,\"#fdca26\"],[1.0,\"#f0f921\"]]}],\"mesh3d\":[{\"type\":\"mesh3d\",\"colorbar\":{\"outlinewidth\":0,\"ticks\":\"\"}}],\"scatter\":[{\"fillpattern\":{\"fillmode\":\"overlay\",\"size\":10,\"solidity\":0.2},\"type\":\"scatter\"}],\"parcoords\":[{\"type\":\"parcoords\",\"line\":{\"colorbar\":{\"outlinewidth\":0,\"ticks\":\"\"}}}],\"scatterpolargl\":[{\"type\":\"scatterpolargl\",\"marker\":{\"colorbar\":{\"outlinewidth\":0,\"ticks\":\"\"}}}],\"bar\":[{\"error_x\":{\"color\":\"#2a3f5f\"},\"error_y\":{\"color\":\"#2a3f5f\"},\"marker\":{\"line\":{\"color\":\"#E5ECF6\",\"width\":0.5},\"pattern\":{\"fillmode\":\"overlay\",\"size\":10,\"solidity\":0.2}},\"type\":\"bar\"}],\"scattergeo\":[{\"type\":\"scattergeo\",\"marker\":{\"colorbar\":{\"outlinewidth\":0,\"ticks\":\"\"}}}],\"scatterpolar\":[{\"type\":\"scatterpolar\",\"marker\":{\"colorbar\":{\"outlinewidth\":0,\"ticks\":\"\"}}}],\"histogram\":[{\"marker\":{\"pattern\":{\"fillmode\":\"overlay\",\"size\":10,\"solidity\":0.2}},\"type\":\"histogram\"}],\"scattergl\":[{\"type\":\"scattergl\",\"marker\":{\"colorbar\":{\"outlinewidth\":0,\"ticks\":\"\"}}}],\"scatter3d\":[{\"type\":\"scatter3d\",\"line\":{\"colorbar\":{\"outlinewidth\":0,\"ticks\":\"\"}},\"marker\":{\"colorbar\":{\"outlinewidth\":0,\"ticks\":\"\"}}}],\"scattermapbox\":[{\"type\":\"scattermapbox\",\"marker\":{\"colorbar\":{\"outlinewidth\":0,\"ticks\":\"\"}}}],\"scatterternary\":[{\"type\":\"scatterternary\",\"marker\":{\"colorbar\":{\"outlinewidth\":0,\"ticks\":\"\"}}}],\"scattercarpet\":[{\"type\":\"scattercarpet\",\"marker\":{\"colorbar\":{\"outlinewidth\":0,\"ticks\":\"\"}}}],\"carpet\":[{\"aaxis\":{\"endlinecolor\":\"#2a3f5f\",\"gridcolor\":\"white\",\"linecolor\":\"white\",\"minorgridcolor\":\"white\",\"startlinecolor\":\"#2a3f5f\"},\"baxis\":{\"endlinecolor\":\"#2a3f5f\",\"gridcolor\":\"white\",\"linecolor\":\"white\",\"minorgridcolor\":\"white\",\"startlinecolor\":\"#2a3f5f\"},\"type\":\"carpet\"}],\"table\":[{\"cells\":{\"fill\":{\"color\":\"#EBF0F8\"},\"line\":{\"color\":\"white\"}},\"header\":{\"fill\":{\"color\":\"#C8D4E3\"},\"line\":{\"color\":\"white\"}},\"type\":\"table\"}],\"barpolar\":[{\"marker\":{\"line\":{\"color\":\"#E5ECF6\",\"width\":0.5},\"pattern\":{\"fillmode\":\"overlay\",\"size\":10,\"solidity\":0.2}},\"type\":\"barpolar\"}],\"pie\":[{\"automargin\":true,\"type\":\"pie\"}]},\"layout\":{\"autotypenumbers\":\"strict\",\"colorway\":[\"#636efa\",\"#EF553B\",\"#00cc96\",\"#ab63fa\",\"#FFA15A\",\"#19d3f3\",\"#FF6692\",\"#B6E880\",\"#FF97FF\",\"#FECB52\"],\"font\":{\"color\":\"#2a3f5f\"},\"hovermode\":\"closest\",\"hoverlabel\":{\"align\":\"left\"},\"paper_bgcolor\":\"white\",\"plot_bgcolor\":\"#E5ECF6\",\"polar\":{\"bgcolor\":\"#E5ECF6\",\"angularaxis\":{\"gridcolor\":\"white\",\"linecolor\":\"white\",\"ticks\":\"\"},\"radialaxis\":{\"gridcolor\":\"white\",\"linecolor\":\"white\",\"ticks\":\"\"}},\"ternary\":{\"bgcolor\":\"#E5ECF6\",\"aaxis\":{\"gridcolor\":\"white\",\"linecolor\":\"white\",\"ticks\":\"\"},\"baxis\":{\"gridcolor\":\"white\",\"linecolor\":\"white\",\"ticks\":\"\"},\"caxis\":{\"gridcolor\":\"white\",\"linecolor\":\"white\",\"ticks\":\"\"}},\"coloraxis\":{\"colorbar\":{\"outlinewidth\":0,\"ticks\":\"\"}},\"colorscale\":{\"sequential\":[[0.0,\"#0d0887\"],[0.1111111111111111,\"#46039f\"],[0.2222222222222222,\"#7201a8\"],[0.3333333333333333,\"#9c179e\"],[0.4444444444444444,\"#bd3786\"],[0.5555555555555556,\"#d8576b\"],[0.6666666666666666,\"#ed7953\"],[0.7777777777777778,\"#fb9f3a\"],[0.8888888888888888,\"#fdca26\"],[1.0,\"#f0f921\"]],\"sequentialminus\":[[0.0,\"#0d0887\"],[0.1111111111111111,\"#46039f\"],[0.2222222222222222,\"#7201a8\"],[0.3333333333333333,\"#9c179e\"],[0.4444444444444444,\"#bd3786\"],[0.5555555555555556,\"#d8576b\"],[0.6666666666666666,\"#ed7953\"],[0.7777777777777778,\"#fb9f3a\"],[0.8888888888888888,\"#fdca26\"],[1.0,\"#f0f921\"]],\"diverging\":[[0,\"#8e0152\"],[0.1,\"#c51b7d\"],[0.2,\"#de77ae\"],[0.3,\"#f1b6da\"],[0.4,\"#fde0ef\"],[0.5,\"#f7f7f7\"],[0.6,\"#e6f5d0\"],[0.7,\"#b8e186\"],[0.8,\"#7fbc41\"],[0.9,\"#4d9221\"],[1,\"#276419\"]]},\"xaxis\":{\"gridcolor\":\"white\",\"linecolor\":\"white\",\"ticks\":\"\",\"title\":{\"standoff\":15},\"zerolinecolor\":\"white\",\"automargin\":true,\"zerolinewidth\":2},\"yaxis\":{\"gridcolor\":\"white\",\"linecolor\":\"white\",\"ticks\":\"\",\"title\":{\"standoff\":15},\"zerolinecolor\":\"white\",\"automargin\":true,\"zerolinewidth\":2},\"scene\":{\"xaxis\":{\"backgroundcolor\":\"#E5ECF6\",\"gridcolor\":\"white\",\"linecolor\":\"white\",\"showbackground\":true,\"ticks\":\"\",\"zerolinecolor\":\"white\",\"gridwidth\":2},\"yaxis\":{\"backgroundcolor\":\"#E5ECF6\",\"gridcolor\":\"white\",\"linecolor\":\"white\",\"showbackground\":true,\"ticks\":\"\",\"zerolinecolor\":\"white\",\"gridwidth\":2},\"zaxis\":{\"backgroundcolor\":\"#E5ECF6\",\"gridcolor\":\"white\",\"linecolor\":\"white\",\"showbackground\":true,\"ticks\":\"\",\"zerolinecolor\":\"white\",\"gridwidth\":2}},\"shapedefaults\":{\"line\":{\"color\":\"#2a3f5f\"}},\"annotationdefaults\":{\"arrowcolor\":\"#2a3f5f\",\"arrowhead\":0,\"arrowwidth\":1},\"geo\":{\"bgcolor\":\"white\",\"landcolor\":\"#E5ECF6\",\"subunitcolor\":\"white\",\"showland\":true,\"showlakes\":true,\"lakecolor\":\"white\"},\"title\":{\"x\":0.05},\"mapbox\":{\"style\":\"light\"}}},\"xaxis\":{\"anchor\":\"y\",\"domain\":[0.0,1.0],\"title\":{\"text\":\"Daily Returns\"}},\"yaxis\":{\"anchor\":\"x\",\"domain\":[0.0,0.7326],\"title\":{\"text\":\"Frequency\"}},\"xaxis2\":{\"anchor\":\"y2\",\"domain\":[0.0,1.0],\"matches\":\"x\",\"showticklabels\":false,\"showgrid\":true},\"yaxis2\":{\"anchor\":\"x2\",\"domain\":[0.7426,1.0],\"matches\":\"y2\",\"showticklabels\":false,\"showline\":false,\"ticks\":\"\",\"showgrid\":false},\"legend\":{\"title\":{\"text\":\"variable\"},\"tracegroupgap\":0},\"margin\":{\"t\":60},\"barmode\":\"relative\",\"title\":{\"text\":\"Distribution of Daily Returns\"},\"plot_bgcolor\":\"white\",\"bargap\":0.1},                        {\"responsive\": true}                    ).then(function(){\n",
       "                            \n",
       "var gd = document.getElementById('47d0a810-fd66-4fd4-ae2b-ad44b5b2f514');\n",
       "var x = new MutationObserver(function (mutations, observer) {{\n",
       "        var display = window.getComputedStyle(gd).display;\n",
       "        if (!display || display === 'none') {{\n",
       "            console.log([gd, 'removed!']);\n",
       "            Plotly.purge(gd);\n",
       "            observer.disconnect();\n",
       "        }}\n",
       "}});\n",
       "\n",
       "// Listen for the removal of the full notebook cells\n",
       "var notebookContainer = gd.closest('#notebook-container');\n",
       "if (notebookContainer) {{\n",
       "    x.observe(notebookContainer, {childList: true});\n",
       "}}\n",
       "\n",
       "// Listen for the clearing of the current output cell\n",
       "var outputEl = gd.closest('.output');\n",
       "if (outputEl) {{\n",
       "    x.observe(outputEl, {childList: true});\n",
       "}}\n",
       "\n",
       "                        })                };                });            </script>        </div>"
      ]
     },
     "metadata": {},
     "output_type": "display_data"
    }
   ],
   "source": [
    "# Creating a Plotly figure for distribution\n",
    "fig = px.histogram(daily_returns, nbins=30, marginal='box')\n",
    "fig.update_layout(\n",
    "    title='Distribution of Daily Returns',\n",
    "    xaxis_title='Daily Returns',\n",
    "    yaxis_title='Frequency',\n",
    "    plot_bgcolor='white',\n",
    "    bargap=0.1\n",
    ")\n",
    "\n",
    "# Show the plot\n",
    "fig.show()\n"
   ]
  },
  {
   "cell_type": "markdown",
   "id": "707098f8",
   "metadata": {},
   "source": [
    "### Calculating RSI"
   ]
  },
  {
   "cell_type": "code",
   "execution_count": 28,
   "id": "218807ba",
   "metadata": {
    "scrolled": true
   },
   "outputs": [],
   "source": [
    "def calculate_rsi(data, window=14):\n",
    "    delta = data.diff()\n",
    "    gain = (delta.where(delta > 0, 0)).rolling(window=window).mean()\n",
    "    loss = (-delta.where(delta < 0, 0)).rolling(window=window).mean()\n",
    "\n",
    "    rs = gain / loss\n",
    "    rsi = 100 - (100 / (1 + rs))\n",
    "\n",
    "    return rsi\n",
    "# if needed return rsi.fillna(method='ffill')  # Forward fill the NaN values\n",
    "\n",
    "# Assuming 'Close' column exists in your DataFrame\n",
    "full_data['RSI'] = calculate_rsi(full_data['Close'])\n",
    "\n",
    "# Display the RSI\n",
    "rsi=full_data[\"RSI\"]\n"
   ]
  },
  {
   "cell_type": "code",
   "execution_count": 29,
   "id": "9ae6a099",
   "metadata": {
    "scrolled": true
   },
   "outputs": [
    {
     "data": {
      "image/png": "[encoded data removed]",
      "text/plain": [
       "<Figure size 1200x800 with 2 Axes>"
      ]
     },
     "metadata": {},
     "output_type": "display_data"
    }
   ],
   "source": [
    "fig, (ax1, ax2) = plt.subplots(2, figsize=(12, 8), gridspec_kw={'height_ratios': [3, 1]})\n",
    "\n",
    "# Price Plot\n",
    "ax1.plot(full_data['Close'], label='Close Price')\n",
    "ax1.set_title('Close Price and RSI')\n",
    "ax1.set_ylabel('Price')\n",
    "ax1.grid(True)\n",
    "\n",
    "# RSI Plot\n",
    "ax2.plot(full_data['RSI'], label='RSI', color='purple')\n",
    "ax2.axhline(70, color='r', linestyle='--', linewidth=0.5)\n",
    "ax2.axhline(30, color='g', linestyle='--', linewidth=0.5)\n",
    "ax2.set_ylabel('RSI')\n",
    "ax2.set_xlabel('Date')\n",
    "ax2.grid(True)\n",
    "\n",
    "# Show the plot\n",
    "plt.show()"
   ]
  },
  {
   "cell_type": "code",
   "execution_count": 30,
   "id": "4dd73f15",
   "metadata": {},
   "outputs": [
    {
     "data": {
      "application/vnd.plotly.v1+json": {
       "config": {
        "plotlyServerURL": "https://plot.ly"
       },
       "data": [
        {
         "hoverinfo": "all",
         "hovertemplate": "Date: %{x}<br>Value: %{y}",
         "mode": "lines",
         "name": "Close Price",
         "type": "scatter",
         "x": [
          "2023-01-02T00:59:59.999000",
          "2023-01-03T00:59:59.999000",
          "2023-01-04T00:59:59.999000",
          "2023-01-05T00:59:59.999000",
          "2023-01-06T00:59:59.999000",
          "2023-01-07T00:59:59.999000",
          "2023-01-08T00:59:59.999000",
          "2023-01-09T00:59:59.999000",
          "2023-01-10T00:59:59.999000",
          "2023-01-11T00:59:59.999000",
          "2023-01-12T00:59:59.999000",
          "2023-01-13T00:59:59.999000",
          "2023-01-14T00:59:59.999000",
          "2023-01-15T00:59:59.999000",
          "2023-01-16T00:59:59.999000",
          "2023-01-17T00:59:59.999000",
          "2023-01-18T00:59:59.999000",
          "2023-01-19T00:59:59.999000",
          "2023-01-20T00:59:59.999000",
          "2023-01-21T00:59:59.999000",
          "2023-01-22T00:59:59.999000",
          "2023-01-23T00:59:59.999000",
          "2023-01-24T00:59:59.999000",
          "2023-01-25T00:59:59.999000",
          "2023-01-26T00:59:59.999000",
          "2023-01-27T00:59:59.999000",
          "2023-01-28T00:59:59.999000",
          "2023-01-29T00:59:59.999000",
          "2023-01-30T00:59:59.999000",
          "2023-01-31T00:59:59.999000",
          "2023-02-01T00:59:59.999000",
          "2023-02-02T00:59:59.999000",
          "2023-02-03T00:59:59.999000",
          "2023-02-04T00:59:59.999000",
          "2023-02-05T00:59:59.999000",
          "2023-02-06T00:59:59.999000",
          "2023-02-07T00:59:59.999000",
          "2023-02-08T00:59:59.999000",
          "2023-02-09T00:59:59.999000",
          "2023-02-10T00:59:59.999000",
          "2023-02-11T00:59:59.999000",
          "2023-02-12T00:59:59.999000",
          "2023-02-13T00:59:59.999000",
          "2023-02-14T00:59:59.999000",
          "2023-02-15T00:59:59.999000",
          "2023-02-16T00:59:59.999000",
          "2023-02-17T00:59:59.999000",
          "2023-02-18T00:59:59.999000",
          "2023-02-19T00:59:59.999000",
          "2023-02-20T00:59:59.999000",
          "2023-02-21T00:59:59.999000",
          "2023-02-22T00:59:59.999000",
          "2023-02-23T00:59:59.999000",
          "2023-02-24T00:59:59.999000",
          "2023-02-25T00:59:59.999000",
          "2023-02-26T00:59:59.999000",
          "2023-02-27T00:59:59.999000",
          "2023-02-28T00:59:59.999000",
          "2023-03-01T00:59:59.999000",
          "2023-03-02T00:59:59.999000",
          "2023-03-03T00:59:59.999000",
          "2023-03-04T00:59:59.999000",
          "2023-03-05T00:59:59.999000",
          "2023-03-06T00:59:59.999000",
          "2023-03-07T00:59:59.999000",
          "2023-03-08T00:59:59.999000",
          "2023-03-09T00:59:59.999000",
          "2023-03-10T00:59:59.999000",
          "2023-03-11T00:59:59.999000",
          "2023-03-12T00:59:59.999000",
          "2023-03-13T00:59:59.999000",
          "2023-03-14T00:59:59.999000",
          "2023-03-15T00:59:59.999000",
          "2023-03-16T00:59:59.999000",
          "2023-03-17T00:59:59.999000",
          "2023-03-18T00:59:59.999000",
          "2023-03-19T00:59:59.999000",
          "2023-03-20T00:59:59.999000",
          "2023-03-21T00:59:59.999000",
          "2023-03-22T00:59:59.999000",
          "2023-03-23T00:59:59.999000",
          "2023-03-24T00:59:59.999000",
          "2023-03-25T00:59:59.999000",
          "2023-03-26T00:59:59.999000",
          "2023-03-27T01:59:59.999000",
          "2023-03-28T01:59:59.999000",
          "2023-03-29T01:59:59.999000",
          "2023-03-30T01:59:59.999000",
          "2023-03-31T01:59:59.999000",
          "2023-04-01T01:59:59.999000",
          "2023-04-02T01:59:59.999000",
          "2023-04-03T01:59:59.999000",
          "2023-04-04T01:59:59.999000",
          "2023-04-05T01:59:59.999000",
          "2023-04-06T01:59:59.999000",
          "2023-04-07T01:59:59.999000",
          "2023-04-08T01:59:59.999000",
          "2023-04-09T01:59:59.999000",
          "2023-04-10T01:59:59.999000",
          "2023-04-11T01:59:59.999000",
          "2023-04-12T01:59:59.999000",
          "2023-04-13T01:59:59.999000",
          "2023-04-14T01:59:59.999000",
          "2023-04-15T01:59:59.999000",
          "2023-04-16T01:59:59.999000",
          "2023-04-17T01:59:59.999000",
          "2023-04-18T01:59:59.999000",
          "2023-04-19T01:59:59.999000",
          "2023-04-20T01:59:59.999000",
          "2023-04-21T01:59:59.999000",
          "2023-04-22T01:59:59.999000",
          "2023-04-23T01:59:59.999000",
          "2023-04-24T01:59:59.999000",
          "2023-04-25T01:59:59.999000",
          "2023-04-26T01:59:59.999000",
          "2023-04-27T01:59:59.999000",
          "2023-04-28T01:59:59.999000",
          "2023-04-29T01:59:59.999000",
          "2023-04-30T01:59:59.999000",
          "2023-05-01T01:59:59.999000",
          "2023-05-02T01:59:59.999000",
          "2023-05-03T01:59:59.999000",
          "2023-05-04T01:59:59.999000",
          "2023-05-05T01:59:59.999000",
          "2023-05-06T01:59:59.999000",
          "2023-05-07T01:59:59.999000",
          "2023-05-08T01:59:59.999000",
          "2023-05-09T01:59:59.999000",
          "2023-05-10T01:59:59.999000",
          "2023-05-11T01:59:59.999000",
          "2023-05-12T01:59:59.999000",
          "2023-05-13T01:59:59.999000",
          "2023-05-14T01:59:59.999000",
          "2023-05-15T01:59:59.999000",
          "2023-05-16T01:59:59.999000",
          "2023-05-17T01:59:59.999000",
          "2023-05-18T01:59:59.999000",
          "2023-05-19T01:59:59.999000",
          "2023-05-20T01:59:59.999000",
          "2023-05-21T01:59:59.999000",
          "2023-05-22T01:59:59.999000",
          "2023-05-23T01:59:59.999000",
          "2023-05-24T01:59:59.999000",
          "2023-05-25T01:59:59.999000",
          "2023-05-26T01:59:59.999000",
          "2023-05-27T01:59:59.999000",
          "2023-05-28T01:59:59.999000",
          "2023-05-29T01:59:59.999000",
          "2023-05-30T01:59:59.999000",
          "2023-05-31T01:59:59.999000",
          "2023-06-01T01:59:59.999000",
          "2023-06-02T01:59:59.999000",
          "2023-06-03T01:59:59.999000",
          "2023-06-04T01:59:59.999000",
          "2023-06-05T01:59:59.999000",
          "2023-06-06T01:59:59.999000",
          "2023-06-07T01:59:59.999000",
          "2023-06-08T01:59:59.999000",
          "2023-06-09T01:59:59.999000",
          "2023-06-10T01:59:59.999000",
          "2023-06-11T01:59:59.999000",
          "2023-06-12T01:59:59.999000",
          "2023-06-13T01:59:59.999000",
          "2023-06-14T01:59:59.999000",
          "2023-06-15T01:59:59.999000",
          "2023-06-16T01:59:59.999000",
          "2023-06-17T01:59:59.999000",
          "2023-06-18T01:59:59.999000",
          "2023-06-19T01:59:59.999000",
          "2023-06-20T01:59:59.999000",
          "2023-06-21T01:59:59.999000",
          "2023-06-22T01:59:59.999000",
          "2023-06-23T01:59:59.999000",
          "2023-06-24T01:59:59.999000",
          "2023-06-25T01:59:59.999000",
          "2023-06-26T01:59:59.999000",
          "2023-06-27T01:59:59.999000",
          "2023-06-28T01:59:59.999000",
          "2023-06-29T01:59:59.999000",
          "2023-06-30T01:59:59.999000",
          "2023-07-01T01:59:59.999000",
          "2023-07-02T01:59:59.999000",
          "2023-07-03T01:59:59.999000",
          "2023-07-04T01:59:59.999000",
          "2023-07-05T01:59:59.999000",
          "2023-07-06T01:59:59.999000",
          "2023-07-07T01:59:59.999000",
          "2023-07-08T01:59:59.999000",
          "2023-07-09T01:59:59.999000",
          "2023-07-10T01:59:59.999000",
          "2023-07-11T01:59:59.999000",
          "2023-07-12T01:59:59.999000",
          "2023-07-13T01:59:59.999000",
          "2023-07-14T01:59:59.999000",
          "2023-07-15T01:59:59.999000",
          "2023-07-16T01:59:59.999000",
          "2023-07-17T01:59:59.999000",
          "2023-07-18T01:59:59.999000",
          "2023-07-19T01:59:59.999000",
          "2023-07-20T01:59:59.999000",
          "2023-07-21T01:59:59.999000",
          "2023-07-22T01:59:59.999000",
          "2023-07-23T01:59:59.999000",
          "2023-07-24T01:59:59.999000",
          "2023-07-25T01:59:59.999000",
          "2023-07-26T01:59:59.999000",
          "2023-07-27T01:59:59.999000",
          "2023-07-28T01:59:59.999000",
          "2023-07-29T01:59:59.999000",
          "2023-07-30T01:59:59.999000",
          "2023-07-31T01:59:59.999000",
          "2023-08-01T01:59:59.999000",
          "2023-08-02T01:59:59.999000",
          "2023-08-03T01:59:59.999000",
          "2023-08-04T01:59:59.999000",
          "2023-08-05T01:59:59.999000",
          "2023-08-06T01:59:59.999000",
          "2023-08-07T01:59:59.999000",
          "2023-08-08T01:59:59.999000",
          "2023-08-09T01:59:59.999000",
          "2023-08-10T01:59:59.999000",
          "2023-08-11T01:59:59.999000",
          "2023-08-12T01:59:59.999000",
          "2023-08-13T01:59:59.999000",
          "2023-08-14T01:59:59.999000",
          "2023-08-15T01:59:59.999000",
          "2023-08-16T01:59:59.999000",
          "2023-08-17T01:59:59.999000",
          "2023-08-18T01:59:59.999000",
          "2023-08-19T01:59:59.999000",
          "2023-08-20T01:59:59.999000",
          "2023-08-21T01:59:59.999000",
          "2023-08-22T01:59:59.999000",
          "2023-08-23T01:59:59.999000",
          "2023-08-24T01:59:59.999000",
          "2023-08-25T01:59:59.999000",
          "2023-08-26T01:59:59.999000",
          "2023-08-27T01:59:59.999000",
          "2023-08-28T01:59:59.999000",
          "2023-08-29T01:59:59.999000",
          "2023-08-30T01:59:59.999000",
          "2023-08-31T01:59:59.999000",
          "2023-09-01T01:59:59.999000",
          "2023-09-02T01:59:59.999000",
          "2023-09-03T01:59:59.999000",
          "2023-09-04T01:59:59.999000",
          "2023-09-05T01:59:59.999000",
          "2023-09-06T01:59:59.999000",
          "2023-09-07T01:59:59.999000",
          "2023-09-08T01:59:59.999000",
          "2023-09-09T01:59:59.999000",
          "2023-09-10T01:59:59.999000",
          "2023-09-11T01:59:59.999000",
          "2023-09-12T01:59:59.999000",
          "2023-09-13T01:59:59.999000",
          "2023-09-14T01:59:59.999000",
          "2023-09-15T01:59:59.999000",
          "2023-09-16T01:59:59.999000",
          "2023-09-17T01:59:59.999000",
          "2023-09-18T01:59:59.999000",
          "2023-09-19T01:59:59.999000",
          "2023-09-20T01:59:59.999000",
          "2023-09-21T01:59:59.999000",
          "2023-09-22T01:59:59.999000",
          "2023-09-23T01:59:59.999000",
          "2023-09-24T01:59:59.999000",
          "2023-09-25T01:59:59.999000",
          "2023-09-26T01:59:59.999000",
          "2023-09-27T01:59:59.999000",
          "2023-09-28T01:59:59.999000",
          "2023-09-29T01:59:59.999000",
          "2023-09-30T01:59:59.999000",
          "2023-10-01T01:59:59.999000",
          "2023-10-02T01:59:59.999000",
          "2023-10-03T01:59:59.999000",
          "2023-10-04T01:59:59.999000",
          "2023-10-05T01:59:59.999000",
          "2023-10-06T01:59:59.999000",
          "2023-10-07T01:59:59.999000",
          "2023-10-08T01:59:59.999000",
          "2023-10-09T01:59:59.999000",
          "2023-10-10T01:59:59.999000",
          "2023-10-11T01:59:59.999000",
          "2023-10-12T01:59:59.999000",
          "2023-10-13T01:59:59.999000",
          "2023-10-14T01:59:59.999000",
          "2023-10-15T01:59:59.999000",
          "2023-10-16T01:59:59.999000",
          "2023-10-17T01:59:59.999000",
          "2023-10-18T01:59:59.999000",
          "2023-10-19T01:59:59.999000",
          "2023-10-20T01:59:59.999000",
          "2023-10-21T01:59:59.999000",
          "2023-10-22T01:59:59.999000",
          "2023-10-23T01:59:59.999000",
          "2023-10-24T01:59:59.999000",
          "2023-10-25T01:59:59.999000",
          "2023-10-26T01:59:59.999000",
          "2023-10-27T01:59:59.999000",
          "2023-10-28T01:59:59.999000",
          "2023-10-29T01:59:59.999000",
          "2023-10-30T00:59:59.999000",
          "2023-10-31T00:59:59.999000",
          "2023-11-01T00:59:59.999000",
          "2023-11-02T00:59:59.999000",
          "2023-11-03T00:59:59.999000",
          "2023-11-04T00:59:59.999000",
          "2023-11-05T00:59:59.999000",
          "2023-11-06T00:59:59.999000",
          "2023-11-07T00:59:59.999000",
          "2023-11-08T00:59:59.999000",
          "2023-11-09T00:59:59.999000",
          "2023-11-10T00:59:59.999000",
          "2023-11-11T00:59:59.999000",
          "2023-11-12T00:59:59.999000",
          "2023-11-13T00:59:59.999000",
          "2023-11-14T00:59:59.999000",
          "2023-11-15T00:59:59.999000",
          "2023-11-16T00:59:59.999000",
          "2023-11-17T00:59:59.999000",
          "2023-11-18T00:59:59.999000",
          "2023-11-19T00:59:59.999000",
          "2023-11-20T00:59:59.999000",
          "2023-11-21T00:59:59.999000",
          "2023-11-22T00:59:59.999000",
          "2023-11-23T00:59:59.999000",
          "2023-11-24T00:59:59.999000",
          "2023-11-25T00:59:59.999000",
          "2023-11-26T00:59:59.999000",
          "2023-11-27T00:59:59.999000",
          "2023-11-28T00:59:59.999000",
          "2023-11-29T00:59:59.999000",
          "2023-11-30T00:59:59.999000",
          "2023-12-01T00:59:59.999000"
         ],
         "y": [
          0.3387,
          0.3482,
          0.3436,
          0.3472,
          0.338,
          0.3443,
          0.3442,
          0.3452,
          0.349,
          0.3507,
          0.3728,
          0.3748,
          0.3858,
          0.3953,
          0.3845,
          0.3855,
          0.3868,
          0.3782,
          0.3928,
          0.4129,
          0.4034,
          0.4004,
          0.4234,
          0.4078,
          0.417,
          0.4092,
          0.4128,
          0.4078,
          0.4134,
          0.3934,
          0.4057,
          0.4131,
          0.4098,
          0.4117,
          0.4106,
          0.3984,
          0.392,
          0.4036,
          0.3975,
          0.3819,
          0.3817,
          0.3833,
          0.3747,
          0.3703,
          0.3819,
          0.4011,
          0.3841,
          0.395,
          0.3943,
          0.3863,
          0.3984,
          0.3919,
          0.3953,
          0.3882,
          0.3783,
          0.3778,
          0.3779,
          0.3785,
          0.3762,
          0.3835,
          0.3772,
          0.3774,
          0.3735,
          0.3668,
          0.3695,
          0.3801,
          0.3889,
          0.3706,
          0.37,
          0.3638,
          0.3714,
          0.3724,
          0.3724,
          0.3589,
          0.3647,
          0.3798,
          0.3739,
          0.3857,
          0.3734,
          0.4696,
          0.4213,
          0.4438,
          0.4259,
          0.4429,
          0.4479,
          0.479,
          0.5144,
          0.5425,
          0.5319,
          0.5374,
          0.5095,
          0.518,
          0.4959,
          0.5026,
          0.5055,
          0.5028,
          0.5126,
          0.5048,
          0.5054,
          0.5176,
          0.5167,
          0.5049,
          0.5125,
          0.5227,
          0.5192,
          0.5209,
          0.5109,
          0.5324,
          0.4911,
          0.4752,
          0.4491,
          0.4719,
          0.4647,
          0.4611,
          0.4695,
          0.4618,
          0.4667,
          0.4796,
          0.478,
          0.4705,
          0.4649,
          0.4645,
          0.4632,
          0.4608,
          0.4671,
          0.4582,
          0.449,
          0.4283,
          0.4289,
          0.4303,
          0.4207,
          0.4305,
          0.424,
          0.4253,
          0.4273,
          0.4425,
          0.4484,
          0.4596,
          0.4675,
          0.4685,
          0.4575,
          0.4618,
          0.4651,
          0.453,
          0.4538,
          0.4684,
          0.4714,
          0.482,
          0.4946,
          0.5205,
          0.5166,
          0.5065,
          0.5244,
          0.5188,
          0.5359,
          0.509,
          0.53,
          0.5183,
          0.5236,
          0.538,
          0.5067,
          0.5208,
          0.5251,
          0.5192,
          0.4801,
          0.4801,
          0.4759,
          0.4794,
          0.4868,
          0.4936,
          0.4929,
          0.4999,
          0.4938,
          0.4961,
          0.4865,
          0.4903,
          0.479,
          0.4838,
          0.4647,
          0.4747,
          0.4729,
          0.4732,
          0.4845,
          0.489,
          0.4872,
          0.4777,
          0.4622,
          0.4687,
          0.4704,
          0.468,
          0.478,
          0.4753,
          0.471,
          0.8153,
          0.7179,
          0.7145,
          0.7468,
          0.7374,
          0.7779,
          0.8199,
          0.7942,
          0.7713,
          0.7331,
          0.7384,
          0.7021,
          0.7089,
          0.7161,
          0.7139,
          0.712,
          0.7121,
          0.7046,
          0.6976,
          0.7069,
          0.685,
          0.663,
          0.6356,
          0.6288,
          0.624,
          0.6236,
          0.6418,
          0.6433,
          0.6331,
          0.6318,
          0.6276,
          0.6256,
          0.6343,
          0.6104,
          0.5889,
          0.5064,
          0.5062,
          0.5199,
          0.5384,
          0.5245,
          0.521,
          0.5301,
          0.5187,
          0.5258,
          0.5231,
          0.5236,
          0.5232,
          0.5398,
          0.5284,
          0.511,
          0.498,
          0.4988,
          0.5047,
          0.5087,
          0.5056,
          0.5033,
          0.505,
          0.505,
          0.5038,
          0.4969,
          0.4744,
          0.4804,
          0.4832,
          0.4892,
          0.5005,
          0.4998,
          0.4925,
          0.503,
          0.514,
          0.5212,
          0.5071,
          0.5122,
          0.5076,
          0.5021,
          0.5056,
          0.5019,
          0.4993,
          0.5098,
          0.5215,
          0.5149,
          0.5241,
          0.5123,
          0.539,
          0.5326,
          0.5227,
          0.5255,
          0.5216,
          0.5174,
          0.5027,
          0.4965,
          0.4888,
          0.483,
          0.4851,
          0.4865,
          0.4874,
          0.4978,
          0.4912,
          0.4878,
          0.5197,
          0.5149,
          0.5208,
          0.5226,
          0.5475,
          0.5588,
          0.5552,
          0.5533,
          0.543,
          0.5446,
          0.5561,
          0.578,
          0.5996,
          0.6085,
          0.6054,
          0.6121,
          0.6149,
          0.6607,
          0.7148,
          0.685,
          0.6869,
          0.6665,
          0.6595,
          0.6626,
          0.6613,
          0.6702,
          0.6296,
          0.6481,
          0.6119,
          0.6133,
          0.6106,
          0.6258,
          0.6122,
          0.5788,
          0.6109,
          0.6209,
          0.6212,
          0.6228,
          0.6157,
          0.6039,
          0.6107,
          0.6091,
          0.6063
         ]
        },
        {
         "hoverinfo": "all",
         "hovertemplate": "Date: %{x}<br>Value: %{y}",
         "mode": "lines",
         "name": "RSI",
         "type": "scatter",
         "x": [
          "2023-01-02T00:59:59.999000",
          "2023-01-03T00:59:59.999000",
          "2023-01-04T00:59:59.999000",
          "2023-01-05T00:59:59.999000",
          "2023-01-06T00:59:59.999000",
          "2023-01-07T00:59:59.999000",
          "2023-01-08T00:59:59.999000",
          "2023-01-09T00:59:59.999000",
          "2023-01-10T00:59:59.999000",
          "2023-01-11T00:59:59.999000",
          "2023-01-12T00:59:59.999000",
          "2023-01-13T00:59:59.999000",
          "2023-01-14T00:59:59.999000",
          "2023-01-15T00:59:59.999000",
          "2023-01-16T00:59:59.999000",
          "2023-01-17T00:59:59.999000",
          "2023-01-18T00:59:59.999000",
          "2023-01-19T00:59:59.999000",
          "2023-01-20T00:59:59.999000",
          "2023-01-21T00:59:59.999000",
          "2023-01-22T00:59:59.999000",
          "2023-01-23T00:59:59.999000",
          "2023-01-24T00:59:59.999000",
          "2023-01-25T00:59:59.999000",
          "2023-01-26T00:59:59.999000",
          "2023-01-27T00:59:59.999000",
          "2023-01-28T00:59:59.999000",
          "2023-01-29T00:59:59.999000",
          "2023-01-30T00:59:59.999000",
          "2023-01-31T00:59:59.999000",
          "2023-02-01T00:59:59.999000",
          "2023-02-02T00:59:59.999000",
          "2023-02-03T00:59:59.999000",
          "2023-02-04T00:59:59.999000",
          "2023-02-05T00:59:59.999000",
          "2023-02-06T00:59:59.999000",
          "2023-02-07T00:59:59.999000",
          "2023-02-08T00:59:59.999000",
          "2023-02-09T00:59:59.999000",
          "2023-02-10T00:59:59.999000",
          "2023-02-11T00:59:59.999000",
          "2023-02-12T00:59:59.999000",
          "2023-02-13T00:59:59.999000",
          "2023-02-14T00:59:59.999000",
          "2023-02-15T00:59:59.999000",
          "2023-02-16T00:59:59.999000",
          "2023-02-17T00:59:59.999000",
          "2023-02-18T00:59:59.999000",
          "2023-02-19T00:59:59.999000",
          "2023-02-20T00:59:59.999000",
          "2023-02-21T00:59:59.999000",
          "2023-02-22T00:59:59.999000",
          "2023-02-23T00:59:59.999000",
          "2023-02-24T00:59:59.999000",
          "2023-02-25T00:59:59.999000",
          "2023-02-26T00:59:59.999000",
          "2023-02-27T00:59:59.999000",
          "2023-02-28T00:59:59.999000",
          "2023-03-01T00:59:59.999000",
          "2023-03-02T00:59:59.999000",
          "2023-03-03T00:59:59.999000",
          "2023-03-04T00:59:59.999000",
          "2023-03-05T00:59:59.999000",
          "2023-03-06T00:59:59.999000",
          "2023-03-07T00:59:59.999000",
          "2023-03-08T00:59:59.999000",
          "2023-03-09T00:59:59.999000",
          "2023-03-10T00:59:59.999000",
          "2023-03-11T00:59:59.999000",
          "2023-03-12T00:59:59.999000",
          "2023-03-13T00:59:59.999000",
          "2023-03-14T00:59:59.999000",
          "2023-03-15T00:59:59.999000",
          "2023-03-16T00:59:59.999000",
          "2023-03-17T00:59:59.999000",
          "2023-03-18T00:59:59.999000",
          "2023-03-19T00:59:59.999000",
          "2023-03-20T00:59:59.999000",
          "2023-03-21T00:59:59.999000",
          "2023-03-22T00:59:59.999000",
          "2023-03-23T00:59:59.999000",
          "2023-03-24T00:59:59.999000",
          "2023-03-25T00:59:59.999000",
          "2023-03-26T00:59:59.999000",
          "2023-03-27T01:59:59.999000",
          "2023-03-28T01:59:59.999000",
          "2023-03-29T01:59:59.999000",
          "2023-03-30T01:59:59.999000",
          "2023-03-31T01:59:59.999000",
          "2023-04-01T01:59:59.999000",
          "2023-04-02T01:59:59.999000",
          "2023-04-03T01:59:59.999000",
          "2023-04-04T01:59:59.999000",
          "2023-04-05T01:59:59.999000",
          "2023-04-06T01:59:59.999000",
          "2023-04-07T01:59:59.999000",
          "2023-04-08T01:59:59.999000",
          "2023-04-09T01:59:59.999000",
          "2023-04-10T01:59:59.999000",
          "2023-04-11T01:59:59.999000",
          "2023-04-12T01:59:59.999000",
          "2023-04-13T01:59:59.999000",
          "2023-04-14T01:59:59.999000",
          "2023-04-15T01:59:59.999000",
          "2023-04-16T01:59:59.999000",
          "2023-04-17T01:59:59.999000",
          "2023-04-18T01:59:59.999000",
          "2023-04-19T01:59:59.999000",
          "2023-04-20T01:59:59.999000",
          "2023-04-21T01:59:59.999000",
          "2023-04-22T01:59:59.999000",
          "2023-04-23T01:59:59.999000",
          "2023-04-24T01:59:59.999000",
          "2023-04-25T01:59:59.999000",
          "2023-04-26T01:59:59.999000",
          "2023-04-27T01:59:59.999000",
          "2023-04-28T01:59:59.999000",
          "2023-04-29T01:59:59.999000",
          "2023-04-30T01:59:59.999000",
          "2023-05-01T01:59:59.999000",
          "2023-05-02T01:59:59.999000",
          "2023-05-03T01:59:59.999000",
          "2023-05-04T01:59:59.999000",
          "2023-05-05T01:59:59.999000",
          "2023-05-06T01:59:59.999000",
          "2023-05-07T01:59:59.999000",
          "2023-05-08T01:59:59.999000",
          "2023-05-09T01:59:59.999000",
          "2023-05-10T01:59:59.999000",
          "2023-05-11T01:59:59.999000",
          "2023-05-12T01:59:59.999000",
          "2023-05-13T01:59:59.999000",
          "2023-05-14T01:59:59.999000",
          "2023-05-15T01:59:59.999000",
          "2023-05-16T01:59:59.999000",
          "2023-05-17T01:59:59.999000",
          "2023-05-18T01:59:59.999000",
          "2023-05-19T01:59:59.999000",
          "2023-05-20T01:59:59.999000",
          "2023-05-21T01:59:59.999000",
          "2023-05-22T01:59:59.999000",
          "2023-05-23T01:59:59.999000",
          "2023-05-24T01:59:59.999000",
          "2023-05-25T01:59:59.999000",
          "2023-05-26T01:59:59.999000",
          "2023-05-27T01:59:59.999000",
          "2023-05-28T01:59:59.999000",
          "2023-05-29T01:59:59.999000",
          "2023-05-30T01:59:59.999000",
          "2023-05-31T01:59:59.999000",
          "2023-06-01T01:59:59.999000",
          "2023-06-02T01:59:59.999000",
          "2023-06-03T01:59:59.999000",
          "2023-06-04T01:59:59.999000",
          "2023-06-05T01:59:59.999000",
          "2023-06-06T01:59:59.999000",
          "2023-06-07T01:59:59.999000",
          "2023-06-08T01:59:59.999000",
          "2023-06-09T01:59:59.999000",
          "2023-06-10T01:59:59.999000",
          "2023-06-11T01:59:59.999000",
          "2023-06-12T01:59:59.999000",
          "2023-06-13T01:59:59.999000",
          "2023-06-14T01:59:59.999000",
          "2023-06-15T01:59:59.999000",
          "2023-06-16T01:59:59.999000",
          "2023-06-17T01:59:59.999000",
          "2023-06-18T01:59:59.999000",
          "2023-06-19T01:59:59.999000",
          "2023-06-20T01:59:59.999000",
          "2023-06-21T01:59:59.999000",
          "2023-06-22T01:59:59.999000",
          "2023-06-23T01:59:59.999000",
          "2023-06-24T01:59:59.999000",
          "2023-06-25T01:59:59.999000",
          "2023-06-26T01:59:59.999000",
          "2023-06-27T01:59:59.999000",
          "2023-06-28T01:59:59.999000",
          "2023-06-29T01:59:59.999000",
          "2023-06-30T01:59:59.999000",
          "2023-07-01T01:59:59.999000",
          "2023-07-02T01:59:59.999000",
          "2023-07-03T01:59:59.999000",
          "2023-07-04T01:59:59.999000",
          "2023-07-05T01:59:59.999000",
          "2023-07-06T01:59:59.999000",
          "2023-07-07T01:59:59.999000",
          "2023-07-08T01:59:59.999000",
          "2023-07-09T01:59:59.999000",
          "2023-07-10T01:59:59.999000",
          "2023-07-11T01:59:59.999000",
          "2023-07-12T01:59:59.999000",
          "2023-07-13T01:59:59.999000",
          "2023-07-14T01:59:59.999000",
          "2023-07-15T01:59:59.999000",
          "2023-07-16T01:59:59.999000",
          "2023-07-17T01:59:59.999000",
          "2023-07-18T01:59:59.999000",
          "2023-07-19T01:59:59.999000",
          "2023-07-20T01:59:59.999000",
          "2023-07-21T01:59:59.999000",
          "2023-07-22T01:59:59.999000",
          "2023-07-23T01:59:59.999000",
          "2023-07-24T01:59:59.999000",
          "2023-07-25T01:59:59.999000",
          "2023-07-26T01:59:59.999000",
          "2023-07-27T01:59:59.999000",
          "2023-07-28T01:59:59.999000",
          "2023-07-29T01:59:59.999000",
          "2023-07-30T01:59:59.999000",
          "2023-07-31T01:59:59.999000",
          "2023-08-01T01:59:59.999000",
          "2023-08-02T01:59:59.999000",
          "2023-08-03T01:59:59.999000",
          "2023-08-04T01:59:59.999000",
          "2023-08-05T01:59:59.999000",
          "2023-08-06T01:59:59.999000",
          "2023-08-07T01:59:59.999000",
          "2023-08-08T01:59:59.999000",
          "2023-08-09T01:59:59.999000",
          "2023-08-10T01:59:59.999000",
          "2023-08-11T01:59:59.999000",
          "2023-08-12T01:59:59.999000",
          "2023-08-13T01:59:59.999000",
          "2023-08-14T01:59:59.999000",
          "2023-08-15T01:59:59.999000",
          "2023-08-16T01:59:59.999000",
          "2023-08-17T01:59:59.999000",
          "2023-08-18T01:59:59.999000",
          "2023-08-19T01:59:59.999000",
          "2023-08-20T01:59:59.999000",
          "2023-08-21T01:59:59.999000",
          "2023-08-22T01:59:59.999000",
          "2023-08-23T01:59:59.999000",
          "2023-08-24T01:59:59.999000",
          "2023-08-25T01:59:59.999000",
          "2023-08-26T01:59:59.999000",
          "2023-08-27T01:59:59.999000",
          "2023-08-28T01:59:59.999000",
          "2023-08-29T01:59:59.999000",
          "2023-08-30T01:59:59.999000",
          "2023-08-31T01:59:59.999000",
          "2023-09-01T01:59:59.999000",
          "2023-09-02T01:59:59.999000",
          "2023-09-03T01:59:59.999000",
          "2023-09-04T01:59:59.999000",
          "2023-09-05T01:59:59.999000",
          "2023-09-06T01:59:59.999000",
          "2023-09-07T01:59:59.999000",
          "2023-09-08T01:59:59.999000",
          "2023-09-09T01:59:59.999000",
          "2023-09-10T01:59:59.999000",
          "2023-09-11T01:59:59.999000",
          "2023-09-12T01:59:59.999000",
          "2023-09-13T01:59:59.999000",
          "2023-09-14T01:59:59.999000",
          "2023-09-15T01:59:59.999000",
          "2023-09-16T01:59:59.999000",
          "2023-09-17T01:59:59.999000",
          "2023-09-18T01:59:59.999000",
          "2023-09-19T01:59:59.999000",
          "2023-09-20T01:59:59.999000",
          "2023-09-21T01:59:59.999000",
          "2023-09-22T01:59:59.999000",
          "2023-09-23T01:59:59.999000",
          "2023-09-24T01:59:59.999000",
          "2023-09-25T01:59:59.999000",
          "2023-09-26T01:59:59.999000",
          "2023-09-27T01:59:59.999000",
          "2023-09-28T01:59:59.999000",
          "2023-09-29T01:59:59.999000",
          "2023-09-30T01:59:59.999000",
          "2023-10-01T01:59:59.999000",
          "2023-10-02T01:59:59.999000",
          "2023-10-03T01:59:59.999000",
          "2023-10-04T01:59:59.999000",
          "2023-10-05T01:59:59.999000",
          "2023-10-06T01:59:59.999000",
          "2023-10-07T01:59:59.999000",
          "2023-10-08T01:59:59.999000",
          "2023-10-09T01:59:59.999000",
          "2023-10-10T01:59:59.999000",
          "2023-10-11T01:59:59.999000",
          "2023-10-12T01:59:59.999000",
          "2023-10-13T01:59:59.999000",
          "2023-10-14T01:59:59.999000",
          "2023-10-15T01:59:59.999000",
          "2023-10-16T01:59:59.999000",
          "2023-10-17T01:59:59.999000",
          "2023-10-18T01:59:59.999000",
          "2023-10-19T01:59:59.999000",
          "2023-10-20T01:59:59.999000",
          "2023-10-21T01:59:59.999000",
          "2023-10-22T01:59:59.999000",
          "2023-10-23T01:59:59.999000",
          "2023-10-24T01:59:59.999000",
          "2023-10-25T01:59:59.999000",
          "2023-10-26T01:59:59.999000",
          "2023-10-27T01:59:59.999000",
          "2023-10-28T01:59:59.999000",
          "2023-10-29T01:59:59.999000",
          "2023-10-30T00:59:59.999000",
          "2023-10-31T00:59:59.999000",
          "2023-11-01T00:59:59.999000",
          "2023-11-02T00:59:59.999000",
          "2023-11-03T00:59:59.999000",
          "2023-11-04T00:59:59.999000",
          "2023-11-05T00:59:59.999000",
          "2023-11-06T00:59:59.999000",
          "2023-11-07T00:59:59.999000",
          "2023-11-08T00:59:59.999000",
          "2023-11-09T00:59:59.999000",
          "2023-11-10T00:59:59.999000",
          "2023-11-11T00:59:59.999000",
          "2023-11-12T00:59:59.999000",
          "2023-11-13T00:59:59.999000",
          "2023-11-14T00:59:59.999000",
          "2023-11-15T00:59:59.999000",
          "2023-11-16T00:59:59.999000",
          "2023-11-17T00:59:59.999000",
          "2023-11-18T00:59:59.999000",
          "2023-11-19T00:59:59.999000",
          "2023-11-20T00:59:59.999000",
          "2023-11-21T00:59:59.999000",
          "2023-11-22T00:59:59.999000",
          "2023-11-23T00:59:59.999000",
          "2023-11-24T00:59:59.999000",
          "2023-11-25T00:59:59.999000",
          "2023-11-26T00:59:59.999000",
          "2023-11-27T00:59:59.999000",
          "2023-11-28T00:59:59.999000",
          "2023-11-29T00:59:59.999000",
          "2023-11-30T00:59:59.999000",
          "2023-12-01T00:59:59.999000"
         ],
         "y": [
          null,
          null,
          null,
          null,
          null,
          null,
          null,
          null,
          null,
          null,
          null,
          null,
          null,
          83.53080568720381,
          74.05462184873953,
          71.51095732410614,
          75.89928057553959,
          67.53393665158373,
          79.21108742004266,
          81.87732342007438,
          75.29914529914531,
          73.19327731092437,
          76.91751085383503,
          68.77054569362261,
          65.87643678160919,
          61.86206896551724,
          59.81104651162792,
          54.69571750563487,
          61.29788897576231,
          52.68890401633765,
          55.98480050664979,
          61.13592852584558,
          55.84594222833563,
          49.528301886792455,
          53.030303030303045,
          49.21875,
          35.90664272890484,
          48.04469273743018,
          40.651965484180266,
          37.823371989295275,
          35.694572217111315,
          38.36657169990502,
          32.13296398891967,
          37.54045307443366,
          37.065217391304365,
          44.21965317919075,
          39.06382978723404,
          43.39920948616601,
          43.53687549563836,
          45.03691550451189,
          52.5078369905956,
          45.22448979591838,
          49.08180300500833,
          52.83018867924527,
          48.59504132231407,
          47.70642201834864,
          51.43626570915621,
          53.81040892193308,
          47.10071210579855,
          39.81481481481481,
          45.44253632760897,
          36.46153846153846,
          34.750733137829926,
          35.42600896860989,
          24.869565217391298,
          40.42207792207789,
          45.223880597014954,
          38.74680306905372,
          43.97677793904208,
          40.61662198391422,
          46.04141291108405,
          46.30303030303031,
          47.630922693266854,
          35.763888888888886,
          42.72409778812576,
          51.19047619047619,
          50.19455252918288,
          58.75810936051898,
          51.65957446808511,
          72.03348104382079,
          56.67765869744435,
          64.82982171799028,
          60.5831124574025,
          64.3870498363041,
          64.04700697759824,
          67.62566137566137,
          71.01835405565423,
          76.04994324631102,
          73.40425531914894,
          72.6697353279632,
          68.34415584415585,
          68.05896805896806,
          66.28556235043871,
          55.757152826238666,
          67.45439469320067,
          63.32429990966579,
          70.32348804500704,
          65.16413522782952,
          64.39659489233853,
          60.67477876106196,
          50.786056049213975,
          35.538461538461505,
          42.36220472440939,
          44.41913439635536,
          54.520037278658,
          51.44278606965175,
          58.48416289592764,
          64.43798449612405,
          44.91525423728814,
          41.08527131782944,
          31.44360023378141,
          41.160666308436305,
          39.439543331603545,
          34.655078761542654,
          37.68267223382044,
          38.50666666666665,
          37.60822510822512,
          38.50666666666665,
          38.900862068965516,
          36.833855799373026,
          37.70053475935827,
          29.53586497890295,
          38.91977760127085,
          43.59430604982205,
          59.71922246220303,
          41.29606099110548,
          40.27261462205701,
          33.23108384458078,
          27.444444444444485,
          31.182795698924778,
          23.98190045248873,
          21.219226260257898,
          20.066518847006662,
          23.095238095238116,
          26.616915422885597,
          38.445378151260506,
          42.58517034068138,
          49.4475138121547,
          50.1814882032668,
          55.03421309872924,
          54.08261287223823,
          69.09920182440135,
          70.02212389380531,
          61.22650840751731,
          67.93066088840735,
          69.51596292481977,
          75.32051282051282,
          77.55102040816325,
          79.647577092511,
          81.40096618357487,
          77.90507364975448,
          69.36416184971097,
          71.70099160945841,
          68.53352984524687,
          77.64456981664318,
          64.35523114355232,
          67.81987918725974,
          67.96917996697853,
          68.74328678839956,
          68.70967741935485,
          58.236117592160525,
          58.90725436179983,
          57.27923627684965,
          49.65699208443273,
          41.878059635069,
          43.84902143522836,
          37.9293180686909,
          40.090543259557336,
          37.017451084082495,
          45.44378698224852,
          37.52521856086079,
          43.61111111111112,
          39.709944751381244,
          34.21250941974377,
          40.90090090090087,
          34.85600794438926,
          28.597957288765087,
          33.39587242026268,
          41.10854503464202,
          47.20496894409937,
          48.40764331210191,
          46.593406593406606,
          48.78819810326658,
          47.51619870410368,
          46.958377801494144,
          38.46153846153847,
          35.03787878787878,
          37.52276867030968,
          42.1000981354269,
          38.90547263681594,
          49.49596774193548,
          45.62306900102986,
          53.82746051032805,
          90.87854056649064,
          73.91643889105818,
          73.41354550747138,
          74.45459630803654,
          72.94900221729492,
          75.06466632177963,
          77.93925538863488,
          76.66238355284293,
          73.67762128325509,
          69.44485566247225,
          69.92924528301887,
          65.90038314176246,
          66.47855530474041,
          67.21933398904032,
          36.28246753246752,
          48.923750456037936,
          49.55686853766617,
          41.42276422764227,
          41.83087027914612,
          33.28625235404894,
          14.92459698387934,
          15.217391304347814,
          14.8627654065251,
          17.748917748917734,
          14.516129032258064,
          18.675179569034327,
          25.457205559619595,
          22.213740458015238,
          20.935251798561126,
          21.026011560693618,
          20.350877192982438,
          21.1678832116788,
          27.180966113914877,
          18.525766470971902,
          18.574231523871745,
          13.308341143392639,
          15.252416756176103,
          21.802175038839962,
          29.30367504835587,
          27.507943713118436,
          20.622568093385183,
          23.452157598499056,
          23.320895522388042,
          25.93097184377838,
          26.108824874256953,
          26.519337016574553,
          23.408329344183812,
          32.490079365079325,
          34.203655352480396,
          51.81962025316458,
          47.05459770114942,
          41.64687252573236,
          35.18029903254177,
          42.38921001926785,
          42.55319148936171,
          36.128364389233916,
          42.11737629459145,
          36.967418546365884,
          37.675606641123885,
          34.23848878394337,
          27.153558052434477,
          19.126819126819186,
          24.200913242009207,
          35.69553805774284,
          51.67785234899325,
          50.67204301075268,
          41.952506596306044,
          46.53705953827458,
          54.6563192904656,
          59.41114616193482,
          50.9767441860465,
          53.19715808170514,
          51.63793103448277,
          52.26876090750436,
          66.3179916317992,
          61.52197213290462,
          58.64661654135339,
          60.5532786885246,
          60.71428571428572,
          57.26660250240616,
          64.93383742911155,
          54.341736694677856,
          60.179153094462556,
          54.67213114754096,
          56.621392190152825,
          55.75757575757575,
          56.09756097560972,
          56.74008810572687,
          48.83720930232557,
          47.877358490566024,
          46.031746031746025,
          39.49843260188085,
          34.576271186440664,
          37.411347517730476,
          32.44019138755979,
          42.96799224054318,
          21.2048192771084,
          21.999999999999986,
          48.52941176470588,
          44.903846153846196,
          49.622641509434004,
          52.509652509652504,
          69.68365553602808,
          76.19848612279223,
          78.9198606271777,
          81.69522091974753,
          74.30730478589423,
          74.3503772003353,
          76.44341801385684,
          78.35926449787837,
          84.65473145780052,
          87.2760963557752,
          82.19383921863263,
          86.00000000000004,
          85.67096285064447,
          89.25525866969873,
          90.78498293515362,
          78.22003577817536,
          79.67552951780083,
          73.54409317803663,
          74.56769295655843,
          74.72757753562449,
          73.02977232924695,
          71.40204271123494,
          56.39931740614335,
          58.11475409836066,
          51.172861782749905,
          50.22075055187638,
          49.20868605079132,
          42.76233927830776,
          24.426719840478512,
          23.996082272282024,
          33.788395904436854,
          39.82142857142858,
          41.18729866543948,
          40.77849860982392,
          39.711191335740075,
          35.2338530066815,
          45.044572627163085,
          38.780207134637514,
          48.00569800569799
         ],
         "yaxis": "y2"
        },
        {
         "hoverinfo": "all",
         "hovertemplate": "Date: %{x}<br>Value: %{y}",
         "mode": "markers+text",
         "name": "Annotations",
         "text": [
          "RSI Peak",
          "RSI Trough"
         ],
         "textposition": "top center",
         "type": "scatter",
         "x": [
          "2023-02-21T00:59:59.999000",
          "2023-03-23T00:59:59.999000"
         ],
         "y": [
          52.5078369905956,
          56.67765869744435
         ]
        }
       ],
       "layout": {
        "annotations": [
         {
          "showarrow": false,
          "text": "Overbought",
          "x": 1,
          "xanchor": "right",
          "xref": "x domain",
          "y": 70,
          "yanchor": "top",
          "yref": "y"
         },
         {
          "showarrow": false,
          "text": "Oversold",
          "x": 1,
          "xanchor": "right",
          "xref": "x domain",
          "y": 30,
          "yanchor": "top",
          "yref": "y"
         }
        ],
        "legend": {
         "orientation": "h",
         "x": 0,
         "xanchor": "left",
         "y": 1,
         "yanchor": "bottom"
        },
        "margin": {
         "b": 50,
         "l": 50,
         "pad": 4,
         "r": 50,
         "t": 50
        },
        "shapes": [
         {
          "line": {
           "color": "red",
           "dash": "dash"
          },
          "type": "line",
          "x0": 0,
          "x1": 1,
          "xref": "x domain",
          "y0": 70,
          "y1": 70,
          "yref": "y"
         },
         {
          "line": {
           "color": "green",
           "dash": "dash"
          },
          "type": "line",
          "x0": 0,
          "x1": 1,
          "xref": "x domain",
          "y0": 30,
          "y1": 30,
          "yref": "y"
         }
        ],
        "template": {
         "data": {
          "bar": [
           {
            "error_x": {
             "color": "#2a3f5f"
            },
            "error_y": {
             "color": "#2a3f5f"
            },
            "marker": {
             "line": {
              "color": "#E5ECF6",
              "width": 0.5
             },
             "pattern": {
              "fillmode": "overlay",
              "size": 10,
              "solidity": 0.2
             }
            },
            "type": "bar"
           }
          ],
          "barpolar": [
           {
            "marker": {
             "line": {
              "color": "#E5ECF6",
              "width": 0.5
             },
             "pattern": {
              "fillmode": "overlay",
              "size": 10,
              "solidity": 0.2
             }
            },
            "type": "barpolar"
           }
          ],
          "carpet": [
           {
            "aaxis": {
             "endlinecolor": "#2a3f5f",
             "gridcolor": "white",
             "linecolor": "white",
             "minorgridcolor": "white",
             "startlinecolor": "#2a3f5f"
            },
            "baxis": {
             "endlinecolor": "#2a3f5f",
             "gridcolor": "white",
             "linecolor": "white",
             "minorgridcolor": "white",
             "startlinecolor": "#2a3f5f"
            },
            "type": "carpet"
           }
          ],
          "choropleth": [
           {
            "colorbar": {
             "outlinewidth": 0,
             "ticks": ""
            },
            "type": "choropleth"
           }
          ],
          "contour": [
           {
            "colorbar": {
             "outlinewidth": 0,
             "ticks": ""
            },
            "colorscale": [
             [
              0,
              "#0d0887"
             ],
             [
              0.1111111111111111,
              "#46039f"
             ],
             [
              0.2222222222222222,
              "#7201a8"
             ],
             [
              0.3333333333333333,
              "#9c179e"
             ],
             [
              0.4444444444444444,
              "#bd3786"
             ],
             [
              0.5555555555555556,
              "#d8576b"
             ],
             [
              0.6666666666666666,
              "#ed7953"
             ],
             [
              0.7777777777777778,
              "#fb9f3a"
             ],
             [
              0.8888888888888888,
              "#fdca26"
             ],
             [
              1,
              "#f0f921"
             ]
            ],
            "type": "contour"
           }
          ],
          "contourcarpet": [
           {
            "colorbar": {
             "outlinewidth": 0,
             "ticks": ""
            },
            "type": "contourcarpet"
           }
          ],
          "heatmap": [
           {
            "colorbar": {
             "outlinewidth": 0,
             "ticks": ""
            },
            "colorscale": [
             [
              0,
              "#0d0887"
             ],
             [
              0.1111111111111111,
              "#46039f"
             ],
             [
              0.2222222222222222,
              "#7201a8"
             ],
             [
              0.3333333333333333,
              "#9c179e"
             ],
             [
              0.4444444444444444,
              "#bd3786"
             ],
             [
              0.5555555555555556,
              "#d8576b"
             ],
             [
              0.6666666666666666,
              "#ed7953"
             ],
             [
              0.7777777777777778,
              "#fb9f3a"
             ],
             [
              0.8888888888888888,
              "#fdca26"
             ],
             [
              1,
              "#f0f921"
             ]
            ],
            "type": "heatmap"
           }
          ],
          "heatmapgl": [
           {
            "colorbar": {
             "outlinewidth": 0,
             "ticks": ""
            },
            "colorscale": [
             [
              0,
              "#0d0887"
             ],
             [
              0.1111111111111111,
              "#46039f"
             ],
             [
              0.2222222222222222,
              "#7201a8"
             ],
             [
              0.3333333333333333,
              "#9c179e"
             ],
             [
              0.4444444444444444,
              "#bd3786"
             ],
             [
              0.5555555555555556,
              "#d8576b"
             ],
             [
              0.6666666666666666,
              "#ed7953"
             ],
             [
              0.7777777777777778,
              "#fb9f3a"
             ],
             [
              0.8888888888888888,
              "#fdca26"
             ],
             [
              1,
              "#f0f921"
             ]
            ],
            "type": "heatmapgl"
           }
          ],
          "histogram": [
           {
            "marker": {
             "pattern": {
              "fillmode": "overlay",
              "size": 10,
              "solidity": 0.2
             }
            },
            "type": "histogram"
           }
          ],
          "histogram2d": [
           {
            "colorbar": {
             "outlinewidth": 0,
             "ticks": ""
            },
            "colorscale": [
             [
              0,
              "#0d0887"
             ],
             [
              0.1111111111111111,
              "#46039f"
             ],
             [
              0.2222222222222222,
              "#7201a8"
             ],
             [
              0.3333333333333333,
              "#9c179e"
             ],
             [
              0.4444444444444444,
              "#bd3786"
             ],
             [
              0.5555555555555556,
              "#d8576b"
             ],
             [
              0.6666666666666666,
              "#ed7953"
             ],
             [
              0.7777777777777778,
              "#fb9f3a"
             ],
             [
              0.8888888888888888,
              "#fdca26"
             ],
             [
              1,
              "#f0f921"
             ]
            ],
            "type": "histogram2d"
           }
          ],
          "histogram2dcontour": [
           {
            "colorbar": {
             "outlinewidth": 0,
             "ticks": ""
            },
            "colorscale": [
             [
              0,
              "#0d0887"
             ],
             [
              0.1111111111111111,
              "#46039f"
             ],
             [
              0.2222222222222222,
              "#7201a8"
             ],
             [
              0.3333333333333333,
              "#9c179e"
             ],
             [
              0.4444444444444444,
              "#bd3786"
             ],
             [
              0.5555555555555556,
              "#d8576b"
             ],
             [
              0.6666666666666666,
              "#ed7953"
             ],
             [
              0.7777777777777778,
              "#fb9f3a"
             ],
             [
              0.8888888888888888,
              "#fdca26"
             ],
             [
              1,
              "#f0f921"
             ]
            ],
            "type": "histogram2dcontour"
           }
          ],
          "mesh3d": [
           {
            "colorbar": {
             "outlinewidth": 0,
             "ticks": ""
            },
            "type": "mesh3d"
           }
          ],
          "parcoords": [
           {
            "line": {
             "colorbar": {
              "outlinewidth": 0,
              "ticks": ""
             }
            },
            "type": "parcoords"
           }
          ],
          "pie": [
           {
            "automargin": true,
            "type": "pie"
           }
          ],
          "scatter": [
           {
            "fillpattern": {
             "fillmode": "overlay",
             "size": 10,
             "solidity": 0.2
            },
            "type": "scatter"
           }
          ],
          "scatter3d": [
           {
            "line": {
             "colorbar": {
              "outlinewidth": 0,
              "ticks": ""
             }
            },
            "marker": {
             "colorbar": {
              "outlinewidth": 0,
              "ticks": ""
             }
            },
            "type": "scatter3d"
           }
          ],
          "scattercarpet": [
           {
            "marker": {
             "colorbar": {
              "outlinewidth": 0,
              "ticks": ""
             }
            },
            "type": "scattercarpet"
           }
          ],
          "scattergeo": [
           {
            "marker": {
             "colorbar": {
              "outlinewidth": 0,
              "ticks": ""
             }
            },
            "type": "scattergeo"
           }
          ],
          "scattergl": [
           {
            "marker": {
             "colorbar": {
              "outlinewidth": 0,
              "ticks": ""
             }
            },
            "type": "scattergl"
           }
          ],
          "scattermapbox": [
           {
            "marker": {
             "colorbar": {
              "outlinewidth": 0,
              "ticks": ""
             }
            },
            "type": "scattermapbox"
           }
          ],
          "scatterpolar": [
           {
            "marker": {
             "colorbar": {
              "outlinewidth": 0,
              "ticks": ""
             }
            },
            "type": "scatterpolar"
           }
          ],
          "scatterpolargl": [
           {
            "marker": {
             "colorbar": {
              "outlinewidth": 0,
              "ticks": ""
             }
            },
            "type": "scatterpolargl"
           }
          ],
          "scatterternary": [
           {
            "marker": {
             "colorbar": {
              "outlinewidth": 0,
              "ticks": ""
             }
            },
            "type": "scatterternary"
           }
          ],
          "surface": [
           {
            "colorbar": {
             "outlinewidth": 0,
             "ticks": ""
            },
            "colorscale": [
             [
              0,
              "#0d0887"
             ],
             [
              0.1111111111111111,
              "#46039f"
             ],
             [
              0.2222222222222222,
              "#7201a8"
             ],
             [
              0.3333333333333333,
              "#9c179e"
             ],
             [
              0.4444444444444444,
              "#bd3786"
             ],
             [
              0.5555555555555556,
              "#d8576b"
             ],
             [
              0.6666666666666666,
              "#ed7953"
             ],
             [
              0.7777777777777778,
              "#fb9f3a"
             ],
             [
              0.8888888888888888,
              "#fdca26"
             ],
             [
              1,
              "#f0f921"
             ]
            ],
            "type": "surface"
           }
          ],
          "table": [
           {
            "cells": {
             "fill": {
              "color": "#EBF0F8"
             },
             "line": {
              "color": "white"
             }
            },
            "header": {
             "fill": {
              "color": "#C8D4E3"
             },
             "line": {
              "color": "white"
             }
            },
            "type": "table"
           }
          ]
         },
         "layout": {
          "annotationdefaults": {
           "arrowcolor": "#2a3f5f",
           "arrowhead": 0,
           "arrowwidth": 1
          },
          "autotypenumbers": "strict",
          "coloraxis": {
           "colorbar": {
            "outlinewidth": 0,
            "ticks": ""
           }
          },
          "colorscale": {
           "diverging": [
            [
             0,
             "#8e0152"
            ],
            [
             0.1,
             "#c51b7d"
            ],
            [
             0.2,
             "#de77ae"
            ],
            [
             0.3,
             "#f1b6da"
            ],
            [
             0.4,
             "#fde0ef"
            ],
            [
             0.5,
             "#f7f7f7"
            ],
            [
             0.6,
             "#e6f5d0"
            ],
            [
             0.7,
             "#b8e186"
            ],
            [
             0.8,
             "#7fbc41"
            ],
            [
             0.9,
             "#4d9221"
            ],
            [
             1,
             "#276419"
            ]
           ],
           "sequential": [
            [
             0,
             "#0d0887"
            ],
            [
             0.1111111111111111,
             "#46039f"
            ],
            [
             0.2222222222222222,
             "#7201a8"
            ],
            [
             0.3333333333333333,
             "#9c179e"
            ],
            [
             0.4444444444444444,
             "#bd3786"
            ],
            [
             0.5555555555555556,
             "#d8576b"
            ],
            [
             0.6666666666666666,
             "#ed7953"
            ],
            [
             0.7777777777777778,
             "#fb9f3a"
            ],
            [
             0.8888888888888888,
             "#fdca26"
            ],
            [
             1,
             "#f0f921"
            ]
           ],
           "sequentialminus": [
            [
             0,
             "#0d0887"
            ],
            [
             0.1111111111111111,
             "#46039f"
            ],
            [
             0.2222222222222222,
             "#7201a8"
            ],
            [
             0.3333333333333333,
             "#9c179e"
            ],
            [
             0.4444444444444444,
             "#bd3786"
            ],
            [
             0.5555555555555556,
             "#d8576b"
            ],
            [
             0.6666666666666666,
             "#ed7953"
            ],
            [
             0.7777777777777778,
             "#fb9f3a"
            ],
            [
             0.8888888888888888,
             "#fdca26"
            ],
            [
             1,
             "#f0f921"
            ]
           ]
          },
          "colorway": [
           "#636efa",
           "#EF553B",
           "#00cc96",
           "#ab63fa",
           "#FFA15A",
           "#19d3f3",
           "#FF6692",
           "#B6E880",
           "#FF97FF",
           "#FECB52"
          ],
          "font": {
           "color": "#2a3f5f"
          },
          "geo": {
           "bgcolor": "white",
           "lakecolor": "white",
           "landcolor": "#E5ECF6",
           "showlakes": true,
           "showland": true,
           "subunitcolor": "white"
          },
          "hoverlabel": {
           "align": "left"
          },
          "hovermode": "closest",
          "mapbox": {
           "style": "light"
          },
          "paper_bgcolor": "white",
          "plot_bgcolor": "#E5ECF6",
          "polar": {
           "angularaxis": {
            "gridcolor": "white",
            "linecolor": "white",
            "ticks": ""
           },
           "bgcolor": "#E5ECF6",
           "radialaxis": {
            "gridcolor": "white",
            "linecolor": "white",
            "ticks": ""
           }
          },
          "scene": {
           "xaxis": {
            "backgroundcolor": "#E5ECF6",
            "gridcolor": "white",
            "gridwidth": 2,
            "linecolor": "white",
            "showbackground": true,
            "ticks": "",
            "zerolinecolor": "white"
           },
           "yaxis": {
            "backgroundcolor": "#E5ECF6",
            "gridcolor": "white",
            "gridwidth": 2,
            "linecolor": "white",
            "showbackground": true,
            "ticks": "",
            "zerolinecolor": "white"
           },
           "zaxis": {
            "backgroundcolor": "#E5ECF6",
            "gridcolor": "white",
            "gridwidth": 2,
            "linecolor": "white",
            "showbackground": true,
            "ticks": "",
            "zerolinecolor": "white"
           }
          },
          "shapedefaults": {
           "line": {
            "color": "#2a3f5f"
           }
          },
          "ternary": {
           "aaxis": {
            "gridcolor": "white",
            "linecolor": "white",
            "ticks": ""
           },
           "baxis": {
            "gridcolor": "white",
            "linecolor": "white",
            "ticks": ""
           },
           "bgcolor": "#E5ECF6",
           "caxis": {
            "gridcolor": "white",
            "linecolor": "white",
            "ticks": ""
           }
          },
          "title": {
           "x": 0.05
          },
          "xaxis": {
           "automargin": true,
           "gridcolor": "white",
           "linecolor": "white",
           "ticks": "",
           "title": {
            "standoff": 15
           },
           "zerolinecolor": "white",
           "zerolinewidth": 2
          },
          "yaxis": {
           "automargin": true,
           "gridcolor": "white",
           "linecolor": "white",
           "ticks": "",
           "title": {
            "standoff": 15
           },
           "zerolinecolor": "white",
           "zerolinewidth": 2
          }
         }
        },
        "title": {
         "text": "Close Price and RSI Chart"
        },
        "xaxis": {
         "domain": [
          0.1,
          0.9
         ]
        },
        "yaxis": {
         "title": {
          "text": "Close Price"
         }
        },
        "yaxis2": {
         "overlaying": "y",
         "range": [
          0,
          100
         ],
         "side": "right",
         "title": {
          "text": "RSI"
         }
        }
       }
      },
      "text/html": [
       "<div>                            <div id=\"f75526a7-814d-4024-8fa8-193917276a16\" class=\"plotly-graph-div\" style=\"height:525px; width:100%;\"></div>            <script type=\"text/javascript\">                require([\"plotly\"], function(Plotly) {                    window.PLOTLYENV=window.PLOTLYENV || {};                                    if (document.getElementById(\"f75526a7-814d-4024-8fa8-193917276a16\")) {                    Plotly.newPlot(                        \"f75526a7-814d-4024-8fa8-193917276a16\",                        [{\"mode\":\"lines\",\"name\":\"Close Price\",\"x\":[\"2023-01-02T00:59:59.999000\",\"2023-01-03T00:59:59.999000\",\"2023-01-04T00:59:59.999000\",\"2023-01-05T00:59:59.999000\",\"2023-01-06T00:59:59.999000\",\"2023-01-07T00:59:59.999000\",\"2023-01-08T00:59:59.999000\",\"2023-01-09T00:59:59.999000\",\"2023-01-10T00:59:59.999000\",\"2023-01-11T00:59:59.999000\",\"2023-01-12T00:59:59.999000\",\"2023-01-13T00:59:59.999000\",\"2023-01-14T00:59:59.999000\",\"2023-01-15T00:59:59.999000\",\"2023-01-16T00:59:59.999000\",\"2023-01-17T00:59:59.999000\",\"2023-01-18T00:59:59.999000\",\"2023-01-19T00:59:59.999000\",\"2023-01-20T00:59:59.999000\",\"2023-01-21T00:59:59.999000\",\"2023-01-22T00:59:59.999000\",\"2023-01-23T00:59:59.999000\",\"2023-01-24T00:59:59.999000\",\"2023-01-25T00:59:59.999000\",\"2023-01-26T00:59:59.999000\",\"2023-01-27T00:59:59.999000\",\"2023-01-28T00:59:59.999000\",\"2023-01-29T00:59:59.999000\",\"2023-01-30T00:59:59.999000\",\"2023-01-31T00:59:59.999000\",\"2023-02-01T00:59:59.999000\",\"2023-02-02T00:59:59.999000\",\"2023-02-03T00:59:59.999000\",\"2023-02-04T00:59:59.999000\",\"2023-02-05T00:59:59.999000\",\"2023-02-06T00:59:59.999000\",\"2023-02-07T00:59:59.999000\",\"2023-02-08T00:59:59.999000\",\"2023-02-09T00:59:59.999000\",\"2023-02-10T00:59:59.999000\",\"2023-02-11T00:59:59.999000\",\"2023-02-12T00:59:59.999000\",\"2023-02-13T00:59:59.999000\",\"2023-02-14T00:59:59.999000\",\"2023-02-15T00:59:59.999000\",\"2023-02-16T00:59:59.999000\",\"2023-02-17T00:59:59.999000\",\"2023-02-18T00:59:59.999000\",\"2023-02-19T00:59:59.999000\",\"2023-02-20T00:59:59.999000\",\"2023-02-21T00:59:59.999000\",\"2023-02-22T00:59:59.999000\",\"2023-02-23T00:59:59.999000\",\"2023-02-24T00:59:59.999000\",\"2023-02-25T00:59:59.999000\",\"2023-02-26T00:59:59.999000\",\"2023-02-27T00:59:59.999000\",\"2023-02-28T00:59:59.999000\",\"2023-03-01T00:59:59.999000\",\"2023-03-02T00:59:59.999000\",\"2023-03-03T00:59:59.999000\",\"2023-03-04T00:59:59.999000\",\"2023-03-05T00:59:59.999000\",\"2023-03-06T00:59:59.999000\",\"2023-03-07T00:59:59.999000\",\"2023-03-08T00:59:59.999000\",\"2023-03-09T00:59:59.999000\",\"2023-03-10T00:59:59.999000\",\"2023-03-11T00:59:59.999000\",\"2023-03-12T00:59:59.999000\",\"2023-03-13T00:59:59.999000\",\"2023-03-14T00:59:59.999000\",\"2023-03-15T00:59:59.999000\",\"2023-03-16T00:59:59.999000\",\"2023-03-17T00:59:59.999000\",\"2023-03-18T00:59:59.999000\",\"2023-03-19T00:59:59.999000\",\"2023-03-20T00:59:59.999000\",\"2023-03-21T00:59:59.999000\",\"2023-03-22T00:59:59.999000\",\"2023-03-23T00:59:59.999000\",\"2023-03-24T00:59:59.999000\",\"2023-03-25T00:59:59.999000\",\"2023-03-26T00:59:59.999000\",\"2023-03-27T01:59:59.999000\",\"2023-03-28T01:59:59.999000\",\"2023-03-29T01:59:59.999000\",\"2023-03-30T01:59:59.999000\",\"2023-03-31T01:59:59.999000\",\"2023-04-01T01:59:59.999000\",\"2023-04-02T01:59:59.999000\",\"2023-04-03T01:59:59.999000\",\"2023-04-04T01:59:59.999000\",\"2023-04-05T01:59:59.999000\",\"2023-04-06T01:59:59.999000\",\"2023-04-07T01:59:59.999000\",\"2023-04-08T01:59:59.999000\",\"2023-04-09T01:59:59.999000\",\"2023-04-10T01:59:59.999000\",\"2023-04-11T01:59:59.999000\",\"2023-04-12T01:59:59.999000\",\"2023-04-13T01:59:59.999000\",\"2023-04-14T01:59:59.999000\",\"2023-04-15T01:59:59.999000\",\"2023-04-16T01:59:59.999000\",\"2023-04-17T01:59:59.999000\",\"2023-04-18T01:59:59.999000\",\"2023-04-19T01:59:59.999000\",\"2023-04-20T01:59:59.999000\",\"2023-04-21T01:59:59.999000\",\"2023-04-22T01:59:59.999000\",\"2023-04-23T01:59:59.999000\",\"2023-04-24T01:59:59.999000\",\"2023-04-25T01:59:59.999000\",\"2023-04-26T01:59:59.999000\",\"2023-04-27T01:59:59.999000\",\"2023-04-28T01:59:59.999000\",\"2023-04-29T01:59:59.999000\",\"2023-04-30T01:59:59.999000\",\"2023-05-01T01:59:59.999000\",\"2023-05-02T01:59:59.999000\",\"2023-05-03T01:59:59.999000\",\"2023-05-04T01:59:59.999000\",\"2023-05-05T01:59:59.999000\",\"2023-05-06T01:59:59.999000\",\"2023-05-07T01:59:59.999000\",\"2023-05-08T01:59:59.999000\",\"2023-05-09T01:59:59.999000\",\"2023-05-10T01:59:59.999000\",\"2023-05-11T01:59:59.999000\",\"2023-05-12T01:59:59.999000\",\"2023-05-13T01:59:59.999000\",\"2023-05-14T01:59:59.999000\",\"2023-05-15T01:59:59.999000\",\"2023-05-16T01:59:59.999000\",\"2023-05-17T01:59:59.999000\",\"2023-05-18T01:59:59.999000\",\"2023-05-19T01:59:59.999000\",\"2023-05-20T01:59:59.999000\",\"2023-05-21T01:59:59.999000\",\"2023-05-22T01:59:59.999000\",\"2023-05-23T01:59:59.999000\",\"2023-05-24T01:59:59.999000\",\"2023-05-25T01:59:59.999000\",\"2023-05-26T01:59:59.999000\",\"2023-05-27T01:59:59.999000\",\"2023-05-28T01:59:59.999000\",\"2023-05-29T01:59:59.999000\",\"2023-05-30T01:59:59.999000\",\"2023-05-31T01:59:59.999000\",\"2023-06-01T01:59:59.999000\",\"2023-06-02T01:59:59.999000\",\"2023-06-03T01:59:59.999000\",\"2023-06-04T01:59:59.999000\",\"2023-06-05T01:59:59.999000\",\"2023-06-06T01:59:59.999000\",\"2023-06-07T01:59:59.999000\",\"2023-06-08T01:59:59.999000\",\"2023-06-09T01:59:59.999000\",\"2023-06-10T01:59:59.999000\",\"2023-06-11T01:59:59.999000\",\"2023-06-12T01:59:59.999000\",\"2023-06-13T01:59:59.999000\",\"2023-06-14T01:59:59.999000\",\"2023-06-15T01:59:59.999000\",\"2023-06-16T01:59:59.999000\",\"2023-06-17T01:59:59.999000\",\"2023-06-18T01:59:59.999000\",\"2023-06-19T01:59:59.999000\",\"2023-06-20T01:59:59.999000\",\"2023-06-21T01:59:59.999000\",\"2023-06-22T01:59:59.999000\",\"2023-06-23T01:59:59.999000\",\"2023-06-24T01:59:59.999000\",\"2023-06-25T01:59:59.999000\",\"2023-06-26T01:59:59.999000\",\"2023-06-27T01:59:59.999000\",\"2023-06-28T01:59:59.999000\",\"2023-06-29T01:59:59.999000\",\"2023-06-30T01:59:59.999000\",\"2023-07-01T01:59:59.999000\",\"2023-07-02T01:59:59.999000\",\"2023-07-03T01:59:59.999000\",\"2023-07-04T01:59:59.999000\",\"2023-07-05T01:59:59.999000\",\"2023-07-06T01:59:59.999000\",\"2023-07-07T01:59:59.999000\",\"2023-07-08T01:59:59.999000\",\"2023-07-09T01:59:59.999000\",\"2023-07-10T01:59:59.999000\",\"2023-07-11T01:59:59.999000\",\"2023-07-12T01:59:59.999000\",\"2023-07-13T01:59:59.999000\",\"2023-07-14T01:59:59.999000\",\"2023-07-15T01:59:59.999000\",\"2023-07-16T01:59:59.999000\",\"2023-07-17T01:59:59.999000\",\"2023-07-18T01:59:59.999000\",\"2023-07-19T01:59:59.999000\",\"2023-07-20T01:59:59.999000\",\"2023-07-21T01:59:59.999000\",\"2023-07-22T01:59:59.999000\",\"2023-07-23T01:59:59.999000\",\"2023-07-24T01:59:59.999000\",\"2023-07-25T01:59:59.999000\",\"2023-07-26T01:59:59.999000\",\"2023-07-27T01:59:59.999000\",\"2023-07-28T01:59:59.999000\",\"2023-07-29T01:59:59.999000\",\"2023-07-30T01:59:59.999000\",\"2023-07-31T01:59:59.999000\",\"2023-08-01T01:59:59.999000\",\"2023-08-02T01:59:59.999000\",\"2023-08-03T01:59:59.999000\",\"2023-08-04T01:59:59.999000\",\"2023-08-05T01:59:59.999000\",\"2023-08-06T01:59:59.999000\",\"2023-08-07T01:59:59.999000\",\"2023-08-08T01:59:59.999000\",\"2023-08-09T01:59:59.999000\",\"2023-08-10T01:59:59.999000\",\"2023-08-11T01:59:59.999000\",\"2023-08-12T01:59:59.999000\",\"2023-08-13T01:59:59.999000\",\"2023-08-14T01:59:59.999000\",\"2023-08-15T01:59:59.999000\",\"2023-08-16T01:59:59.999000\",\"2023-08-17T01:59:59.999000\",\"2023-08-18T01:59:59.999000\",\"2023-08-19T01:59:59.999000\",\"2023-08-20T01:59:59.999000\",\"2023-08-21T01:59:59.999000\",\"2023-08-22T01:59:59.999000\",\"2023-08-23T01:59:59.999000\",\"2023-08-24T01:59:59.999000\",\"2023-08-25T01:59:59.999000\",\"2023-08-26T01:59:59.999000\",\"2023-08-27T01:59:59.999000\",\"2023-08-28T01:59:59.999000\",\"2023-08-29T01:59:59.999000\",\"2023-08-30T01:59:59.999000\",\"2023-08-31T01:59:59.999000\",\"2023-09-01T01:59:59.999000\",\"2023-09-02T01:59:59.999000\",\"2023-09-03T01:59:59.999000\",\"2023-09-04T01:59:59.999000\",\"2023-09-05T01:59:59.999000\",\"2023-09-06T01:59:59.999000\",\"2023-09-07T01:59:59.999000\",\"2023-09-08T01:59:59.999000\",\"2023-09-09T01:59:59.999000\",\"2023-09-10T01:59:59.999000\",\"2023-09-11T01:59:59.999000\",\"2023-09-12T01:59:59.999000\",\"2023-09-13T01:59:59.999000\",\"2023-09-14T01:59:59.999000\",\"2023-09-15T01:59:59.999000\",\"2023-09-16T01:59:59.999000\",\"2023-09-17T01:59:59.999000\",\"2023-09-18T01:59:59.999000\",\"2023-09-19T01:59:59.999000\",\"2023-09-20T01:59:59.999000\",\"2023-09-21T01:59:59.999000\",\"2023-09-22T01:59:59.999000\",\"2023-09-23T01:59:59.999000\",\"2023-09-24T01:59:59.999000\",\"2023-09-25T01:59:59.999000\",\"2023-09-26T01:59:59.999000\",\"2023-09-27T01:59:59.999000\",\"2023-09-28T01:59:59.999000\",\"2023-09-29T01:59:59.999000\",\"2023-09-30T01:59:59.999000\",\"2023-10-01T01:59:59.999000\",\"2023-10-02T01:59:59.999000\",\"2023-10-03T01:59:59.999000\",\"2023-10-04T01:59:59.999000\",\"2023-10-05T01:59:59.999000\",\"2023-10-06T01:59:59.999000\",\"2023-10-07T01:59:59.999000\",\"2023-10-08T01:59:59.999000\",\"2023-10-09T01:59:59.999000\",\"2023-10-10T01:59:59.999000\",\"2023-10-11T01:59:59.999000\",\"2023-10-12T01:59:59.999000\",\"2023-10-13T01:59:59.999000\",\"2023-10-14T01:59:59.999000\",\"2023-10-15T01:59:59.999000\",\"2023-10-16T01:59:59.999000\",\"2023-10-17T01:59:59.999000\",\"2023-10-18T01:59:59.999000\",\"2023-10-19T01:59:59.999000\",\"2023-10-20T01:59:59.999000\",\"2023-10-21T01:59:59.999000\",\"2023-10-22T01:59:59.999000\",\"2023-10-23T01:59:59.999000\",\"2023-10-24T01:59:59.999000\",\"2023-10-25T01:59:59.999000\",\"2023-10-26T01:59:59.999000\",\"2023-10-27T01:59:59.999000\",\"2023-10-28T01:59:59.999000\",\"2023-10-29T01:59:59.999000\",\"2023-10-30T00:59:59.999000\",\"2023-10-31T00:59:59.999000\",\"2023-11-01T00:59:59.999000\",\"2023-11-02T00:59:59.999000\",\"2023-11-03T00:59:59.999000\",\"2023-11-04T00:59:59.999000\",\"2023-11-05T00:59:59.999000\",\"2023-11-06T00:59:59.999000\",\"2023-11-07T00:59:59.999000\",\"2023-11-08T00:59:59.999000\",\"2023-11-09T00:59:59.999000\",\"2023-11-10T00:59:59.999000\",\"2023-11-11T00:59:59.999000\",\"2023-11-12T00:59:59.999000\",\"2023-11-13T00:59:59.999000\",\"2023-11-14T00:59:59.999000\",\"2023-11-15T00:59:59.999000\",\"2023-11-16T00:59:59.999000\",\"2023-11-17T00:59:59.999000\",\"2023-11-18T00:59:59.999000\",\"2023-11-19T00:59:59.999000\",\"2023-11-20T00:59:59.999000\",\"2023-11-21T00:59:59.999000\",\"2023-11-22T00:59:59.999000\",\"2023-11-23T00:59:59.999000\",\"2023-11-24T00:59:59.999000\",\"2023-11-25T00:59:59.999000\",\"2023-11-26T00:59:59.999000\",\"2023-11-27T00:59:59.999000\",\"2023-11-28T00:59:59.999000\",\"2023-11-29T00:59:59.999000\",\"2023-11-30T00:59:59.999000\",\"2023-12-01T00:59:59.999000\"],\"y\":[0.3387,0.3482,0.3436,0.3472,0.338,0.3443,0.3442,0.3452,0.349,0.3507,0.3728,0.3748,0.3858,0.3953,0.3845,0.3855,0.3868,0.3782,0.3928,0.4129,0.4034,0.4004,0.4234,0.4078,0.417,0.4092,0.4128,0.4078,0.4134,0.3934,0.4057,0.4131,0.4098,0.4117,0.4106,0.3984,0.392,0.4036,0.3975,0.3819,0.3817,0.3833,0.3747,0.3703,0.3819,0.4011,0.3841,0.395,0.3943,0.3863,0.3984,0.3919,0.3953,0.3882,0.3783,0.3778,0.3779,0.3785,0.3762,0.3835,0.3772,0.3774,0.3735,0.3668,0.3695,0.3801,0.3889,0.3706,0.37,0.3638,0.3714,0.3724,0.3724,0.3589,0.3647,0.3798,0.3739,0.3857,0.3734,0.4696,0.4213,0.4438,0.4259,0.4429,0.4479,0.479,0.5144,0.5425,0.5319,0.5374,0.5095,0.518,0.4959,0.5026,0.5055,0.5028,0.5126,0.5048,0.5054,0.5176,0.5167,0.5049,0.5125,0.5227,0.5192,0.5209,0.5109,0.5324,0.4911,0.4752,0.4491,0.4719,0.4647,0.4611,0.4695,0.4618,0.4667,0.4796,0.478,0.4705,0.4649,0.4645,0.4632,0.4608,0.4671,0.4582,0.449,0.4283,0.4289,0.4303,0.4207,0.4305,0.424,0.4253,0.4273,0.4425,0.4484,0.4596,0.4675,0.4685,0.4575,0.4618,0.4651,0.453,0.4538,0.4684,0.4714,0.482,0.4946,0.5205,0.5166,0.5065,0.5244,0.5188,0.5359,0.509,0.53,0.5183,0.5236,0.538,0.5067,0.5208,0.5251,0.5192,0.4801,0.4801,0.4759,0.4794,0.4868,0.4936,0.4929,0.4999,0.4938,0.4961,0.4865,0.4903,0.479,0.4838,0.4647,0.4747,0.4729,0.4732,0.4845,0.489,0.4872,0.4777,0.4622,0.4687,0.4704,0.468,0.478,0.4753,0.471,0.8153,0.7179,0.7145,0.7468,0.7374,0.7779,0.8199,0.7942,0.7713,0.7331,0.7384,0.7021,0.7089,0.7161,0.7139,0.712,0.7121,0.7046,0.6976,0.7069,0.685,0.663,0.6356,0.6288,0.624,0.6236,0.6418,0.6433,0.6331,0.6318,0.6276,0.6256,0.6343,0.6104,0.5889,0.5064,0.5062,0.5199,0.5384,0.5245,0.521,0.5301,0.5187,0.5258,0.5231,0.5236,0.5232,0.5398,0.5284,0.511,0.498,0.4988,0.5047,0.5087,0.5056,0.5033,0.505,0.505,0.5038,0.4969,0.4744,0.4804,0.4832,0.4892,0.5005,0.4998,0.4925,0.503,0.514,0.5212,0.5071,0.5122,0.5076,0.5021,0.5056,0.5019,0.4993,0.5098,0.5215,0.5149,0.5241,0.5123,0.539,0.5326,0.5227,0.5255,0.5216,0.5174,0.5027,0.4965,0.4888,0.483,0.4851,0.4865,0.4874,0.4978,0.4912,0.4878,0.5197,0.5149,0.5208,0.5226,0.5475,0.5588,0.5552,0.5533,0.543,0.5446,0.5561,0.578,0.5996,0.6085,0.6054,0.6121,0.6149,0.6607,0.7148,0.685,0.6869,0.6665,0.6595,0.6626,0.6613,0.6702,0.6296,0.6481,0.6119,0.6133,0.6106,0.6258,0.6122,0.5788,0.6109,0.6209,0.6212,0.6228,0.6157,0.6039,0.6107,0.6091,0.6063],\"type\":\"scatter\",\"hoverinfo\":\"all\",\"hovertemplate\":\"Date: %{x}<br>Value: %{y}\"},{\"mode\":\"lines\",\"name\":\"RSI\",\"x\":[\"2023-01-02T00:59:59.999000\",\"2023-01-03T00:59:59.999000\",\"2023-01-04T00:59:59.999000\",\"2023-01-05T00:59:59.999000\",\"2023-01-06T00:59:59.999000\",\"2023-01-07T00:59:59.999000\",\"2023-01-08T00:59:59.999000\",\"2023-01-09T00:59:59.999000\",\"2023-01-10T00:59:59.999000\",\"2023-01-11T00:59:59.999000\",\"2023-01-12T00:59:59.999000\",\"2023-01-13T00:59:59.999000\",\"2023-01-14T00:59:59.999000\",\"2023-01-15T00:59:59.999000\",\"2023-01-16T00:59:59.999000\",\"2023-01-17T00:59:59.999000\",\"2023-01-18T00:59:59.999000\",\"2023-01-19T00:59:59.999000\",\"2023-01-20T00:59:59.999000\",\"2023-01-21T00:59:59.999000\",\"2023-01-22T00:59:59.999000\",\"2023-01-23T00:59:59.999000\",\"2023-01-24T00:59:59.999000\",\"2023-01-25T00:59:59.999000\",\"2023-01-26T00:59:59.999000\",\"2023-01-27T00:59:59.999000\",\"2023-01-28T00:59:59.999000\",\"2023-01-29T00:59:59.999000\",\"2023-01-30T00:59:59.999000\",\"2023-01-31T00:59:59.999000\",\"2023-02-01T00:59:59.999000\",\"2023-02-02T00:59:59.999000\",\"2023-02-03T00:59:59.999000\",\"2023-02-04T00:59:59.999000\",\"2023-02-05T00:59:59.999000\",\"2023-02-06T00:59:59.999000\",\"2023-02-07T00:59:59.999000\",\"2023-02-08T00:59:59.999000\",\"2023-02-09T00:59:59.999000\",\"2023-02-10T00:59:59.999000\",\"2023-02-11T00:59:59.999000\",\"2023-02-12T00:59:59.999000\",\"2023-02-13T00:59:59.999000\",\"2023-02-14T00:59:59.999000\",\"2023-02-15T00:59:59.999000\",\"2023-02-16T00:59:59.999000\",\"2023-02-17T00:59:59.999000\",\"2023-02-18T00:59:59.999000\",\"2023-02-19T00:59:59.999000\",\"2023-02-20T00:59:59.999000\",\"2023-02-21T00:59:59.999000\",\"2023-02-22T00:59:59.999000\",\"2023-02-23T00:59:59.999000\",\"2023-02-24T00:59:59.999000\",\"2023-02-25T00:59:59.999000\",\"2023-02-26T00:59:59.999000\",\"2023-02-27T00:59:59.999000\",\"2023-02-28T00:59:59.999000\",\"2023-03-01T00:59:59.999000\",\"2023-03-02T00:59:59.999000\",\"2023-03-03T00:59:59.999000\",\"2023-03-04T00:59:59.999000\",\"2023-03-05T00:59:59.999000\",\"2023-03-06T00:59:59.999000\",\"2023-03-07T00:59:59.999000\",\"2023-03-08T00:59:59.999000\",\"2023-03-09T00:59:59.999000\",\"2023-03-10T00:59:59.999000\",\"2023-03-11T00:59:59.999000\",\"2023-03-12T00:59:59.999000\",\"2023-03-13T00:59:59.999000\",\"2023-03-14T00:59:59.999000\",\"2023-03-15T00:59:59.999000\",\"2023-03-16T00:59:59.999000\",\"2023-03-17T00:59:59.999000\",\"2023-03-18T00:59:59.999000\",\"2023-03-19T00:59:59.999000\",\"2023-03-20T00:59:59.999000\",\"2023-03-21T00:59:59.999000\",\"2023-03-22T00:59:59.999000\",\"2023-03-23T00:59:59.999000\",\"2023-03-24T00:59:59.999000\",\"2023-03-25T00:59:59.999000\",\"2023-03-26T00:59:59.999000\",\"2023-03-27T01:59:59.999000\",\"2023-03-28T01:59:59.999000\",\"2023-03-29T01:59:59.999000\",\"2023-03-30T01:59:59.999000\",\"2023-03-31T01:59:59.999000\",\"2023-04-01T01:59:59.999000\",\"2023-04-02T01:59:59.999000\",\"2023-04-03T01:59:59.999000\",\"2023-04-04T01:59:59.999000\",\"2023-04-05T01:59:59.999000\",\"2023-04-06T01:59:59.999000\",\"2023-04-07T01:59:59.999000\",\"2023-04-08T01:59:59.999000\",\"2023-04-09T01:59:59.999000\",\"2023-04-10T01:59:59.999000\",\"2023-04-11T01:59:59.999000\",\"2023-04-12T01:59:59.999000\",\"2023-04-13T01:59:59.999000\",\"2023-04-14T01:59:59.999000\",\"2023-04-15T01:59:59.999000\",\"2023-04-16T01:59:59.999000\",\"2023-04-17T01:59:59.999000\",\"2023-04-18T01:59:59.999000\",\"2023-04-19T01:59:59.999000\",\"2023-04-20T01:59:59.999000\",\"2023-04-21T01:59:59.999000\",\"2023-04-22T01:59:59.999000\",\"2023-04-23T01:59:59.999000\",\"2023-04-24T01:59:59.999000\",\"2023-04-25T01:59:59.999000\",\"2023-04-26T01:59:59.999000\",\"2023-04-27T01:59:59.999000\",\"2023-04-28T01:59:59.999000\",\"2023-04-29T01:59:59.999000\",\"2023-04-30T01:59:59.999000\",\"2023-05-01T01:59:59.999000\",\"2023-05-02T01:59:59.999000\",\"2023-05-03T01:59:59.999000\",\"2023-05-04T01:59:59.999000\",\"2023-05-05T01:59:59.999000\",\"2023-05-06T01:59:59.999000\",\"2023-05-07T01:59:59.999000\",\"2023-05-08T01:59:59.999000\",\"2023-05-09T01:59:59.999000\",\"2023-05-10T01:59:59.999000\",\"2023-05-11T01:59:59.999000\",\"2023-05-12T01:59:59.999000\",\"2023-05-13T01:59:59.999000\",\"2023-05-14T01:59:59.999000\",\"2023-05-15T01:59:59.999000\",\"2023-05-16T01:59:59.999000\",\"2023-05-17T01:59:59.999000\",\"2023-05-18T01:59:59.999000\",\"2023-05-19T01:59:59.999000\",\"2023-05-20T01:59:59.999000\",\"2023-05-21T01:59:59.999000\",\"2023-05-22T01:59:59.999000\",\"2023-05-23T01:59:59.999000\",\"2023-05-24T01:59:59.999000\",\"2023-05-25T01:59:59.999000\",\"2023-05-26T01:59:59.999000\",\"2023-05-27T01:59:59.999000\",\"2023-05-28T01:59:59.999000\",\"2023-05-29T01:59:59.999000\",\"2023-05-30T01:59:59.999000\",\"2023-05-31T01:59:59.999000\",\"2023-06-01T01:59:59.999000\",\"2023-06-02T01:59:59.999000\",\"2023-06-03T01:59:59.999000\",\"2023-06-04T01:59:59.999000\",\"2023-06-05T01:59:59.999000\",\"2023-06-06T01:59:59.999000\",\"2023-06-07T01:59:59.999000\",\"2023-06-08T01:59:59.999000\",\"2023-06-09T01:59:59.999000\",\"2023-06-10T01:59:59.999000\",\"2023-06-11T01:59:59.999000\",\"2023-06-12T01:59:59.999000\",\"2023-06-13T01:59:59.999000\",\"2023-06-14T01:59:59.999000\",\"2023-06-15T01:59:59.999000\",\"2023-06-16T01:59:59.999000\",\"2023-06-17T01:59:59.999000\",\"2023-06-18T01:59:59.999000\",\"2023-06-19T01:59:59.999000\",\"2023-06-20T01:59:59.999000\",\"2023-06-21T01:59:59.999000\",\"2023-06-22T01:59:59.999000\",\"2023-06-23T01:59:59.999000\",\"2023-06-24T01:59:59.999000\",\"2023-06-25T01:59:59.999000\",\"2023-06-26T01:59:59.999000\",\"2023-06-27T01:59:59.999000\",\"2023-06-28T01:59:59.999000\",\"2023-06-29T01:59:59.999000\",\"2023-06-30T01:59:59.999000\",\"2023-07-01T01:59:59.999000\",\"2023-07-02T01:59:59.999000\",\"2023-07-03T01:59:59.999000\",\"2023-07-04T01:59:59.999000\",\"2023-07-05T01:59:59.999000\",\"2023-07-06T01:59:59.999000\",\"2023-07-07T01:59:59.999000\",\"2023-07-08T01:59:59.999000\",\"2023-07-09T01:59:59.999000\",\"2023-07-10T01:59:59.999000\",\"2023-07-11T01:59:59.999000\",\"2023-07-12T01:59:59.999000\",\"2023-07-13T01:59:59.999000\",\"2023-07-14T01:59:59.999000\",\"2023-07-15T01:59:59.999000\",\"2023-07-16T01:59:59.999000\",\"2023-07-17T01:59:59.999000\",\"2023-07-18T01:59:59.999000\",\"2023-07-19T01:59:59.999000\",\"2023-07-20T01:59:59.999000\",\"2023-07-21T01:59:59.999000\",\"2023-07-22T01:59:59.999000\",\"2023-07-23T01:59:59.999000\",\"2023-07-24T01:59:59.999000\",\"2023-07-25T01:59:59.999000\",\"2023-07-26T01:59:59.999000\",\"2023-07-27T01:59:59.999000\",\"2023-07-28T01:59:59.999000\",\"2023-07-29T01:59:59.999000\",\"2023-07-30T01:59:59.999000\",\"2023-07-31T01:59:59.999000\",\"2023-08-01T01:59:59.999000\",\"2023-08-02T01:59:59.999000\",\"2023-08-03T01:59:59.999000\",\"2023-08-04T01:59:59.999000\",\"2023-08-05T01:59:59.999000\",\"2023-08-06T01:59:59.999000\",\"2023-08-07T01:59:59.999000\",\"2023-08-08T01:59:59.999000\",\"2023-08-09T01:59:59.999000\",\"2023-08-10T01:59:59.999000\",\"2023-08-11T01:59:59.999000\",\"2023-08-12T01:59:59.999000\",\"2023-08-13T01:59:59.999000\",\"2023-08-14T01:59:59.999000\",\"2023-08-15T01:59:59.999000\",\"2023-08-16T01:59:59.999000\",\"2023-08-17T01:59:59.999000\",\"2023-08-18T01:59:59.999000\",\"2023-08-19T01:59:59.999000\",\"2023-08-20T01:59:59.999000\",\"2023-08-21T01:59:59.999000\",\"2023-08-22T01:59:59.999000\",\"2023-08-23T01:59:59.999000\",\"2023-08-24T01:59:59.999000\",\"2023-08-25T01:59:59.999000\",\"2023-08-26T01:59:59.999000\",\"2023-08-27T01:59:59.999000\",\"2023-08-28T01:59:59.999000\",\"2023-08-29T01:59:59.999000\",\"2023-08-30T01:59:59.999000\",\"2023-08-31T01:59:59.999000\",\"2023-09-01T01:59:59.999000\",\"2023-09-02T01:59:59.999000\",\"2023-09-03T01:59:59.999000\",\"2023-09-04T01:59:59.999000\",\"2023-09-05T01:59:59.999000\",\"2023-09-06T01:59:59.999000\",\"2023-09-07T01:59:59.999000\",\"2023-09-08T01:59:59.999000\",\"2023-09-09T01:59:59.999000\",\"2023-09-10T01:59:59.999000\",\"2023-09-11T01:59:59.999000\",\"2023-09-12T01:59:59.999000\",\"2023-09-13T01:59:59.999000\",\"2023-09-14T01:59:59.999000\",\"2023-09-15T01:59:59.999000\",\"2023-09-16T01:59:59.999000\",\"2023-09-17T01:59:59.999000\",\"2023-09-18T01:59:59.999000\",\"2023-09-19T01:59:59.999000\",\"2023-09-20T01:59:59.999000\",\"2023-09-21T01:59:59.999000\",\"2023-09-22T01:59:59.999000\",\"2023-09-23T01:59:59.999000\",\"2023-09-24T01:59:59.999000\",\"2023-09-25T01:59:59.999000\",\"2023-09-26T01:59:59.999000\",\"2023-09-27T01:59:59.999000\",\"2023-09-28T01:59:59.999000\",\"2023-09-29T01:59:59.999000\",\"2023-09-30T01:59:59.999000\",\"2023-10-01T01:59:59.999000\",\"2023-10-02T01:59:59.999000\",\"2023-10-03T01:59:59.999000\",\"2023-10-04T01:59:59.999000\",\"2023-10-05T01:59:59.999000\",\"2023-10-06T01:59:59.999000\",\"2023-10-07T01:59:59.999000\",\"2023-10-08T01:59:59.999000\",\"2023-10-09T01:59:59.999000\",\"2023-10-10T01:59:59.999000\",\"2023-10-11T01:59:59.999000\",\"2023-10-12T01:59:59.999000\",\"2023-10-13T01:59:59.999000\",\"2023-10-14T01:59:59.999000\",\"2023-10-15T01:59:59.999000\",\"2023-10-16T01:59:59.999000\",\"2023-10-17T01:59:59.999000\",\"2023-10-18T01:59:59.999000\",\"2023-10-19T01:59:59.999000\",\"2023-10-20T01:59:59.999000\",\"2023-10-21T01:59:59.999000\",\"2023-10-22T01:59:59.999000\",\"2023-10-23T01:59:59.999000\",\"2023-10-24T01:59:59.999000\",\"2023-10-25T01:59:59.999000\",\"2023-10-26T01:59:59.999000\",\"2023-10-27T01:59:59.999000\",\"2023-10-28T01:59:59.999000\",\"2023-10-29T01:59:59.999000\",\"2023-10-30T00:59:59.999000\",\"2023-10-31T00:59:59.999000\",\"2023-11-01T00:59:59.999000\",\"2023-11-02T00:59:59.999000\",\"2023-11-03T00:59:59.999000\",\"2023-11-04T00:59:59.999000\",\"2023-11-05T00:59:59.999000\",\"2023-11-06T00:59:59.999000\",\"2023-11-07T00:59:59.999000\",\"2023-11-08T00:59:59.999000\",\"2023-11-09T00:59:59.999000\",\"2023-11-10T00:59:59.999000\",\"2023-11-11T00:59:59.999000\",\"2023-11-12T00:59:59.999000\",\"2023-11-13T00:59:59.999000\",\"2023-11-14T00:59:59.999000\",\"2023-11-15T00:59:59.999000\",\"2023-11-16T00:59:59.999000\",\"2023-11-17T00:59:59.999000\",\"2023-11-18T00:59:59.999000\",\"2023-11-19T00:59:59.999000\",\"2023-11-20T00:59:59.999000\",\"2023-11-21T00:59:59.999000\",\"2023-11-22T00:59:59.999000\",\"2023-11-23T00:59:59.999000\",\"2023-11-24T00:59:59.999000\",\"2023-11-25T00:59:59.999000\",\"2023-11-26T00:59:59.999000\",\"2023-11-27T00:59:59.999000\",\"2023-11-28T00:59:59.999000\",\"2023-11-29T00:59:59.999000\",\"2023-11-30T00:59:59.999000\",\"2023-12-01T00:59:59.999000\"],\"y\":[null,null,null,null,null,null,null,null,null,null,null,null,null,83.53080568720381,74.05462184873953,71.51095732410614,75.89928057553959,67.53393665158373,79.21108742004266,81.87732342007438,75.29914529914531,73.19327731092437,76.91751085383503,68.77054569362261,65.87643678160919,61.86206896551724,59.81104651162792,54.69571750563487,61.29788897576231,52.68890401633765,55.98480050664979,61.13592852584558,55.84594222833563,49.528301886792455,53.030303030303045,49.21875,35.90664272890484,48.04469273743018,40.651965484180266,37.823371989295275,35.694572217111315,38.36657169990502,32.13296398891967,37.54045307443366,37.065217391304365,44.21965317919075,39.06382978723404,43.39920948616601,43.53687549563836,45.03691550451189,52.5078369905956,45.22448979591838,49.08180300500833,52.83018867924527,48.59504132231407,47.70642201834864,51.43626570915621,53.81040892193308,47.10071210579855,39.81481481481481,45.44253632760897,36.46153846153846,34.750733137829926,35.42600896860989,24.869565217391298,40.42207792207789,45.223880597014954,38.74680306905372,43.97677793904208,40.61662198391422,46.04141291108405,46.30303030303031,47.630922693266854,35.763888888888886,42.72409778812576,51.19047619047619,50.19455252918288,58.75810936051898,51.65957446808511,72.03348104382079,56.67765869744435,64.82982171799028,60.5831124574025,64.3870498363041,64.04700697759824,67.62566137566137,71.01835405565423,76.04994324631102,73.40425531914894,72.6697353279632,68.34415584415585,68.05896805896806,66.28556235043871,55.757152826238666,67.45439469320067,63.32429990966579,70.32348804500704,65.16413522782952,64.39659489233853,60.67477876106196,50.786056049213975,35.538461538461505,42.36220472440939,44.41913439635536,54.520037278658,51.44278606965175,58.48416289592764,64.43798449612405,44.91525423728814,41.08527131782944,31.44360023378141,41.160666308436305,39.439543331603545,34.655078761542654,37.68267223382044,38.50666666666665,37.60822510822512,38.50666666666665,38.900862068965516,36.833855799373026,37.70053475935827,29.53586497890295,38.91977760127085,43.59430604982205,59.71922246220303,41.29606099110548,40.27261462205701,33.23108384458078,27.444444444444485,31.182795698924778,23.98190045248873,21.219226260257898,20.066518847006662,23.095238095238116,26.616915422885597,38.445378151260506,42.58517034068138,49.4475138121547,50.1814882032668,55.03421309872924,54.08261287223823,69.09920182440135,70.02212389380531,61.22650840751731,67.93066088840735,69.51596292481977,75.32051282051282,77.55102040816325,79.647577092511,81.40096618357487,77.90507364975448,69.36416184971097,71.70099160945841,68.53352984524687,77.64456981664318,64.35523114355232,67.81987918725974,67.96917996697853,68.74328678839956,68.70967741935485,58.236117592160525,58.90725436179983,57.27923627684965,49.65699208443273,41.878059635069,43.84902143522836,37.9293180686909,40.090543259557336,37.017451084082495,45.44378698224852,37.52521856086079,43.61111111111112,39.709944751381244,34.21250941974377,40.90090090090087,34.85600794438926,28.597957288765087,33.39587242026268,41.10854503464202,47.20496894409937,48.40764331210191,46.593406593406606,48.78819810326658,47.51619870410368,46.958377801494144,38.46153846153847,35.03787878787878,37.52276867030968,42.1000981354269,38.90547263681594,49.49596774193548,45.62306900102986,53.82746051032805,90.87854056649064,73.91643889105818,73.41354550747138,74.45459630803654,72.94900221729492,75.06466632177963,77.93925538863488,76.66238355284293,73.67762128325509,69.44485566247225,69.92924528301887,65.90038314176246,66.47855530474041,67.21933398904032,36.28246753246752,48.923750456037936,49.55686853766617,41.42276422764227,41.83087027914612,33.28625235404894,14.92459698387934,15.217391304347814,14.8627654065251,17.748917748917734,14.516129032258064,18.675179569034327,25.457205559619595,22.213740458015238,20.935251798561126,21.026011560693618,20.350877192982438,21.1678832116788,27.180966113914877,18.525766470971902,18.574231523871745,13.308341143392639,15.252416756176103,21.802175038839962,29.30367504835587,27.507943713118436,20.622568093385183,23.452157598499056,23.320895522388042,25.93097184377838,26.108824874256953,26.519337016574553,23.408329344183812,32.490079365079325,34.203655352480396,51.81962025316458,47.05459770114942,41.64687252573236,35.18029903254177,42.38921001926785,42.55319148936171,36.128364389233916,42.11737629459145,36.967418546365884,37.675606641123885,34.23848878394337,27.153558052434477,19.126819126819186,24.200913242009207,35.69553805774284,51.67785234899325,50.67204301075268,41.952506596306044,46.53705953827458,54.6563192904656,59.41114616193482,50.9767441860465,53.19715808170514,51.63793103448277,52.26876090750436,66.3179916317992,61.52197213290462,58.64661654135339,60.5532786885246,60.71428571428572,57.26660250240616,64.93383742911155,54.341736694677856,60.179153094462556,54.67213114754096,56.621392190152825,55.75757575757575,56.09756097560972,56.74008810572687,48.83720930232557,47.877358490566024,46.031746031746025,39.49843260188085,34.576271186440664,37.411347517730476,32.44019138755979,42.96799224054318,21.2048192771084,21.999999999999986,48.52941176470588,44.903846153846196,49.622641509434004,52.509652509652504,69.68365553602808,76.19848612279223,78.9198606271777,81.69522091974753,74.30730478589423,74.3503772003353,76.44341801385684,78.35926449787837,84.65473145780052,87.2760963557752,82.19383921863263,86.00000000000004,85.67096285064447,89.25525866969873,90.78498293515362,78.22003577817536,79.67552951780083,73.54409317803663,74.56769295655843,74.72757753562449,73.02977232924695,71.40204271123494,56.39931740614335,58.11475409836066,51.172861782749905,50.22075055187638,49.20868605079132,42.76233927830776,24.426719840478512,23.996082272282024,33.788395904436854,39.82142857142858,41.18729866543948,40.77849860982392,39.711191335740075,35.2338530066815,45.044572627163085,38.780207134637514,48.00569800569799],\"yaxis\":\"y2\",\"type\":\"scatter\",\"hoverinfo\":\"all\",\"hovertemplate\":\"Date: %{x}<br>Value: %{y}\"},{\"mode\":\"markers+text\",\"name\":\"Annotations\",\"text\":[\"RSI Peak\",\"RSI Trough\"],\"textposition\":\"top center\",\"x\":[\"2023-02-21T00:59:59.999000\",\"2023-03-23T00:59:59.999000\"],\"y\":[52.5078369905956,56.67765869744435],\"type\":\"scatter\",\"hoverinfo\":\"all\",\"hovertemplate\":\"Date: %{x}<br>Value: %{y}\"}],                        {\"template\":{\"data\":{\"histogram2dcontour\":[{\"type\":\"histogram2dcontour\",\"colorbar\":{\"outlinewidth\":0,\"ticks\":\"\"},\"colorscale\":[[0.0,\"#0d0887\"],[0.1111111111111111,\"#46039f\"],[0.2222222222222222,\"#7201a8\"],[0.3333333333333333,\"#9c179e\"],[0.4444444444444444,\"#bd3786\"],[0.5555555555555556,\"#d8576b\"],[0.6666666666666666,\"#ed7953\"],[0.7777777777777778,\"#fb9f3a\"],[0.8888888888888888,\"#fdca26\"],[1.0,\"#f0f921\"]]}],\"choropleth\":[{\"type\":\"choropleth\",\"colorbar\":{\"outlinewidth\":0,\"ticks\":\"\"}}],\"histogram2d\":[{\"type\":\"histogram2d\",\"colorbar\":{\"outlinewidth\":0,\"ticks\":\"\"},\"colorscale\":[[0.0,\"#0d0887\"],[0.1111111111111111,\"#46039f\"],[0.2222222222222222,\"#7201a8\"],[0.3333333333333333,\"#9c179e\"],[0.4444444444444444,\"#bd3786\"],[0.5555555555555556,\"#d8576b\"],[0.6666666666666666,\"#ed7953\"],[0.7777777777777778,\"#fb9f3a\"],[0.8888888888888888,\"#fdca26\"],[1.0,\"#f0f921\"]]}],\"heatmap\":[{\"type\":\"heatmap\",\"colorbar\":{\"outlinewidth\":0,\"ticks\":\"\"},\"colorscale\":[[0.0,\"#0d0887\"],[0.1111111111111111,\"#46039f\"],[0.2222222222222222,\"#7201a8\"],[0.3333333333333333,\"#9c179e\"],[0.4444444444444444,\"#bd3786\"],[0.5555555555555556,\"#d8576b\"],[0.6666666666666666,\"#ed7953\"],[0.7777777777777778,\"#fb9f3a\"],[0.8888888888888888,\"#fdca26\"],[1.0,\"#f0f921\"]]}],\"heatmapgl\":[{\"type\":\"heatmapgl\",\"colorbar\":{\"outlinewidth\":0,\"ticks\":\"\"},\"colorscale\":[[0.0,\"#0d0887\"],[0.1111111111111111,\"#46039f\"],[0.2222222222222222,\"#7201a8\"],[0.3333333333333333,\"#9c179e\"],[0.4444444444444444,\"#bd3786\"],[0.5555555555555556,\"#d8576b\"],[0.6666666666666666,\"#ed7953\"],[0.7777777777777778,\"#fb9f3a\"],[0.8888888888888888,\"#fdca26\"],[1.0,\"#f0f921\"]]}],\"contourcarpet\":[{\"type\":\"contourcarpet\",\"colorbar\":{\"outlinewidth\":0,\"ticks\":\"\"}}],\"contour\":[{\"type\":\"contour\",\"colorbar\":{\"outlinewidth\":0,\"ticks\":\"\"},\"colorscale\":[[0.0,\"#0d0887\"],[0.1111111111111111,\"#46039f\"],[0.2222222222222222,\"#7201a8\"],[0.3333333333333333,\"#9c179e\"],[0.4444444444444444,\"#bd3786\"],[0.5555555555555556,\"#d8576b\"],[0.6666666666666666,\"#ed7953\"],[0.7777777777777778,\"#fb9f3a\"],[0.8888888888888888,\"#fdca26\"],[1.0,\"#f0f921\"]]}],\"surface\":[{\"type\":\"surface\",\"colorbar\":{\"outlinewidth\":0,\"ticks\":\"\"},\"colorscale\":[[0.0,\"#0d0887\"],[0.1111111111111111,\"#46039f\"],[0.2222222222222222,\"#7201a8\"],[0.3333333333333333,\"#9c179e\"],[0.4444444444444444,\"#bd3786\"],[0.5555555555555556,\"#d8576b\"],[0.6666666666666666,\"#ed7953\"],[0.7777777777777778,\"#fb9f3a\"],[0.8888888888888888,\"#fdca26\"],[1.0,\"#f0f921\"]]}],\"mesh3d\":[{\"type\":\"mesh3d\",\"colorbar\":{\"outlinewidth\":0,\"ticks\":\"\"}}],\"scatter\":[{\"fillpattern\":{\"fillmode\":\"overlay\",\"size\":10,\"solidity\":0.2},\"type\":\"scatter\"}],\"parcoords\":[{\"type\":\"parcoords\",\"line\":{\"colorbar\":{\"outlinewidth\":0,\"ticks\":\"\"}}}],\"scatterpolargl\":[{\"type\":\"scatterpolargl\",\"marker\":{\"colorbar\":{\"outlinewidth\":0,\"ticks\":\"\"}}}],\"bar\":[{\"error_x\":{\"color\":\"#2a3f5f\"},\"error_y\":{\"color\":\"#2a3f5f\"},\"marker\":{\"line\":{\"color\":\"#E5ECF6\",\"width\":0.5},\"pattern\":{\"fillmode\":\"overlay\",\"size\":10,\"solidity\":0.2}},\"type\":\"bar\"}],\"scattergeo\":[{\"type\":\"scattergeo\",\"marker\":{\"colorbar\":{\"outlinewidth\":0,\"ticks\":\"\"}}}],\"scatterpolar\":[{\"type\":\"scatterpolar\",\"marker\":{\"colorbar\":{\"outlinewidth\":0,\"ticks\":\"\"}}}],\"histogram\":[{\"marker\":{\"pattern\":{\"fillmode\":\"overlay\",\"size\":10,\"solidity\":0.2}},\"type\":\"histogram\"}],\"scattergl\":[{\"type\":\"scattergl\",\"marker\":{\"colorbar\":{\"outlinewidth\":0,\"ticks\":\"\"}}}],\"scatter3d\":[{\"type\":\"scatter3d\",\"line\":{\"colorbar\":{\"outlinewidth\":0,\"ticks\":\"\"}},\"marker\":{\"colorbar\":{\"outlinewidth\":0,\"ticks\":\"\"}}}],\"scattermapbox\":[{\"type\":\"scattermapbox\",\"marker\":{\"colorbar\":{\"outlinewidth\":0,\"ticks\":\"\"}}}],\"scatterternary\":[{\"type\":\"scatterternary\",\"marker\":{\"colorbar\":{\"outlinewidth\":0,\"ticks\":\"\"}}}],\"scattercarpet\":[{\"type\":\"scattercarpet\",\"marker\":{\"colorbar\":{\"outlinewidth\":0,\"ticks\":\"\"}}}],\"carpet\":[{\"aaxis\":{\"endlinecolor\":\"#2a3f5f\",\"gridcolor\":\"white\",\"linecolor\":\"white\",\"minorgridcolor\":\"white\",\"startlinecolor\":\"#2a3f5f\"},\"baxis\":{\"endlinecolor\":\"#2a3f5f\",\"gridcolor\":\"white\",\"linecolor\":\"white\",\"minorgridcolor\":\"white\",\"startlinecolor\":\"#2a3f5f\"},\"type\":\"carpet\"}],\"table\":[{\"cells\":{\"fill\":{\"color\":\"#EBF0F8\"},\"line\":{\"color\":\"white\"}},\"header\":{\"fill\":{\"color\":\"#C8D4E3\"},\"line\":{\"color\":\"white\"}},\"type\":\"table\"}],\"barpolar\":[{\"marker\":{\"line\":{\"color\":\"#E5ECF6\",\"width\":0.5},\"pattern\":{\"fillmode\":\"overlay\",\"size\":10,\"solidity\":0.2}},\"type\":\"barpolar\"}],\"pie\":[{\"automargin\":true,\"type\":\"pie\"}]},\"layout\":{\"autotypenumbers\":\"strict\",\"colorway\":[\"#636efa\",\"#EF553B\",\"#00cc96\",\"#ab63fa\",\"#FFA15A\",\"#19d3f3\",\"#FF6692\",\"#B6E880\",\"#FF97FF\",\"#FECB52\"],\"font\":{\"color\":\"#2a3f5f\"},\"hovermode\":\"closest\",\"hoverlabel\":{\"align\":\"left\"},\"paper_bgcolor\":\"white\",\"plot_bgcolor\":\"#E5ECF6\",\"polar\":{\"bgcolor\":\"#E5ECF6\",\"angularaxis\":{\"gridcolor\":\"white\",\"linecolor\":\"white\",\"ticks\":\"\"},\"radialaxis\":{\"gridcolor\":\"white\",\"linecolor\":\"white\",\"ticks\":\"\"}},\"ternary\":{\"bgcolor\":\"#E5ECF6\",\"aaxis\":{\"gridcolor\":\"white\",\"linecolor\":\"white\",\"ticks\":\"\"},\"baxis\":{\"gridcolor\":\"white\",\"linecolor\":\"white\",\"ticks\":\"\"},\"caxis\":{\"gridcolor\":\"white\",\"linecolor\":\"white\",\"ticks\":\"\"}},\"coloraxis\":{\"colorbar\":{\"outlinewidth\":0,\"ticks\":\"\"}},\"colorscale\":{\"sequential\":[[0.0,\"#0d0887\"],[0.1111111111111111,\"#46039f\"],[0.2222222222222222,\"#7201a8\"],[0.3333333333333333,\"#9c179e\"],[0.4444444444444444,\"#bd3786\"],[0.5555555555555556,\"#d8576b\"],[0.6666666666666666,\"#ed7953\"],[0.7777777777777778,\"#fb9f3a\"],[0.8888888888888888,\"#fdca26\"],[1.0,\"#f0f921\"]],\"sequentialminus\":[[0.0,\"#0d0887\"],[0.1111111111111111,\"#46039f\"],[0.2222222222222222,\"#7201a8\"],[0.3333333333333333,\"#9c179e\"],[0.4444444444444444,\"#bd3786\"],[0.5555555555555556,\"#d8576b\"],[0.6666666666666666,\"#ed7953\"],[0.7777777777777778,\"#fb9f3a\"],[0.8888888888888888,\"#fdca26\"],[1.0,\"#f0f921\"]],\"diverging\":[[0,\"#8e0152\"],[0.1,\"#c51b7d\"],[0.2,\"#de77ae\"],[0.3,\"#f1b6da\"],[0.4,\"#fde0ef\"],[0.5,\"#f7f7f7\"],[0.6,\"#e6f5d0\"],[0.7,\"#b8e186\"],[0.8,\"#7fbc41\"],[0.9,\"#4d9221\"],[1,\"#276419\"]]},\"xaxis\":{\"gridcolor\":\"white\",\"linecolor\":\"white\",\"ticks\":\"\",\"title\":{\"standoff\":15},\"zerolinecolor\":\"white\",\"automargin\":true,\"zerolinewidth\":2},\"yaxis\":{\"gridcolor\":\"white\",\"linecolor\":\"white\",\"ticks\":\"\",\"title\":{\"standoff\":15},\"zerolinecolor\":\"white\",\"automargin\":true,\"zerolinewidth\":2},\"scene\":{\"xaxis\":{\"backgroundcolor\":\"#E5ECF6\",\"gridcolor\":\"white\",\"linecolor\":\"white\",\"showbackground\":true,\"ticks\":\"\",\"zerolinecolor\":\"white\",\"gridwidth\":2},\"yaxis\":{\"backgroundcolor\":\"#E5ECF6\",\"gridcolor\":\"white\",\"linecolor\":\"white\",\"showbackground\":true,\"ticks\":\"\",\"zerolinecolor\":\"white\",\"gridwidth\":2},\"zaxis\":{\"backgroundcolor\":\"#E5ECF6\",\"gridcolor\":\"white\",\"linecolor\":\"white\",\"showbackground\":true,\"ticks\":\"\",\"zerolinecolor\":\"white\",\"gridwidth\":2}},\"shapedefaults\":{\"line\":{\"color\":\"#2a3f5f\"}},\"annotationdefaults\":{\"arrowcolor\":\"#2a3f5f\",\"arrowhead\":0,\"arrowwidth\":1},\"geo\":{\"bgcolor\":\"white\",\"landcolor\":\"#E5ECF6\",\"subunitcolor\":\"white\",\"showland\":true,\"showlakes\":true,\"lakecolor\":\"white\"},\"title\":{\"x\":0.05},\"mapbox\":{\"style\":\"light\"}}},\"xaxis\":{\"domain\":[0.1,0.9]},\"yaxis2\":{\"title\":{\"text\":\"RSI\"},\"overlaying\":\"y\",\"side\":\"right\",\"range\":[0,100]},\"legend\":{\"orientation\":\"h\",\"y\":1,\"x\":0,\"yanchor\":\"bottom\",\"xanchor\":\"left\"},\"margin\":{\"l\":50,\"r\":50,\"b\":50,\"t\":50,\"pad\":4},\"title\":{\"text\":\"Close Price and RSI Chart\"},\"yaxis\":{\"title\":{\"text\":\"Close Price\"}},\"shapes\":[{\"line\":{\"color\":\"red\",\"dash\":\"dash\"},\"type\":\"line\",\"x0\":0,\"x1\":1,\"xref\":\"x domain\",\"y0\":70,\"y1\":70,\"yref\":\"y\"},{\"line\":{\"color\":\"green\",\"dash\":\"dash\"},\"type\":\"line\",\"x0\":0,\"x1\":1,\"xref\":\"x domain\",\"y0\":30,\"y1\":30,\"yref\":\"y\"}],\"annotations\":[{\"showarrow\":false,\"text\":\"Overbought\",\"x\":1,\"xanchor\":\"right\",\"xref\":\"x domain\",\"y\":70,\"yanchor\":\"top\",\"yref\":\"y\"},{\"showarrow\":false,\"text\":\"Oversold\",\"x\":1,\"xanchor\":\"right\",\"xref\":\"x domain\",\"y\":30,\"yanchor\":\"top\",\"yref\":\"y\"}]},                        {\"responsive\": true}                    ).then(function(){\n",
       "                            \n",
       "var gd = document.getElementById('f75526a7-814d-4024-8fa8-193917276a16');\n",
       "var x = new MutationObserver(function (mutations, observer) {{\n",
       "        var display = window.getComputedStyle(gd).display;\n",
       "        if (!display || display === 'none') {{\n",
       "            console.log([gd, 'removed!']);\n",
       "            Plotly.purge(gd);\n",
       "            observer.disconnect();\n",
       "        }}\n",
       "}});\n",
       "\n",
       "// Listen for the removal of the full notebook cells\n",
       "var notebookContainer = gd.closest('#notebook-container');\n",
       "if (notebookContainer) {{\n",
       "    x.observe(notebookContainer, {childList: true});\n",
       "}}\n",
       "\n",
       "// Listen for the clearing of the current output cell\n",
       "var outputEl = gd.closest('.output');\n",
       "if (outputEl) {{\n",
       "    x.observe(outputEl, {childList: true});\n",
       "}}\n",
       "\n",
       "                        })                };                });            </script>        </div>"
      ]
     },
     "metadata": {},
     "output_type": "display_data"
    }
   ],
   "source": [
    "# Creating subplots\n",
    "fig = go.Figure()\n",
    "\n",
    "# Adding Close Price Trace\n",
    "fig.add_trace(go.Scatter(x=full_data.index, y=full_data['Close'], mode='lines', name='Close Price'))\n",
    "\n",
    "# Adding RSI Trace\n",
    "fig.add_trace(go.Scatter(x=full_data.index, y=full_data['RSI'], mode='lines', name='RSI', yaxis='y2'))\n",
    "\n",
    "# Update layout for a dual-axis plot\n",
    "fig.update_layout(\n",
    "    title='Close Price and RSI Chart',\n",
    "    xaxis=dict(domain=[0.1, 0.9]),\n",
    "    yaxis=dict(title='Close Price'),\n",
    "    yaxis2=dict(title='RSI', overlaying='y', side='right', range=[0, 100]),\n",
    "    legend=dict(orientation='h', y=1, x=0, yanchor='bottom', xanchor='left'),\n",
    "    margin=dict(l=50, r=50, b=50, t=50, pad=4),\n",
    ")\n",
    "\n",
    "# Add horizontal lines for RSI\n",
    "fig.add_hline(y=70, line_dash=\"dash\", line_color=\"red\", annotation_text=\"Overbought\", annotation_position=\"bottom right\")\n",
    "fig.add_hline(y=30, line_dash=\"dash\", line_color=\"green\", annotation_text=\"Oversold\", annotation_position=\"bottom right\")\n",
    "\n",
    "# Enhancing the look with annotations and custom hover info\n",
    "fig.add_trace(go.Scatter(\n",
    "    x=[full_data.index[50], full_data.index[80]],\n",
    "    y=[full_data['RSI'][50], full_data['RSI'][80]],\n",
    "    mode=\"markers+text\",\n",
    "    name=\"Annotations\",\n",
    "    text=[\"RSI Peak\", \"RSI Trough\"],\n",
    "    textposition=\"top center\"\n",
    "))\n",
    "\n",
    "# Customizing the hover information\n",
    "fig.update_traces(hoverinfo='all', hovertemplate=\"Date: %{x}<br>Value: %{y}\")\n",
    "\n",
    "# Show the plot\n",
    "fig.show()\n"
   ]
  },
  {
   "cell_type": "markdown",
   "id": "6e180a47",
   "metadata": {},
   "source": [
    "Leave the NaN Values: This is the most straightforward approach. Simply leave the NaN values as they are.\n",
    "When plotting or analyzing the data, ensure that your code or tools can handle these NaN values appropriately."
   ]
  },
  {
   "cell_type": "markdown",
   "id": "39ee9cbf",
   "metadata": {},
   "source": [
    "## Exploratory analysis"
   ]
  },
  {
   "cell_type": "markdown",
   "id": "a3f5eeae",
   "metadata": {},
   "source": [
    "### Volume by Days of the Month and highest closing price"
   ]
  },
  {
   "cell_type": "code",
   "execution_count": 46,
   "id": "ace1702e",
   "metadata": {},
   "outputs": [
    {
     "data": {
      "application/vnd.plotly.v1+json": {
       "config": {
        "plotlyServerURL": "https://plot.ly"
       },
       "data": [
        {
         "name": "Average Volume",
         "type": "bar",
         "x": [
          1,
          2,
          3,
          4,
          5,
          6,
          7,
          8,
          9,
          10,
          11,
          12,
          13,
          14,
          15,
          16,
          17,
          18,
          19,
          20,
          21,
          22,
          23,
          24,
          25,
          26,
          27,
          28,
          29,
          30,
          31
         ],
         "xaxis": "x",
         "y": [
          360518326.8181818,
          327261734.6363636,
          344767815.45454544,
          339408406.3636364,
          277478550.45454544,
          316755774.90909094,
          331802979.72727275,
          317855990.3636364,
          287138456.3636364,
          381732992.54545456,
          348695625.1818182,
          319886107,
          297803271.8181818,
          582753873,
          483022139.90909094,
          331101991.54545456,
          422814489.54545456,
          398112063.54545456,
          376406129.8181818,
          417622495.1818182,
          402548120.6363636,
          485869837.1818182,
          410575256.09090906,
          387137419.1818182,
          381107821.54545456,
          314842367.72727275,
          303742465.54545456,
          347218449.90909094,
          326473522.2,
          373891748.8,
          484705706.5
         ],
         "yaxis": "y"
        },
        {
         "marker": {
          "color": "orange"
         },
         "mode": "markers+lines",
         "name": "Highest Close Price",
         "type": "scatter",
         "x": [
          1,
          2,
          3,
          4,
          5,
          6,
          7,
          8,
          9,
          10,
          11,
          12,
          13,
          14,
          15,
          16,
          17,
          18,
          19,
          20,
          21,
          22,
          23,
          24,
          25,
          26,
          27,
          28,
          29,
          30,
          31
         ],
         "xaxis": "x",
         "y": [
          0.6976,
          0.7069,
          0.685,
          0.663,
          0.6356,
          0.6607,
          0.7148,
          0.685,
          0.6869,
          0.6665,
          0.6595,
          0.6626,
          0.6613,
          0.8153,
          0.7179,
          0.7145,
          0.7468,
          0.7374,
          0.7779,
          0.8199,
          0.7942,
          0.7713,
          0.7331,
          0.7384,
          0.7021,
          0.7089,
          0.7161,
          0.7139,
          0.712,
          0.7121,
          0.7046
         ],
         "yaxis": "y"
        },
        {
         "cells": {
          "align": "left",
          "fill": {
           "color": "lavender"
          },
          "values": [
           [
            1,
            2,
            3,
            4,
            5,
            6,
            7,
            8,
            9,
            10,
            11,
            12,
            13,
            14,
            15,
            16,
            17,
            18,
            19,
            20,
            21,
            22,
            23,
            24,
            25,
            26,
            27,
            28,
            29,
            30,
            31
           ],
           [
            360518326.82,
            327261734.64,
            344767815.45,
            339408406.36,
            277478550.45,
            316755774.91,
            331802979.73,
            317855990.36,
            287138456.36,
            381732992.55,
            348695625.18,
            319886107,
            297803271.82,
            582753873,
            483022139.91,
            331101991.55,
            422814489.55,
            398112063.55,
            376406129.82,
            417622495.18,
            402548120.64,
            485869837.18,
            410575256.09,
            387137419.18,
            381107821.55,
            314842367.73,
            303742465.55,
            347218449.91,
            326473522.2,
            373891748.8,
            484705706.5
           ],
           [
            0.7,
            0.71,
            0.68,
            0.66,
            0.64,
            0.66,
            0.71,
            0.68,
            0.69,
            0.67,
            0.66,
            0.66,
            0.66,
            0.82,
            0.72,
            0.71,
            0.75,
            0.74,
            0.78,
            0.82,
            0.79,
            0.77,
            0.73,
            0.74,
            0.7,
            0.71,
            0.72,
            0.71,
            0.71,
            0.71,
            0.7
           ]
          ]
         },
         "domain": {
          "x": [
           0.73,
           1
          ],
          "y": [
           0,
           1
          ]
         },
         "header": {
          "align": "left",
          "fill": {
           "color": "paleturquoise"
          },
          "values": [
           "Day",
           "Average Volume",
           "Highest Close Price"
          ]
         },
         "type": "table"
        }
       ],
       "layout": {
        "annotations": [
         {
          "showarrow": false,
          "text": "Average: 368765501.26",
          "x": 31,
          "xref": "x",
          "y": 368765501.26047903,
          "yref": "y",
          "yshift": 10
         }
        ],
        "plot_bgcolor": "white",
        "shapes": [
         {
          "line": {
           "color": "red",
           "width": 2
          },
          "type": "line",
          "x0": 0,
          "x1": 1,
          "xref": "x domain",
          "y0": 368765501.26047903,
          "y1": 368765501.26047903,
          "yref": "y"
         }
        ],
        "showlegend": true,
        "template": {
         "data": {
          "bar": [
           {
            "error_x": {
             "color": "#2a3f5f"
            },
            "error_y": {
             "color": "#2a3f5f"
            },
            "marker": {
             "line": {
              "color": "#E5ECF6",
              "width": 0.5
             },
             "pattern": {
              "fillmode": "overlay",
              "size": 10,
              "solidity": 0.2
             }
            },
            "type": "bar"
           }
          ],
          "barpolar": [
           {
            "marker": {
             "line": {
              "color": "#E5ECF6",
              "width": 0.5
             },
             "pattern": {
              "fillmode": "overlay",
              "size": 10,
              "solidity": 0.2
             }
            },
            "type": "barpolar"
           }
          ],
          "carpet": [
           {
            "aaxis": {
             "endlinecolor": "#2a3f5f",
             "gridcolor": "white",
             "linecolor": "white",
             "minorgridcolor": "white",
             "startlinecolor": "#2a3f5f"
            },
            "baxis": {
             "endlinecolor": "#2a3f5f",
             "gridcolor": "white",
             "linecolor": "white",
             "minorgridcolor": "white",
             "startlinecolor": "#2a3f5f"
            },
            "type": "carpet"
           }
          ],
          "choropleth": [
           {
            "colorbar": {
             "outlinewidth": 0,
             "ticks": ""
            },
            "type": "choropleth"
           }
          ],
          "contour": [
           {
            "colorbar": {
             "outlinewidth": 0,
             "ticks": ""
            },
            "colorscale": [
             [
              0,
              "#0d0887"
             ],
             [
              0.1111111111111111,
              "#46039f"
             ],
             [
              0.2222222222222222,
              "#7201a8"
             ],
             [
              0.3333333333333333,
              "#9c179e"
             ],
             [
              0.4444444444444444,
              "#bd3786"
             ],
             [
              0.5555555555555556,
              "#d8576b"
             ],
             [
              0.6666666666666666,
              "#ed7953"
             ],
             [
              0.7777777777777778,
              "#fb9f3a"
             ],
             [
              0.8888888888888888,
              "#fdca26"
             ],
             [
              1,
              "#f0f921"
             ]
            ],
            "type": "contour"
           }
          ],
          "contourcarpet": [
           {
            "colorbar": {
             "outlinewidth": 0,
             "ticks": ""
            },
            "type": "contourcarpet"
           }
          ],
          "heatmap": [
           {
            "colorbar": {
             "outlinewidth": 0,
             "ticks": ""
            },
            "colorscale": [
             [
              0,
              "#0d0887"
             ],
             [
              0.1111111111111111,
              "#46039f"
             ],
             [
              0.2222222222222222,
              "#7201a8"
             ],
             [
              0.3333333333333333,
              "#9c179e"
             ],
             [
              0.4444444444444444,
              "#bd3786"
             ],
             [
              0.5555555555555556,
              "#d8576b"
             ],
             [
              0.6666666666666666,
              "#ed7953"
             ],
             [
              0.7777777777777778,
              "#fb9f3a"
             ],
             [
              0.8888888888888888,
              "#fdca26"
             ],
             [
              1,
              "#f0f921"
             ]
            ],
            "type": "heatmap"
           }
          ],
          "heatmapgl": [
           {
            "colorbar": {
             "outlinewidth": 0,
             "ticks": ""
            },
            "colorscale": [
             [
              0,
              "#0d0887"
             ],
             [
              0.1111111111111111,
              "#46039f"
             ],
             [
              0.2222222222222222,
              "#7201a8"
             ],
             [
              0.3333333333333333,
              "#9c179e"
             ],
             [
              0.4444444444444444,
              "#bd3786"
             ],
             [
              0.5555555555555556,
              "#d8576b"
             ],
             [
              0.6666666666666666,
              "#ed7953"
             ],
             [
              0.7777777777777778,
              "#fb9f3a"
             ],
             [
              0.8888888888888888,
              "#fdca26"
             ],
             [
              1,
              "#f0f921"
             ]
            ],
            "type": "heatmapgl"
           }
          ],
          "histogram": [
           {
            "marker": {
             "pattern": {
              "fillmode": "overlay",
              "size": 10,
              "solidity": 0.2
             }
            },
            "type": "histogram"
           }
          ],
          "histogram2d": [
           {
            "colorbar": {
             "outlinewidth": 0,
             "ticks": ""
            },
            "colorscale": [
             [
              0,
              "#0d0887"
             ],
             [
              0.1111111111111111,
              "#46039f"
             ],
             [
              0.2222222222222222,
              "#7201a8"
             ],
             [
              0.3333333333333333,
              "#9c179e"
             ],
             [
              0.4444444444444444,
              "#bd3786"
             ],
             [
              0.5555555555555556,
              "#d8576b"
             ],
             [
              0.6666666666666666,
              "#ed7953"
             ],
             [
              0.7777777777777778,
              "#fb9f3a"
             ],
             [
              0.8888888888888888,
              "#fdca26"
             ],
             [
              1,
              "#f0f921"
             ]
            ],
            "type": "histogram2d"
           }
          ],
          "histogram2dcontour": [
           {
            "colorbar": {
             "outlinewidth": 0,
             "ticks": ""
            },
            "colorscale": [
             [
              0,
              "#0d0887"
             ],
             [
              0.1111111111111111,
              "#46039f"
             ],
             [
              0.2222222222222222,
              "#7201a8"
             ],
             [
              0.3333333333333333,
              "#9c179e"
             ],
             [
              0.4444444444444444,
              "#bd3786"
             ],
             [
              0.5555555555555556,
              "#d8576b"
             ],
             [
              0.6666666666666666,
              "#ed7953"
             ],
             [
              0.7777777777777778,
              "#fb9f3a"
             ],
             [
              0.8888888888888888,
              "#fdca26"
             ],
             [
              1,
              "#f0f921"
             ]
            ],
            "type": "histogram2dcontour"
           }
          ],
          "mesh3d": [
           {
            "colorbar": {
             "outlinewidth": 0,
             "ticks": ""
            },
            "type": "mesh3d"
           }
          ],
          "parcoords": [
           {
            "line": {
             "colorbar": {
              "outlinewidth": 0,
              "ticks": ""
             }
            },
            "type": "parcoords"
           }
          ],
          "pie": [
           {
            "automargin": true,
            "type": "pie"
           }
          ],
          "scatter": [
           {
            "fillpattern": {
             "fillmode": "overlay",
             "size": 10,
             "solidity": 0.2
            },
            "type": "scatter"
           }
          ],
          "scatter3d": [
           {
            "line": {
             "colorbar": {
              "outlinewidth": 0,
              "ticks": ""
             }
            },
            "marker": {
             "colorbar": {
              "outlinewidth": 0,
              "ticks": ""
             }
            },
            "type": "scatter3d"
           }
          ],
          "scattercarpet": [
           {
            "marker": {
             "colorbar": {
              "outlinewidth": 0,
              "ticks": ""
             }
            },
            "type": "scattercarpet"
           }
          ],
          "scattergeo": [
           {
            "marker": {
             "colorbar": {
              "outlinewidth": 0,
              "ticks": ""
             }
            },
            "type": "scattergeo"
           }
          ],
          "scattergl": [
           {
            "marker": {
             "colorbar": {
              "outlinewidth": 0,
              "ticks": ""
             }
            },
            "type": "scattergl"
           }
          ],
          "scattermapbox": [
           {
            "marker": {
             "colorbar": {
              "outlinewidth": 0,
              "ticks": ""
             }
            },
            "type": "scattermapbox"
           }
          ],
          "scatterpolar": [
           {
            "marker": {
             "colorbar": {
              "outlinewidth": 0,
              "ticks": ""
             }
            },
            "type": "scatterpolar"
           }
          ],
          "scatterpolargl": [
           {
            "marker": {
             "colorbar": {
              "outlinewidth": 0,
              "ticks": ""
             }
            },
            "type": "scatterpolargl"
           }
          ],
          "scatterternary": [
           {
            "marker": {
             "colorbar": {
              "outlinewidth": 0,
              "ticks": ""
             }
            },
            "type": "scatterternary"
           }
          ],
          "surface": [
           {
            "colorbar": {
             "outlinewidth": 0,
             "ticks": ""
            },
            "colorscale": [
             [
              0,
              "#0d0887"
             ],
             [
              0.1111111111111111,
              "#46039f"
             ],
             [
              0.2222222222222222,
              "#7201a8"
             ],
             [
              0.3333333333333333,
              "#9c179e"
             ],
             [
              0.4444444444444444,
              "#bd3786"
             ],
             [
              0.5555555555555556,
              "#d8576b"
             ],
             [
              0.6666666666666666,
              "#ed7953"
             ],
             [
              0.7777777777777778,
              "#fb9f3a"
             ],
             [
              0.8888888888888888,
              "#fdca26"
             ],
             [
              1,
              "#f0f921"
             ]
            ],
            "type": "surface"
           }
          ],
          "table": [
           {
            "cells": {
             "fill": {
              "color": "#EBF0F8"
             },
             "line": {
              "color": "white"
             }
            },
            "header": {
             "fill": {
              "color": "#C8D4E3"
             },
             "line": {
              "color": "white"
             }
            },
            "type": "table"
           }
          ]
         },
         "layout": {
          "annotationdefaults": {
           "arrowcolor": "#2a3f5f",
           "arrowhead": 0,
           "arrowwidth": 1
          },
          "autotypenumbers": "strict",
          "coloraxis": {
           "colorbar": {
            "outlinewidth": 0,
            "ticks": ""
           }
          },
          "colorscale": {
           "diverging": [
            [
             0,
             "#8e0152"
            ],
            [
             0.1,
             "#c51b7d"
            ],
            [
             0.2,
             "#de77ae"
            ],
            [
             0.3,
             "#f1b6da"
            ],
            [
             0.4,
             "#fde0ef"
            ],
            [
             0.5,
             "#f7f7f7"
            ],
            [
             0.6,
             "#e6f5d0"
            ],
            [
             0.7,
             "#b8e186"
            ],
            [
             0.8,
             "#7fbc41"
            ],
            [
             0.9,
             "#4d9221"
            ],
            [
             1,
             "#276419"
            ]
           ],
           "sequential": [
            [
             0,
             "#0d0887"
            ],
            [
             0.1111111111111111,
             "#46039f"
            ],
            [
             0.2222222222222222,
             "#7201a8"
            ],
            [
             0.3333333333333333,
             "#9c179e"
            ],
            [
             0.4444444444444444,
             "#bd3786"
            ],
            [
             0.5555555555555556,
             "#d8576b"
            ],
            [
             0.6666666666666666,
             "#ed7953"
            ],
            [
             0.7777777777777778,
             "#fb9f3a"
            ],
            [
             0.8888888888888888,
             "#fdca26"
            ],
            [
             1,
             "#f0f921"
            ]
           ],
           "sequentialminus": [
            [
             0,
             "#0d0887"
            ],
            [
             0.1111111111111111,
             "#46039f"
            ],
            [
             0.2222222222222222,
             "#7201a8"
            ],
            [
             0.3333333333333333,
             "#9c179e"
            ],
            [
             0.4444444444444444,
             "#bd3786"
            ],
            [
             0.5555555555555556,
             "#d8576b"
            ],
            [
             0.6666666666666666,
             "#ed7953"
            ],
            [
             0.7777777777777778,
             "#fb9f3a"
            ],
            [
             0.8888888888888888,
             "#fdca26"
            ],
            [
             1,
             "#f0f921"
            ]
           ]
          },
          "colorway": [
           "#636efa",
           "#EF553B",
           "#00cc96",
           "#ab63fa",
           "#FFA15A",
           "#19d3f3",
           "#FF6692",
           "#B6E880",
           "#FF97FF",
           "#FECB52"
          ],
          "font": {
           "color": "#2a3f5f"
          },
          "geo": {
           "bgcolor": "white",
           "lakecolor": "white",
           "landcolor": "#E5ECF6",
           "showlakes": true,
           "showland": true,
           "subunitcolor": "white"
          },
          "hoverlabel": {
           "align": "left"
          },
          "hovermode": "closest",
          "mapbox": {
           "style": "light"
          },
          "paper_bgcolor": "white",
          "plot_bgcolor": "#E5ECF6",
          "polar": {
           "angularaxis": {
            "gridcolor": "white",
            "linecolor": "white",
            "ticks": ""
           },
           "bgcolor": "#E5ECF6",
           "radialaxis": {
            "gridcolor": "white",
            "linecolor": "white",
            "ticks": ""
           }
          },
          "scene": {
           "xaxis": {
            "backgroundcolor": "#E5ECF6",
            "gridcolor": "white",
            "gridwidth": 2,
            "linecolor": "white",
            "showbackground": true,
            "ticks": "",
            "zerolinecolor": "white"
           },
           "yaxis": {
            "backgroundcolor": "#E5ECF6",
            "gridcolor": "white",
            "gridwidth": 2,
            "linecolor": "white",
            "showbackground": true,
            "ticks": "",
            "zerolinecolor": "white"
           },
           "zaxis": {
            "backgroundcolor": "#E5ECF6",
            "gridcolor": "white",
            "gridwidth": 2,
            "linecolor": "white",
            "showbackground": true,
            "ticks": "",
            "zerolinecolor": "white"
           }
          },
          "shapedefaults": {
           "line": {
            "color": "#2a3f5f"
           }
          },
          "ternary": {
           "aaxis": {
            "gridcolor": "white",
            "linecolor": "white",
            "ticks": ""
           },
           "baxis": {
            "gridcolor": "white",
            "linecolor": "white",
            "ticks": ""
           },
           "bgcolor": "#E5ECF6",
           "caxis": {
            "gridcolor": "white",
            "linecolor": "white",
            "ticks": ""
           }
          },
          "title": {
           "x": 0.05
          },
          "xaxis": {
           "automargin": true,
           "gridcolor": "white",
           "linecolor": "white",
           "ticks": "",
           "title": {
            "standoff": 15
           },
           "zerolinecolor": "white",
           "zerolinewidth": 2
          },
          "yaxis": {
           "automargin": true,
           "gridcolor": "white",
           "linecolor": "white",
           "ticks": "",
           "title": {
            "standoff": 15
           },
           "zerolinecolor": "white",
           "zerolinewidth": 2
          }
         }
        },
        "title": {
         "text": "Average Volume and Highest Closing Price by Day of Month with Data Table"
        },
        "xaxis": {
         "anchor": "y",
         "domain": [
          0,
          0.63
         ],
         "title": {
          "text": "Day of Month"
         }
        },
        "yaxis": {
         "anchor": "x",
         "domain": [
          0,
          1
         ],
         "title": {
          "text": "Average Volume"
         }
        }
       }
      },
      "text/html": [
       "<div>                            <div id=\"96ae053c-c042-4395-8e39-1052e73398b4\" class=\"plotly-graph-div\" style=\"height:525px; width:100%;\"></div>            <script type=\"text/javascript\">                require([\"plotly\"], function(Plotly) {                    window.PLOTLYENV=window.PLOTLYENV || {};                                    if (document.getElementById(\"96ae053c-c042-4395-8e39-1052e73398b4\")) {                    Plotly.newPlot(                        \"96ae053c-c042-4395-8e39-1052e73398b4\",                        [{\"name\":\"Average Volume\",\"x\":[1,2,3,4,5,6,7,8,9,10,11,12,13,14,15,16,17,18,19,20,21,22,23,24,25,26,27,28,29,30,31],\"y\":[360518326.8181818,327261734.6363636,344767815.45454544,339408406.3636364,277478550.45454544,316755774.90909094,331802979.72727275,317855990.3636364,287138456.3636364,381732992.54545456,348695625.1818182,319886107.0,297803271.8181818,582753873.0,483022139.90909094,331101991.54545456,422814489.54545456,398112063.54545456,376406129.8181818,417622495.1818182,402548120.6363636,485869837.1818182,410575256.09090906,387137419.1818182,381107821.54545456,314842367.72727275,303742465.54545456,347218449.90909094,326473522.2,373891748.8,484705706.5],\"type\":\"bar\",\"xaxis\":\"x\",\"yaxis\":\"y\"},{\"marker\":{\"color\":\"orange\"},\"mode\":\"markers+lines\",\"name\":\"Highest Close Price\",\"x\":[1,2,3,4,5,6,7,8,9,10,11,12,13,14,15,16,17,18,19,20,21,22,23,24,25,26,27,28,29,30,31],\"y\":[0.6976,0.7069,0.685,0.663,0.6356,0.6607,0.7148,0.685,0.6869,0.6665,0.6595,0.6626,0.6613,0.8153,0.7179,0.7145,0.7468,0.7374,0.7779,0.8199,0.7942,0.7713,0.7331,0.7384,0.7021,0.7089,0.7161,0.7139,0.712,0.7121,0.7046],\"type\":\"scatter\",\"xaxis\":\"x\",\"yaxis\":\"y\"},{\"cells\":{\"align\":\"left\",\"fill\":{\"color\":\"lavender\"},\"values\":[[1,2,3,4,5,6,7,8,9,10,11,12,13,14,15,16,17,18,19,20,21,22,23,24,25,26,27,28,29,30,31],[360518326.82,327261734.64,344767815.45,339408406.36,277478550.45,316755774.91,331802979.73,317855990.36,287138456.36,381732992.55,348695625.18,319886107.0,297803271.82,582753873.0,483022139.91,331101991.55,422814489.55,398112063.55,376406129.82,417622495.18,402548120.64,485869837.18,410575256.09,387137419.18,381107821.55,314842367.73,303742465.55,347218449.91,326473522.2,373891748.8,484705706.5],[0.7,0.71,0.68,0.66,0.64,0.66,0.71,0.68,0.69,0.67,0.66,0.66,0.66,0.82,0.72,0.71,0.75,0.74,0.78,0.82,0.79,0.77,0.73,0.74,0.7,0.71,0.72,0.71,0.71,0.71,0.7]]},\"header\":{\"align\":\"left\",\"fill\":{\"color\":\"paleturquoise\"},\"values\":[\"Day\",\"Average Volume\",\"Highest Close Price\"]},\"type\":\"table\",\"domain\":{\"x\":[0.73,1.0],\"y\":[0.0,1.0]}}],                        {\"template\":{\"data\":{\"histogram2dcontour\":[{\"type\":\"histogram2dcontour\",\"colorbar\":{\"outlinewidth\":0,\"ticks\":\"\"},\"colorscale\":[[0.0,\"#0d0887\"],[0.1111111111111111,\"#46039f\"],[0.2222222222222222,\"#7201a8\"],[0.3333333333333333,\"#9c179e\"],[0.4444444444444444,\"#bd3786\"],[0.5555555555555556,\"#d8576b\"],[0.6666666666666666,\"#ed7953\"],[0.7777777777777778,\"#fb9f3a\"],[0.8888888888888888,\"#fdca26\"],[1.0,\"#f0f921\"]]}],\"choropleth\":[{\"type\":\"choropleth\",\"colorbar\":{\"outlinewidth\":0,\"ticks\":\"\"}}],\"histogram2d\":[{\"type\":\"histogram2d\",\"colorbar\":{\"outlinewidth\":0,\"ticks\":\"\"},\"colorscale\":[[0.0,\"#0d0887\"],[0.1111111111111111,\"#46039f\"],[0.2222222222222222,\"#7201a8\"],[0.3333333333333333,\"#9c179e\"],[0.4444444444444444,\"#bd3786\"],[0.5555555555555556,\"#d8576b\"],[0.6666666666666666,\"#ed7953\"],[0.7777777777777778,\"#fb9f3a\"],[0.8888888888888888,\"#fdca26\"],[1.0,\"#f0f921\"]]}],\"heatmap\":[{\"type\":\"heatmap\",\"colorbar\":{\"outlinewidth\":0,\"ticks\":\"\"},\"colorscale\":[[0.0,\"#0d0887\"],[0.1111111111111111,\"#46039f\"],[0.2222222222222222,\"#7201a8\"],[0.3333333333333333,\"#9c179e\"],[0.4444444444444444,\"#bd3786\"],[0.5555555555555556,\"#d8576b\"],[0.6666666666666666,\"#ed7953\"],[0.7777777777777778,\"#fb9f3a\"],[0.8888888888888888,\"#fdca26\"],[1.0,\"#f0f921\"]]}],\"heatmapgl\":[{\"type\":\"heatmapgl\",\"colorbar\":{\"outlinewidth\":0,\"ticks\":\"\"},\"colorscale\":[[0.0,\"#0d0887\"],[0.1111111111111111,\"#46039f\"],[0.2222222222222222,\"#7201a8\"],[0.3333333333333333,\"#9c179e\"],[0.4444444444444444,\"#bd3786\"],[0.5555555555555556,\"#d8576b\"],[0.6666666666666666,\"#ed7953\"],[0.7777777777777778,\"#fb9f3a\"],[0.8888888888888888,\"#fdca26\"],[1.0,\"#f0f921\"]]}],\"contourcarpet\":[{\"type\":\"contourcarpet\",\"colorbar\":{\"outlinewidth\":0,\"ticks\":\"\"}}],\"contour\":[{\"type\":\"contour\",\"colorbar\":{\"outlinewidth\":0,\"ticks\":\"\"},\"colorscale\":[[0.0,\"#0d0887\"],[0.1111111111111111,\"#46039f\"],[0.2222222222222222,\"#7201a8\"],[0.3333333333333333,\"#9c179e\"],[0.4444444444444444,\"#bd3786\"],[0.5555555555555556,\"#d8576b\"],[0.6666666666666666,\"#ed7953\"],[0.7777777777777778,\"#fb9f3a\"],[0.8888888888888888,\"#fdca26\"],[1.0,\"#f0f921\"]]}],\"surface\":[{\"type\":\"surface\",\"colorbar\":{\"outlinewidth\":0,\"ticks\":\"\"},\"colorscale\":[[0.0,\"#0d0887\"],[0.1111111111111111,\"#46039f\"],[0.2222222222222222,\"#7201a8\"],[0.3333333333333333,\"#9c179e\"],[0.4444444444444444,\"#bd3786\"],[0.5555555555555556,\"#d8576b\"],[0.6666666666666666,\"#ed7953\"],[0.7777777777777778,\"#fb9f3a\"],[0.8888888888888888,\"#fdca26\"],[1.0,\"#f0f921\"]]}],\"mesh3d\":[{\"type\":\"mesh3d\",\"colorbar\":{\"outlinewidth\":0,\"ticks\":\"\"}}],\"scatter\":[{\"fillpattern\":{\"fillmode\":\"overlay\",\"size\":10,\"solidity\":0.2},\"type\":\"scatter\"}],\"parcoords\":[{\"type\":\"parcoords\",\"line\":{\"colorbar\":{\"outlinewidth\":0,\"ticks\":\"\"}}}],\"scatterpolargl\":[{\"type\":\"scatterpolargl\",\"marker\":{\"colorbar\":{\"outlinewidth\":0,\"ticks\":\"\"}}}],\"bar\":[{\"error_x\":{\"color\":\"#2a3f5f\"},\"error_y\":{\"color\":\"#2a3f5f\"},\"marker\":{\"line\":{\"color\":\"#E5ECF6\",\"width\":0.5},\"pattern\":{\"fillmode\":\"overlay\",\"size\":10,\"solidity\":0.2}},\"type\":\"bar\"}],\"scattergeo\":[{\"type\":\"scattergeo\",\"marker\":{\"colorbar\":{\"outlinewidth\":0,\"ticks\":\"\"}}}],\"scatterpolar\":[{\"type\":\"scatterpolar\",\"marker\":{\"colorbar\":{\"outlinewidth\":0,\"ticks\":\"\"}}}],\"histogram\":[{\"marker\":{\"pattern\":{\"fillmode\":\"overlay\",\"size\":10,\"solidity\":0.2}},\"type\":\"histogram\"}],\"scattergl\":[{\"type\":\"scattergl\",\"marker\":{\"colorbar\":{\"outlinewidth\":0,\"ticks\":\"\"}}}],\"scatter3d\":[{\"type\":\"scatter3d\",\"line\":{\"colorbar\":{\"outlinewidth\":0,\"ticks\":\"\"}},\"marker\":{\"colorbar\":{\"outlinewidth\":0,\"ticks\":\"\"}}}],\"scattermapbox\":[{\"type\":\"scattermapbox\",\"marker\":{\"colorbar\":{\"outlinewidth\":0,\"ticks\":\"\"}}}],\"scatterternary\":[{\"type\":\"scatterternary\",\"marker\":{\"colorbar\":{\"outlinewidth\":0,\"ticks\":\"\"}}}],\"scattercarpet\":[{\"type\":\"scattercarpet\",\"marker\":{\"colorbar\":{\"outlinewidth\":0,\"ticks\":\"\"}}}],\"carpet\":[{\"aaxis\":{\"endlinecolor\":\"#2a3f5f\",\"gridcolor\":\"white\",\"linecolor\":\"white\",\"minorgridcolor\":\"white\",\"startlinecolor\":\"#2a3f5f\"},\"baxis\":{\"endlinecolor\":\"#2a3f5f\",\"gridcolor\":\"white\",\"linecolor\":\"white\",\"minorgridcolor\":\"white\",\"startlinecolor\":\"#2a3f5f\"},\"type\":\"carpet\"}],\"table\":[{\"cells\":{\"fill\":{\"color\":\"#EBF0F8\"},\"line\":{\"color\":\"white\"}},\"header\":{\"fill\":{\"color\":\"#C8D4E3\"},\"line\":{\"color\":\"white\"}},\"type\":\"table\"}],\"barpolar\":[{\"marker\":{\"line\":{\"color\":\"#E5ECF6\",\"width\":0.5},\"pattern\":{\"fillmode\":\"overlay\",\"size\":10,\"solidity\":0.2}},\"type\":\"barpolar\"}],\"pie\":[{\"automargin\":true,\"type\":\"pie\"}]},\"layout\":{\"autotypenumbers\":\"strict\",\"colorway\":[\"#636efa\",\"#EF553B\",\"#00cc96\",\"#ab63fa\",\"#FFA15A\",\"#19d3f3\",\"#FF6692\",\"#B6E880\",\"#FF97FF\",\"#FECB52\"],\"font\":{\"color\":\"#2a3f5f\"},\"hovermode\":\"closest\",\"hoverlabel\":{\"align\":\"left\"},\"paper_bgcolor\":\"white\",\"plot_bgcolor\":\"#E5ECF6\",\"polar\":{\"bgcolor\":\"#E5ECF6\",\"angularaxis\":{\"gridcolor\":\"white\",\"linecolor\":\"white\",\"ticks\":\"\"},\"radialaxis\":{\"gridcolor\":\"white\",\"linecolor\":\"white\",\"ticks\":\"\"}},\"ternary\":{\"bgcolor\":\"#E5ECF6\",\"aaxis\":{\"gridcolor\":\"white\",\"linecolor\":\"white\",\"ticks\":\"\"},\"baxis\":{\"gridcolor\":\"white\",\"linecolor\":\"white\",\"ticks\":\"\"},\"caxis\":{\"gridcolor\":\"white\",\"linecolor\":\"white\",\"ticks\":\"\"}},\"coloraxis\":{\"colorbar\":{\"outlinewidth\":0,\"ticks\":\"\"}},\"colorscale\":{\"sequential\":[[0.0,\"#0d0887\"],[0.1111111111111111,\"#46039f\"],[0.2222222222222222,\"#7201a8\"],[0.3333333333333333,\"#9c179e\"],[0.4444444444444444,\"#bd3786\"],[0.5555555555555556,\"#d8576b\"],[0.6666666666666666,\"#ed7953\"],[0.7777777777777778,\"#fb9f3a\"],[0.8888888888888888,\"#fdca26\"],[1.0,\"#f0f921\"]],\"sequentialminus\":[[0.0,\"#0d0887\"],[0.1111111111111111,\"#46039f\"],[0.2222222222222222,\"#7201a8\"],[0.3333333333333333,\"#9c179e\"],[0.4444444444444444,\"#bd3786\"],[0.5555555555555556,\"#d8576b\"],[0.6666666666666666,\"#ed7953\"],[0.7777777777777778,\"#fb9f3a\"],[0.8888888888888888,\"#fdca26\"],[1.0,\"#f0f921\"]],\"diverging\":[[0,\"#8e0152\"],[0.1,\"#c51b7d\"],[0.2,\"#de77ae\"],[0.3,\"#f1b6da\"],[0.4,\"#fde0ef\"],[0.5,\"#f7f7f7\"],[0.6,\"#e6f5d0\"],[0.7,\"#b8e186\"],[0.8,\"#7fbc41\"],[0.9,\"#4d9221\"],[1,\"#276419\"]]},\"xaxis\":{\"gridcolor\":\"white\",\"linecolor\":\"white\",\"ticks\":\"\",\"title\":{\"standoff\":15},\"zerolinecolor\":\"white\",\"automargin\":true,\"zerolinewidth\":2},\"yaxis\":{\"gridcolor\":\"white\",\"linecolor\":\"white\",\"ticks\":\"\",\"title\":{\"standoff\":15},\"zerolinecolor\":\"white\",\"automargin\":true,\"zerolinewidth\":2},\"scene\":{\"xaxis\":{\"backgroundcolor\":\"#E5ECF6\",\"gridcolor\":\"white\",\"linecolor\":\"white\",\"showbackground\":true,\"ticks\":\"\",\"zerolinecolor\":\"white\",\"gridwidth\":2},\"yaxis\":{\"backgroundcolor\":\"#E5ECF6\",\"gridcolor\":\"white\",\"linecolor\":\"white\",\"showbackground\":true,\"ticks\":\"\",\"zerolinecolor\":\"white\",\"gridwidth\":2},\"zaxis\":{\"backgroundcolor\":\"#E5ECF6\",\"gridcolor\":\"white\",\"linecolor\":\"white\",\"showbackground\":true,\"ticks\":\"\",\"zerolinecolor\":\"white\",\"gridwidth\":2}},\"shapedefaults\":{\"line\":{\"color\":\"#2a3f5f\"}},\"annotationdefaults\":{\"arrowcolor\":\"#2a3f5f\",\"arrowhead\":0,\"arrowwidth\":1},\"geo\":{\"bgcolor\":\"white\",\"landcolor\":\"#E5ECF6\",\"subunitcolor\":\"white\",\"showland\":true,\"showlakes\":true,\"lakecolor\":\"white\"},\"title\":{\"x\":0.05},\"mapbox\":{\"style\":\"light\"}}},\"xaxis\":{\"anchor\":\"y\",\"domain\":[0.0,0.63],\"title\":{\"text\":\"Day of Month\"}},\"yaxis\":{\"anchor\":\"x\",\"domain\":[0.0,1.0],\"title\":{\"text\":\"Average Volume\"}},\"shapes\":[{\"line\":{\"color\":\"red\",\"width\":2},\"type\":\"line\",\"x0\":0,\"x1\":1,\"xref\":\"x domain\",\"y0\":368765501.26047903,\"y1\":368765501.26047903,\"yref\":\"y\"}],\"annotations\":[{\"showarrow\":false,\"text\":\"Average: 368765501.26\",\"x\":31,\"xref\":\"x\",\"y\":368765501.26047903,\"yref\":\"y\",\"yshift\":10}],\"title\":{\"text\":\"Average Volume and Highest Closing Price by Day of Month with Data Table\"},\"showlegend\":true,\"plot_bgcolor\":\"white\"},                        {\"responsive\": true}                    ).then(function(){\n",
       "                            \n",
       "var gd = document.getElementById('96ae053c-c042-4395-8e39-1052e73398b4');\n",
       "var x = new MutationObserver(function (mutations, observer) {{\n",
       "        var display = window.getComputedStyle(gd).display;\n",
       "        if (!display || display === 'none') {{\n",
       "            console.log([gd, 'removed!']);\n",
       "            Plotly.purge(gd);\n",
       "            observer.disconnect();\n",
       "        }}\n",
       "}});\n",
       "\n",
       "// Listen for the removal of the full notebook cells\n",
       "var notebookContainer = gd.closest('#notebook-container');\n",
       "if (notebookContainer) {{\n",
       "    x.observe(notebookContainer, {childList: true});\n",
       "}}\n",
       "\n",
       "// Listen for the clearing of the current output cell\n",
       "var outputEl = gd.closest('.output');\n",
       "if (outputEl) {{\n",
       "    x.observe(outputEl, {childList: true});\n",
       "}}\n",
       "\n",
       "                        })                };                });            </script>        </div>"
      ]
     },
     "metadata": {},
     "output_type": "display_data"
    }
   ],
   "source": [
    "import plotly.graph_objs as go\n",
    "from plotly.subplots import make_subplots\n",
    "\n",
    "# Assuming 'Close_time' is the index of full_data and it's in datetime format\n",
    "# Extracting the day from the index\n",
    "full_data['Day'] = full_data.index.day\n",
    "\n",
    "# Group by 'Day' and calculate the average volume and highest closing price\n",
    "average_volume_by_day = full_data.groupby('Day')['Volume'].mean()\n",
    "highest_close_by_day = full_data.groupby('Day')['Close'].max()\n",
    "\n",
    "# Calculate the overall average volume for comparison\n",
    "overall_average_volume = full_data['Volume'].mean()\n",
    "\n",
    "# Create a subplot with 1 row and 2 columns\n",
    "# The first column will have the graph and the second column will have the table\n",
    "fig = make_subplots(rows=1, cols=2, column_widths=[0.7, 0.3], \n",
    "                    specs=[[{\"type\": \"xy\"}, {\"type\": \"table\"}]])\n",
    "\n",
    "# Add the bar chart for average volume to the first column\n",
    "fig.add_trace(go.Bar(x=average_volume_by_day.index, y=average_volume_by_day, \n",
    "                     name='Average Volume'), row=1, col=1)\n",
    "\n",
    "# Add the scatter plot for the highest closing price to the first column\n",
    "fig.add_trace(go.Scatter(x=highest_close_by_day.index, y=highest_close_by_day,\n",
    "                         mode='markers+lines', name='Highest Close Price', \n",
    "                         marker=dict(color='orange')), row=1, col=1)\n",
    "\n",
    "# Adding a line for the overall average volume in the first column\n",
    "fig.add_hline(y=overall_average_volume, line=dict(color='red', width=2), row=1, col=1)\n",
    "\n",
    "# Annotations for the overall average volume in the first column\n",
    "fig.add_annotation(x=max(average_volume_by_day.index), y=overall_average_volume, \n",
    "                   text=f'Average: {overall_average_volume:.2f}', \n",
    "                   showarrow=False, yshift=10, row=1, col=1)\n",
    "\n",
    "# Add the table to the second column\n",
    "fig.add_trace(go.Table(\n",
    "    header=dict(values=['Day', 'Average Volume', 'Highest Close Price'],\n",
    "                fill_color='paleturquoise',\n",
    "                align='left'),\n",
    "    cells=dict(values=[average_volume_by_day.index, \n",
    "                       average_volume_by_day.round(2), \n",
    "                       highest_close_by_day.round(2)],\n",
    "               fill_color='lavender',\n",
    "               align='left')), row=1, col=2)\n",
    "\n",
    "# Update layout for a more modern look and to accommodate the highest close price trace\n",
    "fig.update_layout(\n",
    "    title='Average Volume and Highest Closing Price by Day of Month with Data Table',\n",
    "    showlegend=True,\n",
    "    plot_bgcolor='white'\n",
    ")\n",
    "\n",
    "# Update xaxis and yaxis properties for the first column\n",
    "fig.update_xaxes(title_text='Day of Month', row=1, col=1)\n",
    "fig.update_yaxes(title_text='Average Volume', row=1, col=1)\n",
    "\n",
    "fig.show()\n"
   ]
  },
  {
   "cell_type": "markdown",
   "id": "c417628f",
   "metadata": {},
   "source": [
    "### Trends"
   ]
  },
  {
   "cell_type": "code",
   "execution_count": 33,
   "id": "454eb9d5",
   "metadata": {},
   "outputs": [],
   "source": [
    "full_data[\"Quote_asset_volume\"] = full_data[\"Quote_asset_volume\"].astype(float)\n",
    "full_data[\"Taker_buy_quote_asset_vol\"] = full_data[\"Taker_buy_quote_asset_vol\"].astype(float)\n"
   ]
  },
  {
   "cell_type": "code",
   "execution_count": 40,
   "id": "d7836266",
   "metadata": {},
   "outputs": [
    {
     "data": {
      "application/vnd.jupyter.widget-view+json": {
       "model_id": "b4563a68b5ad47cc99afded4bc75e258",
       "version_major": 2,
       "version_minor": 0
      },
      "text/plain": [
       "interactive(children=(Dropdown(description='Column:', options=('Open_time', 'Open', 'High', 'Low', 'Close', 'V…"
      ]
     },
     "metadata": {},
     "output_type": "display_data"
    }
   ],
   "source": [
    "def update_plot(column):\n",
    "    fig = px.line(full_data, x=full_data.index, y=column, labels={'x': 'Time', 'y': column},\n",
    "                  title=f'Trend of {column}')\n",
    "    fig.update_layout(\n",
    "        autosize=True,\n",
    "        margin=dict(l=40, r=40, t=40, b=40),\n",
    "        showlegend=True\n",
    "    )\n",
    "    fig.show()\n",
    "\n",
    "\n",
    "# Dropdown for column selection\n",
    "column_dropdown = widgets.Dropdown(\n",
    "    options=[col for col in full_data.columns if col != 'Close_time'],  # Excluding 'Open_time' from the options\n",
    "    description='Column:',\n",
    "    disabled=False,\n",
    ")\n",
    "\n",
    "# Interactive widget\n",
    "widgets.interactive(update_plot, column=column_dropdown)\n"
   ]
  },
  {
   "cell_type": "markdown",
   "id": "b7715cdd",
   "metadata": {},
   "source": [
    "### Correlation between Volume and Quote Asset Volume"
   ]
  },
  {
   "cell_type": "code",
   "execution_count": null,
   "id": "b570938a",
   "metadata": {},
   "outputs": [],
   "source": []
  },
  {
   "cell_type": "code",
   "execution_count": 38,
   "id": "5eb65ba9",
   "metadata": {},
   "outputs": [
    {
     "name": "stdout",
     "output_type": "stream",
     "text": [
      "Correlation: 0.9391696845345584\n",
      "P-value: 3.7694899362211613e-156\n"
     ]
    }
   ],
   "source": [
    "# Calculate correlation and p-value\n",
    "correlation, p_value = pearsonr(full_data['Volume'], full_data['Quote_asset_volume'])\n",
    "\n",
    "print(\"Correlation:\", correlation)\n",
    "print(\"P-value:\", p_value)\n",
    "# correlation not statistically significant"
   ]
  },
  {
   "cell_type": "code",
   "execution_count": null,
   "id": "dd86bfd6",
   "metadata": {},
   "outputs": [],
   "source": []
  },
  {
   "cell_type": "markdown",
   "id": "41c66e51",
   "metadata": {},
   "source": [
    "## Prediction"
   ]
  },
  {
   "cell_type": "markdown",
   "id": "a9c6e587",
   "metadata": {},
   "source": [
    "### Determine sesonality"
   ]
  },
  {
   "cell_type": "code",
   "execution_count": null,
   "id": "9f3e2296",
   "metadata": {
    "scrolled": true
   },
   "outputs": [],
   "source": [
    "decomposition = seasonal_decompose(full_data[\"Close\"], model='additive', period=7)  # period depends on data frequency\n",
    "decomposition.plot()\n"
   ]
  },
  {
   "cell_type": "markdown",
   "id": "bb272d67",
   "metadata": {},
   "source": [
    "### Determining p, d, q"
   ]
  },
  {
   "cell_type": "code",
   "execution_count": null,
   "id": "1eff64df",
   "metadata": {},
   "outputs": [],
   "source": [
    "st=full_data[\"Volume\"]\n",
    "statio= adfuller(st)\n",
    "\n",
    "import pandas as pd\n",
    "\n",
    "# Assuming 'statio' is the result from the adfuller test\n",
    "adf_statistic = statio[0]\n",
    "p_value = statio[1]\n",
    "critical_values = statio[4]\n",
    "\n",
    "# Creating a dictionary for DataFrame construction\n",
    "adf_results = {\n",
    "    'Metric': ['ADF Statistic', 'p-value'],\n",
    "    'Value': [adf_statistic, p_value]\n",
    "}\n",
    "\n",
    "# Adding critical values\n",
    "for key, value in critical_values.items():\n",
    "    adf_results['Metric'].append(f'Critical Value ({key})')\n",
    "    adf_results['Value'].append(value)\n",
    "\n",
    "# Creating DataFrame\n",
    "adf_results_df = pd.DataFrame(adf_results)\n",
    "\n",
    "# Displaying the DataFrame\n",
    "adf_results_df\n",
    "\n",
    "# my data can be considered stationary for autocorrelation (value d in arima model, in this case 0)"
   ]
  },
  {
   "cell_type": "code",
   "execution_count": null,
   "id": "0e6ed783",
   "metadata": {},
   "outputs": [],
   "source": [
    "st=full_data[\"Close\"]\n",
    "statio= adfuller(st)\n",
    "\n",
    "import pandas as pd\n",
    "\n",
    "# Assuming 'statio' is the result from the adfuller test\n",
    "adf_statistic = statio[0]\n",
    "p_value = statio[1]\n",
    "critical_values = statio[4]\n",
    "\n",
    "# Creating a dictionary for DataFrame construction\n",
    "adf_results = {\n",
    "    'Metric': ['ADF Statistic', 'p-value'],\n",
    "    'Value': [adf_statistic, p_value]\n",
    "}\n",
    "\n",
    "# Adding critical values\n",
    "for key, value in critical_values.items():\n",
    "    adf_results['Metric'].append(f'Critical Value ({key})')\n",
    "    adf_results['Value'].append(value)\n",
    "\n",
    "# Creating DataFrame\n",
    "adf_results_df = pd.DataFrame(adf_results)\n",
    "\n",
    "# Displaying the DataFrame\n",
    "adf_results_df\n",
    "\n",
    "# my data can be considered stationary for autocorrelation (value d in arima model, in this case not  0)"
   ]
  },
  {
   "cell_type": "code",
   "execution_count": null,
   "id": "7ce16856",
   "metadata": {},
   "outputs": [],
   "source": [
    "# Plot PACF: To identify parameter p\n",
    "plot_pacf(full_data[\"Close\"], lags=40)  # Adjust 'lags' as needed\n",
    "plt.show()\n",
    "\n",
    "# Plot ACF: To identify parameter q\n",
    "plot_acf(full_data[\"Close\"], lags=40)  # Adjust 'lags' as needed\n",
    "plt.show()\n"
   ]
  },
  {
   "cell_type": "markdown",
   "id": "a238b329",
   "metadata": {},
   "source": [
    "The Partial Autocorrelation Function (PACF) plot you've provided shows the correlation of the series with its own lagged values, adjusted for the values of the time series at all shorter lags. In an ARIMA model, the 'p' parameter can often be estimated by the number of lags after which the PACF cuts off (i.e., the PACF becomes insignificant beyond a certain lag).\n",
    "\n",
    "In the PACF plot you've uploaded, it appears that there is a significant spike at lag 1 (the first blue bar), after which the PACF values fall within the confidence interval (the blue shaded area represents the confidence interval, typically at 95%). This suggests that an AR(1) model may be appropriate, so you might start with `p = 1`.\n",
    "\n",
    "It's important to consider that this is a heuristic approach and that the true underlying process may be more complex. Therefore, it is common to test a few different values of 'p' around the one suggested by the PACF plot to ensure the best model fit. You should also evaluate the model using criteria such as the Akaike Information Criterion (AIC) to compare the goodness of fit for different models.\n",
    "\n",
    "The Autocorrelation Function (ACF) plot provides insight into the 'q' parameter for an ARIMA model, which represents the order of the Moving Average (MA) component.\n",
    "\n",
    "In the ACF plot you've provided, we're looking for the point at which the autocorrelations become insignificant (i.e., fall within the confidence interval represented by the shaded area). In your plot, the autocorrelations gradually decrease but remain above the confidence interval for many lags. This might suggest a higher order of MA component, but it's not clear-cut.\n",
    "\n",
    "Typically, you'd look for the lag at which the ACF cuts off (drops to zero or within the confidence interval) for the first time to determine 'q'. However, since the ACF values slowly decay and do not cut off sharply, this could indicate a more complex process, or it might suggest that the data requires a different form of differencing or transformation.\n",
    "\n",
    "For a more decisive determination of 'q', you might look for the first lag where the ACF is within the confidence interval and stays within it for subsequent lags. If this decay pattern continues without a clear cut-off point, you may want to revisit the stationarity of your data, or consider a different modeling approach such as ARIMA with seasonal differencing or a more complex model like SARIMA if seasonality is present.\n",
    "\n",
    "Given the ambiguity in the ACF plot, you might start with a lower 'q' value (like 1 or 2) and use model selection criteria (like AIC or BIC) to find the best model. It's also possible that an ARIMA model may not be the best choice if the data has this form of decay in the ACF without a clear cut-off, and exploring alternative models or additional differencing might be warranted.\n",
    "\n",
    "\n",
    "\n",
    "\n",
    "\n"
   ]
  },
  {
   "cell_type": "markdown",
   "id": "21d864c6",
   "metadata": {},
   "source": [
    "###  Split data"
   ]
  },
  {
   "cell_type": "code",
   "execution_count": null,
   "id": "76dce496",
   "metadata": {},
   "outputs": [],
   "source": [
    "# Splitting the data into train and test sets\n",
    "train_size = int(len(full_data[\"Close\"]) * 0.7)\n",
    "train, test = full_data[\"Close\"][0:train_size], full_data[\"Close\"][train_size:len(full_data)]\n"
   ]
  },
  {
   "cell_type": "markdown",
   "id": "f752c5cd",
   "metadata": {},
   "source": [
    "### Choosing a model "
   ]
  },
  {
   "cell_type": "markdown",
   "id": "7c281956",
   "metadata": {},
   "source": [
    "Model selection criteria are statistical methods used to choose between different statistical models. In time series analysis and other modeling tasks, these criteria help to balance goodness-of-fit against model complexity (to avoid overfitting). The most commonly used model selection criteria include:\n",
    "\n",
    "1. **Akaike Information Criterion (AIC)**:\n",
    "   - AIC = 2k - 2ln(L),\n",
    "   - where k is the number of parameters in the model, and L is the likelihood of the model.\n",
    "   - AIC rewards goodness of fit but also includes a penalty that increases with the number of estimated parameters.\n",
    "   - The model with the lowest AIC is generally preferred.\n",
    "\n",
    "2. **Bayesian Information Criterion (BIC)**:\n",
    "   - BIC = ln(n)k - 2ln(L),\n",
    "   - where n is the number of observations, k is the number of parameters, and L is the likelihood of the model.\n",
    "   - BIC includes a penalty term for the number of parameters in the model that is larger than that of the AIC.\n",
    "   - The model with the lowest BIC is generally preferred, especially when the sample size is large.\n",
    "\n",
    "3. **Hannan-Quinn Information Criterion (HQIC)**:\n",
    "   - HQIC = 2k ln(ln(n)) - 2ln(L),\n",
    "   - It's similar to AIC and BIC but has a different penalty term, and it's not as widely used.\n",
    "\n",
    "The AIC and BIC are both designed to prevent overfitting:\n",
    "\n",
    "- **Overfitting** occurs when a model becomes too complex and starts to capture the random noise in the data rather than the underlying process.\n",
    "- **Underfitting** occurs when a model is too simple to capture the underlying process in the data.\n",
    "\n",
    "Both AIC and BIC try to select the model that most adequately fits the data without introducing unnecessary complexity. However, BIC tends to penalize complex models more heavily than AIC, particularly when the sample size is large. This means that BIC may tend to choose simpler models than AIC.\n",
    "\n",
    "In practice, you should compare models using both AIC and BIC and consider the context of the problem and the sample size when making your decision. It is also essential to validate the chosen model's predictive performance using hold-out data or cross-validation."
   ]
  },
  {
   "cell_type": "code",
   "execution_count": null,
   "id": "b0c084c0",
   "metadata": {},
   "outputs": [],
   "source": [
    "# Fit an ARIMA model (you should determine the order (p, d, q) beforehand)\n",
    "model =ARIMA(full_data[\"Close\"], order=(1, 1, 1))  # Replace p, d, q with appropriate values\n",
    "model_fit = model.fit()\n",
    "\n",
    "# Get the AIC\n",
    "aic = model_fit.aic\n",
    "print(f'The AIC of the model is: {aic}')\n"
   ]
  },
  {
   "cell_type": "code",
   "execution_count": null,
   "id": "e926abb3",
   "metadata": {},
   "outputs": [],
   "source": [
    "# Fit an ARIMA model (you should determine the order (p, d, q) beforehand)\n",
    "model =ARIMA(full_data[\"Close\"], order=(1, 2, 2))  # Replace p, d, q with appropriate values\n",
    "model_fit = model.fit()\n",
    "\n",
    "# Get the AIC\n",
    "aic = model_fit.aic\n",
    "print(f'The AIC of the model is: {aic}')\n"
   ]
  },
  {
   "cell_type": "code",
   "execution_count": null,
   "id": "cdf11fa6",
   "metadata": {},
   "outputs": [],
   "source": [
    "full_data.set_index('Close_time', inplace=True)\n",
    "\n",
    "# Define SARIMA model parameters\n",
    "p = 1  # Non-seasonal autoregressive order\n",
    "d = 1  # Non-seasonal differencing order\n",
    "q = 1  # Non-seasonal moving average order\n",
    "P = 1  # Seasonal autoregressive order\n",
    "D = 1  # Seasonal differencing order\n",
    "Q = 1  # Seasonal moving average order\n",
    "s = 12  # Seasonal period (e.g., 12 for monthly data)\n",
    "\n",
    "# Create and fit the SARIMA model\n",
    "sarima_model = sm.tsa.SARIMAX(\n",
    "    full_data[\"Close\"],\n",
    "    order=(p, d, q),\n",
    "    seasonal_order=(P, D, Q, s),\n",
    "    enforce_stationarity=False,  # Allow non-stationary components\n",
    "    enforce_invertibility=False  # Allow non-invertible components\n",
    ")\n",
    "sarima_results = sarima_model.fit()\n",
    "\n",
    "# Get the AIC\n",
    "aic = model_fit.aic\n",
    "print(f'The AIC of the model is: {aic}')\n",
    "\n",
    "# Print model summary\n",
    "print(sarima_results.summary())\n"
   ]
  },
  {
   "cell_type": "markdown",
   "id": "3fc8d20e",
   "metadata": {},
   "source": [
    "Determining the appropriate parameters for a SARIMA (Seasonal Autoregressive Integrated Moving Average) model can be a critical and sometimes iterative process. The goal is to find the model parameters that provide the best fit to your time series data. Here are the general steps to determine SARIMA parameters:\n",
    "\n",
    "Visualize the Data:\n",
    "Start by plotting your time series data to get a sense of its characteristics. Look for trends, seasonality, and any other patterns that may be present.\n",
    "\n",
    "Identify Seasonality:\n",
    "Determine the seasonal period (s) of your data. For example, if you're working with monthly data, the seasonal period is typically 12 for yearly seasonality.\n",
    "\n",
    "Stationarity Check:\n",
    "Ensure that your time series is stationary. Stationarity means that the statistical properties of the time series, such as mean and variance, do not change over time. You can use statistical tests like the Augmented Dickey-Fuller (ADF) test to check for stationarity. If the data is not stationary, you may need to apply differencing (d) to make it stationary.\n",
    "\n",
    "Autocorrelation and Partial Autocorrelation Analysis:\n",
    "Examine the autocorrelation function (ACF) and partial autocorrelation function (PACF) plots of the differenced data. These plots can help you identify potential values for the non-seasonal autoregressive (p) and moving average (q) orders.\n",
    "\n",
    "ACF plot: Significant spikes at lags indicate the potential value of q.\n",
    "PACF plot: Significant spikes at lags indicate the potential value of p.\n",
    "Seasonal Autocorrelation and Partial Autocorrelation Analysis:\n",
    "Similarly, analyze the ACF and PACF plots for the seasonal differences of the data. These plots can help you determine the values of the seasonal autoregressive (P) and moving average (Q) orders.\n",
    "\n",
    "Seasonal ACF plot: Significant spikes at seasonal lags indicate the potential value of Q.\n",
    "Seasonal PACF plot: Significant spikes at seasonal lags indicate the potential value of P.\n",
    "Initial Parameter Selection:\n",
    "Based on the visual analysis and autocorrelation plots, you can make initial parameter selections for p, d, q, P, D, and Q. These selections serve as starting points for model estimation.\n",
    "\n",
    "Model Estimation and Evaluation:\n",
    "Use the initial parameter values to estimate a SARIMA model. Fit the model to your data and evaluate its goodness of fit using metrics like AIC (Akaike Information Criterion) and BIC (Bayesian Information Criterion). Lower AIC and BIC values indicate a better-fitting model.\n",
    "\n",
    "Iterate and Refine:\n",
    "If the initial model does not fit your data well or if the diagnostic plots show issues with the residuals, you may need to iterate and adjust the parameter values. Try different combinations of parameter values and continue to estimate and evaluate the models until you find the best-fitting SARIMA model.\n",
    "\n",
    "Validation:\n",
    "After selecting the final SARIMA model, perform out-of-sample validation to assess its forecasting accuracy. You can split your data into training and testing sets and compare the model's forecasts to the actual values in the testing set.\n",
    "\n",
    "Finalize the Model:\n",
    "Once you are satisfied with the SARIMA model's performance, finalize the model with the chosen parameter values and use it for forecasting future data points.\n",
    "\n",
    "Keep in mind that determining SARIMA parameters can be both an art and a science, and it may require some trial and error. Additionally, domain knowledge about the data and the underlying processes can be helpful in guiding the parameter selection process.\n",
    "\n",
    "\n",
    "\n",
    "\n",
    "\n"
   ]
  },
  {
   "cell_type": "code",
   "execution_count": null,
   "id": "bfc62aa1",
   "metadata": {},
   "outputs": [],
   "source": []
  }
 ],
 "metadata": {
  "kernelspec": {
   "display_name": "Python 3 (ipykernel)",
   "language": "python",
   "name": "python3"
  },
  "language_info": {
   "codemirror_mode": {
    "name": "ipython",
    "version": 3
   },
   "file_extension": ".py",
   "mimetype": "text/x-python",
   "name": "python",
   "nbconvert_exporter": "python",
   "pygments_lexer": "ipython3",
   "version": "3.10.6"
  },
  "toc": {
   "base_numbering": 1,
   "nav_menu": {},
   "number_sections": true,
   "sideBar": true,
   "skip_h1_title": false,
   "title_cell": "Table of Contents",
   "title_sidebar": "Contents",
   "toc_cell": false,
   "toc_position": {},
   "toc_section_display": true,
   "toc_window_display": false
  }
 },
 "nbformat": 4,
 "nbformat_minor": 5
}
