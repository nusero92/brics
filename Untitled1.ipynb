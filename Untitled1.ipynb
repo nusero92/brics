{
 "cells": [
  {
   "cell_type": "code",
   "execution_count": 1,
   "id": "ccfc29ea-3c17-47e4-9fa5-4ab62584ba24",
   "metadata": {},
   "outputs": [
    {
     "name": "stdout",
     "output_type": "stream",
     "text": [
      "Requirement already satisfied: beautifulsoup4 in ./lib/python3.10/site-packages (4.12.2)\n",
      "Requirement already satisfied: requests in ./lib/python3.10/site-packages (2.31.0)\n",
      "Requirement already satisfied: soupsieve>1.2 in ./lib/python3.10/site-packages (from beautifulsoup4) (2.5)\n",
      "Requirement already satisfied: charset-normalizer<4,>=2 in ./lib/python3.10/site-packages (from requests) (3.3.1)\n",
      "Requirement already satisfied: idna<4,>=2.5 in ./lib/python3.10/site-packages (from requests) (3.4)\n",
      "Requirement already satisfied: urllib3<3,>=1.21.1 in ./lib/python3.10/site-packages (from requests) (2.0.7)\n",
      "Requirement already satisfied: certifi>=2017.4.17 in ./lib/python3.10/site-packages (from requests) (2023.7.22)\n"
     ]
    }
   ],
   "source": [
    "!pip install beautifulsoup4 requests\n"
   ]
  },
  {
   "cell_type": "code",
   "execution_count": 2,
   "id": "799138b5-f002-4e26-9a22-e46fa1c7f8e9",
   "metadata": {},
   "outputs": [],
   "source": [
    "from bs4 import BeautifulSoup\n",
    "import requests\n"
   ]
  },
  {
   "cell_type": "code",
   "execution_count": null,
   "id": "cd82ecc0-5074-4432-a19a-e87c061022d3",
   "metadata": {},
   "outputs": [],
   "source": [
    "url=\"print(soup.prettify())\n",
    "\""
   ]
  },
  {
   "cell_type": "code",
   "execution_count": 7,
   "id": "e9bc88dd-4302-4fc6-b9a2-cdcc2600533b",
   "metadata": {},
   "outputs": [],
   "source": [
    "url =\"https://data.binance.vision/?prefix=data/spot/monthly/klines/XRPUSDT/1d/\"  # Replace with the URL of the webpage you want to scrape\n",
    "response = requests.get(url)\n",
    "\n",
    "# Check for a valid response\n",
    "if response.status_code == 200:\n",
    "    soup = BeautifulSoup(response.content, 'html.parser')\n",
    "else:\n",
    "    print(f'Failed to retrieve page with status code: {response.status_code}')\n"
   ]
  },
  {
   "cell_type": "code",
   "execution_count": 10,
   "id": "3264aa05-b438-4c17-afe3-997acc865b97",
   "metadata": {},
   "outputs": [
    {
     "data": {
      "text/plain": [
       "<!DOCTYPE html>\n",
       "\n",
       "<html>\n",
       "<head>\n",
       "<title>Binance Data Collection</title>\n",
       "<link href=\"bootstrap.min.css\" rel=\"stylesheet\"/>\n",
       "</head>\n",
       "<body>\n",
       "<nav class=\"navbar navbar-dark bg-dark\">\n",
       "<div class=\"container-md\">\n",
       "<div class=\"row justify-content-between\" style=\"width: 100%\">\n",
       "<div class=\"col-sm\">\n",
       "<a href=\"/\"><img alt=\"\" class=\"d-inline-block align-top\" height=\"30\" src=\"logo.png\"/></a>\n",
       "<span class=\"navbar-brand\" style=\"padding-left: 10px;\">Market Data</span>\n",
       "</div>\n",
       "<div class=\"col-sm\" style=\"text-align: right\">\n",
       "<a data-original-title=\"Public data document\" data-toggle=\"tooltip\" href=\"https://github.com/binance/binance-public-data/\" title=\"\">\n",
       "<svg aria-hidden=\"true\" class=\"octicon octicon-mark-github v-align-middle\" height=\"25\" style=\"fill: #fff\" version=\"1.1\" viewbox=\"0 0 16 16\" width=\"25\">\n",
       "<path d=\"M8 0C3.58 0 0 3.58 0 8c0 3.54 2.29 6.53 5.47 7.59.4.07.55-.17.55-.38 0-.19-.01-.82-.01-1.49-2.01.37-2.53-.49-2.69-.94-.09-.23-.48-.94-.82-1.13-.28-.15-.68-.52-.01-.53.63-.01 1.08.58 1.23.82.72 1.21 1.87.87 2.33.66.07-.52.28-.87.51-1.07-1.78-.2-3.64-.89-3.64-3.95 0-.87.31-1.59.82-2.15-.08-.2-.36-1.02.08-2.12 0 0 .67-.21 2.2.82.64-.18 1.32-.27 2-.27.68 0 1.36.09 2 .27 1.53-1.04 2.2-.82 2.2-.82.44 1.1.16 1.92.08 2.12.51.56.82 1.27.82 2.15 0 3.07-1.87 3.75-3.65 3.95.29.25.54.73.54 1.48 0 1.07-.01 1.93-.01 2.2 0 .21.15.46.55.38A8.013 8.013 0 0016 8c0-4.42-3.58-8-8-8z\" fill-rule=\"evenodd\"></path>\n",
       "</svg>\n",
       "</a>\n",
       "</div>\n",
       "</div>\n",
       "</div>\n",
       "</nav>\n",
       "<div class=\"container-md\">\n",
       "<div class=\"h6\" id=\"navigation\" style=\"margin-top: .8rem\"></div>\n",
       "<table class=\"table table-hover\">\n",
       "<thead>\n",
       "<tr>\n",
       "<th scope=\"col\">Item</th>\n",
       "<th scope=\"col\">Size</th>\n",
       "<th scope=\"col\">Last Modified</th>\n",
       "</tr>\n",
       "</thead>\n",
       "<tbody id=\"listing\"></tbody>\n",
       "</table>\n",
       "</div>\n",
       "<script src=\"jquery.min.js\" type=\"text/javascript\"></script>\n",
       "<script src=\"bootstrap.bundle.min.js\" type=\"text/javascript\"></script>\n",
       "<script type=\"text/javascript\">\n",
       "    var S3BL_IGNORE_PATH = true;\n",
       "    var BUCKET_URL = 'https://s3-ap-northeast-1.amazonaws.com/data.binance.vision';\n",
       "    var BUCKET_WEBSITE_URL = 'https://data.binance.vision'\n",
       "    var S3B_SORT = 'A2Z';\n",
       "    var EXCLUDE_FILE = 'index.html'; \n",
       "    var S3B_ROOT_DIR = 'data/';\n",
       "    $(function () {\n",
       "      $('[data-toggle=\"tooltip\"]').tooltip()\n",
       "    })\n",
       "  </script>\n",
       "<script src=\"list.js\" type=\"text/javascript\"></script>\n",
       "</body>\n",
       "</html>"
      ]
     },
     "execution_count": 10,
     "metadata": {},
     "output_type": "execute_result"
    }
   ],
   "source": [
    "soup"
   ]
  },
  {
   "cell_type": "code",
   "execution_count": 12,
   "id": "801ab512-3963-476d-9843-5387f2aff991",
   "metadata": {},
   "outputs": [
    {
     "name": "stdout",
     "output_type": "stream",
     "text": [
      "\n"
     ]
    },
    {
     "data": {
      "text/plain": [
       "<tbody id=\"listing\"></tbody>"
      ]
     },
     "execution_count": 12,
     "metadata": {},
     "output_type": "execute_result"
    }
   ],
   "source": [
    "# Example: Extract all paragraph text\n",
    "for folder in soup.find_all('tbody'):\n",
    "    print(folder.text)\n",
    "\n",
    "# Example: Extract text from the first heading\n",
    "#heading = soup.find('h1')\n",
    "#if heading:\n",
    "    #print(heading.text)\n",
    "\n",
    "# Example: Extract all links\n",
    "#for a in soup.find_all('a', href=True):\n",
    "    #print(a['href'])\n",
    "folder"
   ]
  },
  {
   "cell_type": "code",
   "execution_count": null,
   "id": "7f240fb3-7e59-4758-ac27-c9f8d3f8fafe",
   "metadata": {},
   "outputs": [],
   "source": [
    "print(soup.prettify())\n"
   ]
  },
  {
   "cell_type": "code",
   "execution_count": null,
   "id": "f30001a6-0d35-44c8-aaaf-494e651ef735",
   "metadata": {},
   "outputs": [],
   "source": []
  }
 ],
 "metadata": {
  "kernelspec": {
   "display_name": "Python 3 (ipykernel)",
   "language": "python",
   "name": "python3"
  },
  "language_info": {
   "codemirror_mode": {
    "name": "ipython",
    "version": 3
   },
   "file_extension": ".py",
   "mimetype": "text/x-python",
   "name": "python",
   "nbconvert_exporter": "python",
   "pygments_lexer": "ipython3",
   "version": "3.10.6"
  }
 },
 "nbformat": 4,
 "nbformat_minor": 5
}
